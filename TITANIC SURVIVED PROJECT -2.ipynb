{
 "cells": [
  {
   "cell_type": "code",
   "execution_count": 1,
   "id": "a42276b4",
   "metadata": {},
   "outputs": [],
   "source": [
    "import numpy as np\n",
    "import pandas as pd\n",
    "import matplotlib.pyplot as plt\n",
    "import seaborn as sns\n",
    "import warnings\n",
    "warnings.filterwarnings('ignore')"
   ]
  },
  {
   "cell_type": "markdown",
   "id": "65a1c8e9",
   "metadata": {},
   "source": [
    "# Now we import our dataset Titanic Survived"
   ]
  },
  {
   "cell_type": "code",
   "execution_count": 2,
   "id": "b9a209b9",
   "metadata": {},
   "outputs": [
    {
     "data": {
      "text/html": [
       "<div>\n",
       "<style scoped>\n",
       "    .dataframe tbody tr th:only-of-type {\n",
       "        vertical-align: middle;\n",
       "    }\n",
       "\n",
       "    .dataframe tbody tr th {\n",
       "        vertical-align: top;\n",
       "    }\n",
       "\n",
       "    .dataframe thead th {\n",
       "        text-align: right;\n",
       "    }\n",
       "</style>\n",
       "<table border=\"1\" class=\"dataframe\">\n",
       "  <thead>\n",
       "    <tr style=\"text-align: right;\">\n",
       "      <th></th>\n",
       "      <th>PassengerId</th>\n",
       "      <th>Survived</th>\n",
       "      <th>Pclass</th>\n",
       "      <th>Name</th>\n",
       "      <th>Sex</th>\n",
       "      <th>Age</th>\n",
       "      <th>SibSp</th>\n",
       "      <th>Parch</th>\n",
       "      <th>Ticket</th>\n",
       "      <th>Fare</th>\n",
       "      <th>Cabin</th>\n",
       "      <th>Embarked</th>\n",
       "    </tr>\n",
       "  </thead>\n",
       "  <tbody>\n",
       "    <tr>\n",
       "      <th>0</th>\n",
       "      <td>1</td>\n",
       "      <td>0</td>\n",
       "      <td>3</td>\n",
       "      <td>Braund, Mr. Owen Harris</td>\n",
       "      <td>male</td>\n",
       "      <td>22.0</td>\n",
       "      <td>1</td>\n",
       "      <td>0</td>\n",
       "      <td>A/5 21171</td>\n",
       "      <td>7.2500</td>\n",
       "      <td>NaN</td>\n",
       "      <td>S</td>\n",
       "    </tr>\n",
       "    <tr>\n",
       "      <th>1</th>\n",
       "      <td>2</td>\n",
       "      <td>1</td>\n",
       "      <td>1</td>\n",
       "      <td>Cumings, Mrs. John Bradley (Florence Briggs Th...</td>\n",
       "      <td>female</td>\n",
       "      <td>38.0</td>\n",
       "      <td>1</td>\n",
       "      <td>0</td>\n",
       "      <td>PC 17599</td>\n",
       "      <td>71.2833</td>\n",
       "      <td>C85</td>\n",
       "      <td>C</td>\n",
       "    </tr>\n",
       "    <tr>\n",
       "      <th>2</th>\n",
       "      <td>3</td>\n",
       "      <td>1</td>\n",
       "      <td>3</td>\n",
       "      <td>Heikkinen, Miss. Laina</td>\n",
       "      <td>female</td>\n",
       "      <td>26.0</td>\n",
       "      <td>0</td>\n",
       "      <td>0</td>\n",
       "      <td>STON/O2. 3101282</td>\n",
       "      <td>7.9250</td>\n",
       "      <td>NaN</td>\n",
       "      <td>S</td>\n",
       "    </tr>\n",
       "    <tr>\n",
       "      <th>3</th>\n",
       "      <td>4</td>\n",
       "      <td>1</td>\n",
       "      <td>1</td>\n",
       "      <td>Futrelle, Mrs. Jacques Heath (Lily May Peel)</td>\n",
       "      <td>female</td>\n",
       "      <td>35.0</td>\n",
       "      <td>1</td>\n",
       "      <td>0</td>\n",
       "      <td>113803</td>\n",
       "      <td>53.1000</td>\n",
       "      <td>C123</td>\n",
       "      <td>S</td>\n",
       "    </tr>\n",
       "    <tr>\n",
       "      <th>4</th>\n",
       "      <td>5</td>\n",
       "      <td>0</td>\n",
       "      <td>3</td>\n",
       "      <td>Allen, Mr. William Henry</td>\n",
       "      <td>male</td>\n",
       "      <td>35.0</td>\n",
       "      <td>0</td>\n",
       "      <td>0</td>\n",
       "      <td>373450</td>\n",
       "      <td>8.0500</td>\n",
       "      <td>NaN</td>\n",
       "      <td>S</td>\n",
       "    </tr>\n",
       "    <tr>\n",
       "      <th>...</th>\n",
       "      <td>...</td>\n",
       "      <td>...</td>\n",
       "      <td>...</td>\n",
       "      <td>...</td>\n",
       "      <td>...</td>\n",
       "      <td>...</td>\n",
       "      <td>...</td>\n",
       "      <td>...</td>\n",
       "      <td>...</td>\n",
       "      <td>...</td>\n",
       "      <td>...</td>\n",
       "      <td>...</td>\n",
       "    </tr>\n",
       "    <tr>\n",
       "      <th>886</th>\n",
       "      <td>887</td>\n",
       "      <td>0</td>\n",
       "      <td>2</td>\n",
       "      <td>Montvila, Rev. Juozas</td>\n",
       "      <td>male</td>\n",
       "      <td>27.0</td>\n",
       "      <td>0</td>\n",
       "      <td>0</td>\n",
       "      <td>211536</td>\n",
       "      <td>13.0000</td>\n",
       "      <td>NaN</td>\n",
       "      <td>S</td>\n",
       "    </tr>\n",
       "    <tr>\n",
       "      <th>887</th>\n",
       "      <td>888</td>\n",
       "      <td>1</td>\n",
       "      <td>1</td>\n",
       "      <td>Graham, Miss. Margaret Edith</td>\n",
       "      <td>female</td>\n",
       "      <td>19.0</td>\n",
       "      <td>0</td>\n",
       "      <td>0</td>\n",
       "      <td>112053</td>\n",
       "      <td>30.0000</td>\n",
       "      <td>B42</td>\n",
       "      <td>S</td>\n",
       "    </tr>\n",
       "    <tr>\n",
       "      <th>888</th>\n",
       "      <td>889</td>\n",
       "      <td>0</td>\n",
       "      <td>3</td>\n",
       "      <td>Johnston, Miss. Catherine Helen \"Carrie\"</td>\n",
       "      <td>female</td>\n",
       "      <td>NaN</td>\n",
       "      <td>1</td>\n",
       "      <td>2</td>\n",
       "      <td>W./C. 6607</td>\n",
       "      <td>23.4500</td>\n",
       "      <td>NaN</td>\n",
       "      <td>S</td>\n",
       "    </tr>\n",
       "    <tr>\n",
       "      <th>889</th>\n",
       "      <td>890</td>\n",
       "      <td>1</td>\n",
       "      <td>1</td>\n",
       "      <td>Behr, Mr. Karl Howell</td>\n",
       "      <td>male</td>\n",
       "      <td>26.0</td>\n",
       "      <td>0</td>\n",
       "      <td>0</td>\n",
       "      <td>111369</td>\n",
       "      <td>30.0000</td>\n",
       "      <td>C148</td>\n",
       "      <td>C</td>\n",
       "    </tr>\n",
       "    <tr>\n",
       "      <th>890</th>\n",
       "      <td>891</td>\n",
       "      <td>0</td>\n",
       "      <td>3</td>\n",
       "      <td>Dooley, Mr. Patrick</td>\n",
       "      <td>male</td>\n",
       "      <td>32.0</td>\n",
       "      <td>0</td>\n",
       "      <td>0</td>\n",
       "      <td>370376</td>\n",
       "      <td>7.7500</td>\n",
       "      <td>NaN</td>\n",
       "      <td>Q</td>\n",
       "    </tr>\n",
       "  </tbody>\n",
       "</table>\n",
       "<p>891 rows × 12 columns</p>\n",
       "</div>"
      ],
      "text/plain": [
       "     PassengerId  Survived  Pclass  \\\n",
       "0              1         0       3   \n",
       "1              2         1       1   \n",
       "2              3         1       3   \n",
       "3              4         1       1   \n",
       "4              5         0       3   \n",
       "..           ...       ...     ...   \n",
       "886          887         0       2   \n",
       "887          888         1       1   \n",
       "888          889         0       3   \n",
       "889          890         1       1   \n",
       "890          891         0       3   \n",
       "\n",
       "                                                  Name     Sex   Age  SibSp  \\\n",
       "0                              Braund, Mr. Owen Harris    male  22.0      1   \n",
       "1    Cumings, Mrs. John Bradley (Florence Briggs Th...  female  38.0      1   \n",
       "2                               Heikkinen, Miss. Laina  female  26.0      0   \n",
       "3         Futrelle, Mrs. Jacques Heath (Lily May Peel)  female  35.0      1   \n",
       "4                             Allen, Mr. William Henry    male  35.0      0   \n",
       "..                                                 ...     ...   ...    ...   \n",
       "886                              Montvila, Rev. Juozas    male  27.0      0   \n",
       "887                       Graham, Miss. Margaret Edith  female  19.0      0   \n",
       "888           Johnston, Miss. Catherine Helen \"Carrie\"  female   NaN      1   \n",
       "889                              Behr, Mr. Karl Howell    male  26.0      0   \n",
       "890                                Dooley, Mr. Patrick    male  32.0      0   \n",
       "\n",
       "     Parch            Ticket     Fare Cabin Embarked  \n",
       "0        0         A/5 21171   7.2500   NaN        S  \n",
       "1        0          PC 17599  71.2833   C85        C  \n",
       "2        0  STON/O2. 3101282   7.9250   NaN        S  \n",
       "3        0            113803  53.1000  C123        S  \n",
       "4        0            373450   8.0500   NaN        S  \n",
       "..     ...               ...      ...   ...      ...  \n",
       "886      0            211536  13.0000   NaN        S  \n",
       "887      0            112053  30.0000   B42        S  \n",
       "888      2        W./C. 6607  23.4500   NaN        S  \n",
       "889      0            111369  30.0000  C148        C  \n",
       "890      0            370376   7.7500   NaN        Q  \n",
       "\n",
       "[891 rows x 12 columns]"
      ]
     },
     "execution_count": 2,
     "metadata": {},
     "output_type": "execute_result"
    }
   ],
   "source": [
    "titanic=pd.read_csv(r\"https://raw.githubusercontent.com/dsrscientist/dataset1/master/titanic_train.csv\")\n",
    "titanic"
   ]
  },
  {
   "cell_type": "code",
   "execution_count": 3,
   "id": "aa70ecc8",
   "metadata": {},
   "outputs": [
    {
     "data": {
      "text/plain": [
       "Index(['PassengerId', 'Survived', 'Pclass', 'Name', 'Sex', 'Age', 'SibSp',\n",
       "       'Parch', 'Ticket', 'Fare', 'Cabin', 'Embarked'],\n",
       "      dtype='object')"
      ]
     },
     "execution_count": 3,
     "metadata": {},
     "output_type": "execute_result"
    }
   ],
   "source": [
    "titanic.columns"
   ]
  },
  {
   "cell_type": "code",
   "execution_count": 4,
   "id": "67d2874f",
   "metadata": {},
   "outputs": [
    {
     "data": {
      "text/plain": [
       "array([3, 1, 2], dtype=int64)"
      ]
     },
     "execution_count": 4,
     "metadata": {},
     "output_type": "execute_result"
    }
   ],
   "source": [
    "titanic[\"Pclass\"].unique()"
   ]
  },
  {
   "cell_type": "code",
   "execution_count": 5,
   "id": "d50a3127",
   "metadata": {},
   "outputs": [
    {
     "data": {
      "text/plain": [
       "0"
      ]
     },
     "execution_count": 5,
     "metadata": {},
     "output_type": "execute_result"
    }
   ],
   "source": [
    "titanic[\"PassengerId\"].duplicated().sum()"
   ]
  },
  {
   "cell_type": "code",
   "execution_count": 6,
   "id": "f11111d5",
   "metadata": {},
   "outputs": [
    {
     "data": {
      "text/plain": [
       "array([1, 0, 3, 4, 2, 5, 8], dtype=int64)"
      ]
     },
     "execution_count": 6,
     "metadata": {},
     "output_type": "execute_result"
    }
   ],
   "source": [
    "titanic[\"SibSp\"].unique()"
   ]
  },
  {
   "cell_type": "code",
   "execution_count": 7,
   "id": "dc2891fa",
   "metadata": {},
   "outputs": [
    {
     "name": "stdout",
     "output_type": "stream",
     "text": [
      "<class 'pandas.core.frame.DataFrame'>\n",
      "RangeIndex: 891 entries, 0 to 890\n",
      "Data columns (total 12 columns):\n",
      " #   Column       Non-Null Count  Dtype  \n",
      "---  ------       --------------  -----  \n",
      " 0   PassengerId  891 non-null    int64  \n",
      " 1   Survived     891 non-null    int64  \n",
      " 2   Pclass       891 non-null    int64  \n",
      " 3   Name         891 non-null    object \n",
      " 4   Sex          891 non-null    object \n",
      " 5   Age          714 non-null    float64\n",
      " 6   SibSp        891 non-null    int64  \n",
      " 7   Parch        891 non-null    int64  \n",
      " 8   Ticket       891 non-null    object \n",
      " 9   Fare         891 non-null    float64\n",
      " 10  Cabin        204 non-null    object \n",
      " 11  Embarked     889 non-null    object \n",
      "dtypes: float64(2), int64(5), object(5)\n",
      "memory usage: 83.7+ KB\n"
     ]
    }
   ],
   "source": [
    "titanic.info()"
   ]
  },
  {
   "cell_type": "code",
   "execution_count": 8,
   "id": "5f4b4e33",
   "metadata": {},
   "outputs": [
    {
     "data": {
      "text/plain": [
       "PassengerId      0\n",
       "Survived         0\n",
       "Pclass           0\n",
       "Name             0\n",
       "Sex              0\n",
       "Age            177\n",
       "SibSp            0\n",
       "Parch            0\n",
       "Ticket           0\n",
       "Fare             0\n",
       "Cabin          687\n",
       "Embarked         2\n",
       "dtype: int64"
      ]
     },
     "execution_count": 8,
     "metadata": {},
     "output_type": "execute_result"
    }
   ],
   "source": [
    "titanic.isnull().sum()"
   ]
  },
  {
   "cell_type": "markdown",
   "id": "5b477414",
   "metadata": {},
   "source": [
    " As we can check that \"Age\" , \"Cabin\", And \"Embarked\" have some null values especially the \" cabin\" section and \" age \" section\n",
    " "
   ]
  },
  {
   "cell_type": "code",
   "execution_count": 9,
   "id": "360e06f2",
   "metadata": {},
   "outputs": [
    {
     "data": {
      "text/plain": [
       "0    549\n",
       "1    342\n",
       "Name: Survived, dtype: int64"
      ]
     },
     "execution_count": 9,
     "metadata": {},
     "output_type": "execute_result"
    }
   ],
   "source": [
    "titanic[\"Survived\"].value_counts()"
   ]
  },
  {
   "cell_type": "markdown",
   "id": "d60aaed1",
   "metadata": {},
   "source": [
    "As you can see that total survived passengers are 342 and loss passengers are 542"
   ]
  },
  {
   "cell_type": "code",
   "execution_count": 10,
   "id": "2f9360bc",
   "metadata": {},
   "outputs": [
    {
     "data": {
      "text/plain": [
       "male      577\n",
       "female    314\n",
       "Name: Sex, dtype: int64"
      ]
     },
     "execution_count": 10,
     "metadata": {},
     "output_type": "execute_result"
    }
   ],
   "source": [
    "titanic[\"Sex\"].value_counts()"
   ]
  },
  {
   "cell_type": "markdown",
   "id": "f7902bb7",
   "metadata": {},
   "source": [
    "So there are 577 male and 314 female but let;s check how many female passengers amd male passengers survived"
   ]
  },
  {
   "cell_type": "code",
   "execution_count": 11,
   "id": "2a46271d",
   "metadata": {},
   "outputs": [],
   "source": [
    "female_surv=titanic[(titanic[\"Sex\"]==\"female\") & (titanic[\"Survived\"]==1)]\n",
    "male_sur= titanic[(titanic[\"Sex\"]==\"male\") & (titanic[\"Survived\"]==1)]"
   ]
  },
  {
   "cell_type": "code",
   "execution_count": 12,
   "id": "1968b4fa",
   "metadata": {},
   "outputs": [
    {
     "name": "stdout",
     "output_type": "stream",
     "text": [
      " total female passengers survived are:-  233\n",
      " total female passengers survived are:-  109\n"
     ]
    }
   ],
   "source": [
    "print(\" total female passengers survived are:- \", len(female_surv))\n",
    "print(\" total female passengers survived are:- \" ,len(male_sur))"
   ]
  },
  {
   "cell_type": "code",
   "execution_count": 13,
   "id": "af70bf27",
   "metadata": {},
   "outputs": [
    {
     "data": {
      "text/plain": [
       "74.20382165605095"
      ]
     },
     "execution_count": 13,
     "metadata": {},
     "output_type": "execute_result"
    }
   ],
   "source": [
    "percent_female_surv=(len(female_surv)/314)*100\n",
    "percent_female_surv"
   ]
  },
  {
   "cell_type": "markdown",
   "id": "5b125cfb",
   "metadata": {},
   "source": [
    "1. As you can see out of 342 passengers female survivor was more and male surviior was less ( \" so male passengers not survived than fenmale)\n",
    "\n",
    "2.  As you can see that Out of 314 almost 233 female passenger had survived IT MEANS 74% FEMALE SURVIVED AND REMANING DIDN'T "
   ]
  },
  {
   "cell_type": "code",
   "execution_count": 14,
   "id": "63144dc3",
   "metadata": {},
   "outputs": [
    {
     "data": {
      "text/html": [
       "<div>\n",
       "<style scoped>\n",
       "    .dataframe tbody tr th:only-of-type {\n",
       "        vertical-align: middle;\n",
       "    }\n",
       "\n",
       "    .dataframe tbody tr th {\n",
       "        vertical-align: top;\n",
       "    }\n",
       "\n",
       "    .dataframe thead th {\n",
       "        text-align: right;\n",
       "    }\n",
       "</style>\n",
       "<table border=\"1\" class=\"dataframe\">\n",
       "  <thead>\n",
       "    <tr style=\"text-align: right;\">\n",
       "      <th>Pclass</th>\n",
       "      <th>1</th>\n",
       "      <th>2</th>\n",
       "      <th>3</th>\n",
       "    </tr>\n",
       "    <tr>\n",
       "      <th>Survived</th>\n",
       "      <th></th>\n",
       "      <th></th>\n",
       "      <th></th>\n",
       "    </tr>\n",
       "  </thead>\n",
       "  <tbody>\n",
       "    <tr>\n",
       "      <th>0</th>\n",
       "      <td>80</td>\n",
       "      <td>97</td>\n",
       "      <td>372</td>\n",
       "    </tr>\n",
       "    <tr>\n",
       "      <th>1</th>\n",
       "      <td>136</td>\n",
       "      <td>87</td>\n",
       "      <td>119</td>\n",
       "    </tr>\n",
       "  </tbody>\n",
       "</table>\n",
       "</div>"
      ],
      "text/plain": [
       "Pclass      1   2    3\n",
       "Survived              \n",
       "0          80  97  372\n",
       "1         136  87  119"
      ]
     },
     "execution_count": 14,
     "metadata": {},
     "output_type": "execute_result"
    }
   ],
   "source": [
    "class_surv=pd.crosstab(titanic[\"Survived\"],titanic[\"Pclass\"])\n",
    "class_surv"
   ]
  },
  {
   "cell_type": "markdown",
   "id": "0cebdae6",
   "metadata": {},
   "source": [
    "As tou can see  from above table that \"first class people\" have more survival rate then \"3rd class\" people and \"3rd class people have more no of not survived poeple than any other class"
   ]
  },
  {
   "cell_type": "code",
   "execution_count": 15,
   "id": "63c66aab",
   "metadata": {},
   "outputs": [
    {
     "name": "stdout",
     "output_type": "stream",
     "text": [
      "Sex     Pclass\n",
      "female  1         0.968085\n",
      "        2         0.921053\n",
      "        3         0.500000\n",
      "male    1         0.368852\n",
      "        2         0.157407\n",
      "        3         0.135447\n",
      "Name: Survived, dtype: float64\n"
     ]
    }
   ],
   "source": [
    "grouped_data = titanic.groupby(['Sex', 'Pclass'])['Survived'].mean()\n",
    "print(grouped_data)"
   ]
  },
  {
   "cell_type": "code",
   "execution_count": 16,
   "id": "a3382bb4",
   "metadata": {},
   "outputs": [
    {
     "name": "stdout",
     "output_type": "stream",
     "text": [
      "                       Age       Fare\n",
      "Pclass Survived                      \n",
      "1      0         43.695312  64.684007\n",
      "       1         35.368197  95.608029\n",
      "2      0         33.544444  19.412328\n",
      "       1         25.901566  22.055700\n",
      "3      0         26.555556  13.669364\n",
      "       1         20.646118  13.694887\n"
     ]
    }
   ],
   "source": [
    "group_table = titanic.groupby(['Pclass','Survived'])['Age', 'Fare'].mean()\n",
    "print(group_table)"
   ]
  },
  {
   "cell_type": "markdown",
   "id": "15f0823a",
   "metadata": {},
   "source": [
    "As we can clealry say that in the first class AHving more fare and Age of 35 years have more Survived thn any other class obviosly old people have less survival rate samer as in second class Fare is age 25  having more survival \n",
    "\n",
    "Generally we in every class the younger people have more chance to survive tha any other class , and also in third class we can see that therre are more number of younger people than any other class"
   ]
  },
  {
   "cell_type": "code",
   "execution_count": 17,
   "id": "a5c1e57a",
   "metadata": {},
   "outputs": [
    {
     "data": {
      "text/html": [
       "<div>\n",
       "<style scoped>\n",
       "    .dataframe tbody tr th:only-of-type {\n",
       "        vertical-align: middle;\n",
       "    }\n",
       "\n",
       "    .dataframe tbody tr th {\n",
       "        vertical-align: top;\n",
       "    }\n",
       "\n",
       "    .dataframe thead th {\n",
       "        text-align: right;\n",
       "    }\n",
       "</style>\n",
       "<table border=\"1\" class=\"dataframe\">\n",
       "  <thead>\n",
       "    <tr style=\"text-align: right;\">\n",
       "      <th>Pclass</th>\n",
       "      <th>1</th>\n",
       "      <th>2</th>\n",
       "      <th>3</th>\n",
       "    </tr>\n",
       "    <tr>\n",
       "      <th>Sex</th>\n",
       "      <th></th>\n",
       "      <th></th>\n",
       "      <th></th>\n",
       "    </tr>\n",
       "  </thead>\n",
       "  <tbody>\n",
       "    <tr>\n",
       "      <th>female</th>\n",
       "      <td>94</td>\n",
       "      <td>76</td>\n",
       "      <td>144</td>\n",
       "    </tr>\n",
       "    <tr>\n",
       "      <th>male</th>\n",
       "      <td>122</td>\n",
       "      <td>108</td>\n",
       "      <td>347</td>\n",
       "    </tr>\n",
       "  </tbody>\n",
       "</table>\n",
       "</div>"
      ],
      "text/plain": [
       "Pclass    1    2    3\n",
       "Sex                  \n",
       "female   94   76  144\n",
       "male    122  108  347"
      ]
     },
     "execution_count": 17,
     "metadata": {},
     "output_type": "execute_result"
    }
   ],
   "source": [
    "class_sex=pd.crosstab(titanic[\"Sex\"],titanic[\"Pclass\"])\n",
    "class_sex"
   ]
  },
  {
   "cell_type": "code",
   "execution_count": 18,
   "id": "5fc20abe",
   "metadata": {},
   "outputs": [
    {
     "data": {
      "text/html": [
       "<div>\n",
       "<style scoped>\n",
       "    .dataframe tbody tr th:only-of-type {\n",
       "        vertical-align: middle;\n",
       "    }\n",
       "\n",
       "    .dataframe tbody tr th {\n",
       "        vertical-align: top;\n",
       "    }\n",
       "\n",
       "    .dataframe thead th {\n",
       "        text-align: right;\n",
       "    }\n",
       "</style>\n",
       "<table border=\"1\" class=\"dataframe\">\n",
       "  <thead>\n",
       "    <tr style=\"text-align: right;\">\n",
       "      <th>SibSp</th>\n",
       "      <th>0</th>\n",
       "      <th>1</th>\n",
       "      <th>2</th>\n",
       "      <th>3</th>\n",
       "      <th>4</th>\n",
       "      <th>5</th>\n",
       "      <th>8</th>\n",
       "    </tr>\n",
       "    <tr>\n",
       "      <th>Survived</th>\n",
       "      <th></th>\n",
       "      <th></th>\n",
       "      <th></th>\n",
       "      <th></th>\n",
       "      <th></th>\n",
       "      <th></th>\n",
       "      <th></th>\n",
       "    </tr>\n",
       "  </thead>\n",
       "  <tbody>\n",
       "    <tr>\n",
       "      <th>0</th>\n",
       "      <td>398</td>\n",
       "      <td>97</td>\n",
       "      <td>15</td>\n",
       "      <td>12</td>\n",
       "      <td>15</td>\n",
       "      <td>5</td>\n",
       "      <td>7</td>\n",
       "    </tr>\n",
       "    <tr>\n",
       "      <th>1</th>\n",
       "      <td>210</td>\n",
       "      <td>112</td>\n",
       "      <td>13</td>\n",
       "      <td>4</td>\n",
       "      <td>3</td>\n",
       "      <td>0</td>\n",
       "      <td>0</td>\n",
       "    </tr>\n",
       "  </tbody>\n",
       "</table>\n",
       "</div>"
      ],
      "text/plain": [
       "SibSp       0    1   2   3   4  5  8\n",
       "Survived                            \n",
       "0         398   97  15  12  15  5  7\n",
       "1         210  112  13   4   3  0  0"
      ]
     },
     "execution_count": 18,
     "metadata": {},
     "output_type": "execute_result"
    }
   ],
   "source": [
    "sibsp_surv=pd.crosstab(titanic[\"Survived\"],titanic[\"SibSp\"])\n",
    "sibsp_surv"
   ]
  },
  {
   "cell_type": "markdown",
   "id": "960ada3c",
   "metadata": {},
   "source": [
    "1. It is very interesting thing to see that the passengers who have no siblings or parents having higher rate of \"not survived\"\n",
    "\n",
    "2. the person who having one sibling have survived int his But generally passengers who having siblings or parents are having nmot good data"
   ]
  },
  {
   "cell_type": "code",
   "execution_count": 19,
   "id": "7e14c2c3",
   "metadata": {},
   "outputs": [
    {
     "data": {
      "text/html": [
       "<div>\n",
       "<style scoped>\n",
       "    .dataframe tbody tr th:only-of-type {\n",
       "        vertical-align: middle;\n",
       "    }\n",
       "\n",
       "    .dataframe tbody tr th {\n",
       "        vertical-align: top;\n",
       "    }\n",
       "\n",
       "    .dataframe thead th {\n",
       "        text-align: right;\n",
       "    }\n",
       "</style>\n",
       "<table border=\"1\" class=\"dataframe\">\n",
       "  <thead>\n",
       "    <tr style=\"text-align: right;\">\n",
       "      <th>Embarked</th>\n",
       "      <th>C</th>\n",
       "      <th>Q</th>\n",
       "      <th>S</th>\n",
       "    </tr>\n",
       "    <tr>\n",
       "      <th>Survived</th>\n",
       "      <th></th>\n",
       "      <th></th>\n",
       "      <th></th>\n",
       "    </tr>\n",
       "  </thead>\n",
       "  <tbody>\n",
       "    <tr>\n",
       "      <th>0</th>\n",
       "      <td>75</td>\n",
       "      <td>47</td>\n",
       "      <td>427</td>\n",
       "    </tr>\n",
       "    <tr>\n",
       "      <th>1</th>\n",
       "      <td>93</td>\n",
       "      <td>30</td>\n",
       "      <td>217</td>\n",
       "    </tr>\n",
       "  </tbody>\n",
       "</table>\n",
       "</div>"
      ],
      "text/plain": [
       "Embarked   C   Q    S\n",
       "Survived             \n",
       "0         75  47  427\n",
       "1         93  30  217"
      ]
     },
     "execution_count": 19,
     "metadata": {},
     "output_type": "execute_result"
    }
   ],
   "source": [
    "embark_surv=pd.crosstab(titanic[\"Survived\"],titanic[\"Embarked\"])\n",
    "embark_surv"
   ]
  },
  {
   "cell_type": "markdown",
   "id": "04ac53a6",
   "metadata": {},
   "source": [
    "As we can clearly see that passengers who have borad from \"Chernbough\" have more survival than any other city like queensland and southampton have very less survival rate and the passengers from southampton also have more boarding than any other city "
   ]
  },
  {
   "cell_type": "code",
   "execution_count": 20,
   "id": "cc219775",
   "metadata": {},
   "outputs": [
    {
     "data": {
      "text/html": [
       "<div>\n",
       "<style scoped>\n",
       "    .dataframe tbody tr th:only-of-type {\n",
       "        vertical-align: middle;\n",
       "    }\n",
       "\n",
       "    .dataframe tbody tr th {\n",
       "        vertical-align: top;\n",
       "    }\n",
       "\n",
       "    .dataframe thead th {\n",
       "        text-align: right;\n",
       "    }\n",
       "</style>\n",
       "<table border=\"1\" class=\"dataframe\">\n",
       "  <thead>\n",
       "    <tr style=\"text-align: right;\">\n",
       "      <th>Embarked</th>\n",
       "      <th>C</th>\n",
       "      <th>Q</th>\n",
       "      <th>S</th>\n",
       "    </tr>\n",
       "    <tr>\n",
       "      <th>Pclass</th>\n",
       "      <th></th>\n",
       "      <th></th>\n",
       "      <th></th>\n",
       "    </tr>\n",
       "  </thead>\n",
       "  <tbody>\n",
       "    <tr>\n",
       "      <th>1</th>\n",
       "      <td>85</td>\n",
       "      <td>2</td>\n",
       "      <td>127</td>\n",
       "    </tr>\n",
       "    <tr>\n",
       "      <th>2</th>\n",
       "      <td>17</td>\n",
       "      <td>3</td>\n",
       "      <td>164</td>\n",
       "    </tr>\n",
       "    <tr>\n",
       "      <th>3</th>\n",
       "      <td>66</td>\n",
       "      <td>72</td>\n",
       "      <td>353</td>\n",
       "    </tr>\n",
       "  </tbody>\n",
       "</table>\n",
       "</div>"
      ],
      "text/plain": [
       "Embarked   C   Q    S\n",
       "Pclass               \n",
       "1         85   2  127\n",
       "2         17   3  164\n",
       "3         66  72  353"
      ]
     },
     "execution_count": 20,
     "metadata": {},
     "output_type": "execute_result"
    }
   ],
   "source": [
    "class_age=pd.crosstab(titanic[\"Pclass\"],titanic[\"Embarked\"])\n",
    "class_age"
   ]
  },
  {
   "cell_type": "markdown",
   "id": "997f51cc",
   "metadata": {},
   "source": [
    "As we can clearly see that passengers from first class board maximum from southhampton >chernbough> Queensland  "
   ]
  },
  {
   "cell_type": "code",
   "execution_count": 21,
   "id": "15fbc01c",
   "metadata": {},
   "outputs": [],
   "source": [
    "# as we know the cabin column data dosen't contribute to our dataset so we will drop the cabin column\n",
    "\n",
    "titanic=titanic.drop(columns=['Cabin'],axis=1)\n"
   ]
  },
  {
   "cell_type": "code",
   "execution_count": 22,
   "id": "f09eb31e",
   "metadata": {},
   "outputs": [
    {
     "data": {
      "text/html": [
       "<div>\n",
       "<style scoped>\n",
       "    .dataframe tbody tr th:only-of-type {\n",
       "        vertical-align: middle;\n",
       "    }\n",
       "\n",
       "    .dataframe tbody tr th {\n",
       "        vertical-align: top;\n",
       "    }\n",
       "\n",
       "    .dataframe thead th {\n",
       "        text-align: right;\n",
       "    }\n",
       "</style>\n",
       "<table border=\"1\" class=\"dataframe\">\n",
       "  <thead>\n",
       "    <tr style=\"text-align: right;\">\n",
       "      <th></th>\n",
       "      <th>PassengerId</th>\n",
       "      <th>Survived</th>\n",
       "      <th>Pclass</th>\n",
       "      <th>Name</th>\n",
       "      <th>Sex</th>\n",
       "      <th>Age</th>\n",
       "      <th>SibSp</th>\n",
       "      <th>Parch</th>\n",
       "      <th>Ticket</th>\n",
       "      <th>Fare</th>\n",
       "      <th>Embarked</th>\n",
       "    </tr>\n",
       "  </thead>\n",
       "  <tbody>\n",
       "    <tr>\n",
       "      <th>0</th>\n",
       "      <td>1</td>\n",
       "      <td>0</td>\n",
       "      <td>3</td>\n",
       "      <td>Braund, Mr. Owen Harris</td>\n",
       "      <td>male</td>\n",
       "      <td>22.0</td>\n",
       "      <td>1</td>\n",
       "      <td>0</td>\n",
       "      <td>A/5 21171</td>\n",
       "      <td>7.2500</td>\n",
       "      <td>S</td>\n",
       "    </tr>\n",
       "    <tr>\n",
       "      <th>1</th>\n",
       "      <td>2</td>\n",
       "      <td>1</td>\n",
       "      <td>1</td>\n",
       "      <td>Cumings, Mrs. John Bradley (Florence Briggs Th...</td>\n",
       "      <td>female</td>\n",
       "      <td>38.0</td>\n",
       "      <td>1</td>\n",
       "      <td>0</td>\n",
       "      <td>PC 17599</td>\n",
       "      <td>71.2833</td>\n",
       "      <td>C</td>\n",
       "    </tr>\n",
       "    <tr>\n",
       "      <th>2</th>\n",
       "      <td>3</td>\n",
       "      <td>1</td>\n",
       "      <td>3</td>\n",
       "      <td>Heikkinen, Miss. Laina</td>\n",
       "      <td>female</td>\n",
       "      <td>26.0</td>\n",
       "      <td>0</td>\n",
       "      <td>0</td>\n",
       "      <td>STON/O2. 3101282</td>\n",
       "      <td>7.9250</td>\n",
       "      <td>S</td>\n",
       "    </tr>\n",
       "    <tr>\n",
       "      <th>3</th>\n",
       "      <td>4</td>\n",
       "      <td>1</td>\n",
       "      <td>1</td>\n",
       "      <td>Futrelle, Mrs. Jacques Heath (Lily May Peel)</td>\n",
       "      <td>female</td>\n",
       "      <td>35.0</td>\n",
       "      <td>1</td>\n",
       "      <td>0</td>\n",
       "      <td>113803</td>\n",
       "      <td>53.1000</td>\n",
       "      <td>S</td>\n",
       "    </tr>\n",
       "    <tr>\n",
       "      <th>4</th>\n",
       "      <td>5</td>\n",
       "      <td>0</td>\n",
       "      <td>3</td>\n",
       "      <td>Allen, Mr. William Henry</td>\n",
       "      <td>male</td>\n",
       "      <td>35.0</td>\n",
       "      <td>0</td>\n",
       "      <td>0</td>\n",
       "      <td>373450</td>\n",
       "      <td>8.0500</td>\n",
       "      <td>S</td>\n",
       "    </tr>\n",
       "    <tr>\n",
       "      <th>...</th>\n",
       "      <td>...</td>\n",
       "      <td>...</td>\n",
       "      <td>...</td>\n",
       "      <td>...</td>\n",
       "      <td>...</td>\n",
       "      <td>...</td>\n",
       "      <td>...</td>\n",
       "      <td>...</td>\n",
       "      <td>...</td>\n",
       "      <td>...</td>\n",
       "      <td>...</td>\n",
       "    </tr>\n",
       "    <tr>\n",
       "      <th>886</th>\n",
       "      <td>887</td>\n",
       "      <td>0</td>\n",
       "      <td>2</td>\n",
       "      <td>Montvila, Rev. Juozas</td>\n",
       "      <td>male</td>\n",
       "      <td>27.0</td>\n",
       "      <td>0</td>\n",
       "      <td>0</td>\n",
       "      <td>211536</td>\n",
       "      <td>13.0000</td>\n",
       "      <td>S</td>\n",
       "    </tr>\n",
       "    <tr>\n",
       "      <th>887</th>\n",
       "      <td>888</td>\n",
       "      <td>1</td>\n",
       "      <td>1</td>\n",
       "      <td>Graham, Miss. Margaret Edith</td>\n",
       "      <td>female</td>\n",
       "      <td>19.0</td>\n",
       "      <td>0</td>\n",
       "      <td>0</td>\n",
       "      <td>112053</td>\n",
       "      <td>30.0000</td>\n",
       "      <td>S</td>\n",
       "    </tr>\n",
       "    <tr>\n",
       "      <th>888</th>\n",
       "      <td>889</td>\n",
       "      <td>0</td>\n",
       "      <td>3</td>\n",
       "      <td>Johnston, Miss. Catherine Helen \"Carrie\"</td>\n",
       "      <td>female</td>\n",
       "      <td>NaN</td>\n",
       "      <td>1</td>\n",
       "      <td>2</td>\n",
       "      <td>W./C. 6607</td>\n",
       "      <td>23.4500</td>\n",
       "      <td>S</td>\n",
       "    </tr>\n",
       "    <tr>\n",
       "      <th>889</th>\n",
       "      <td>890</td>\n",
       "      <td>1</td>\n",
       "      <td>1</td>\n",
       "      <td>Behr, Mr. Karl Howell</td>\n",
       "      <td>male</td>\n",
       "      <td>26.0</td>\n",
       "      <td>0</td>\n",
       "      <td>0</td>\n",
       "      <td>111369</td>\n",
       "      <td>30.0000</td>\n",
       "      <td>C</td>\n",
       "    </tr>\n",
       "    <tr>\n",
       "      <th>890</th>\n",
       "      <td>891</td>\n",
       "      <td>0</td>\n",
       "      <td>3</td>\n",
       "      <td>Dooley, Mr. Patrick</td>\n",
       "      <td>male</td>\n",
       "      <td>32.0</td>\n",
       "      <td>0</td>\n",
       "      <td>0</td>\n",
       "      <td>370376</td>\n",
       "      <td>7.7500</td>\n",
       "      <td>Q</td>\n",
       "    </tr>\n",
       "  </tbody>\n",
       "</table>\n",
       "<p>891 rows × 11 columns</p>\n",
       "</div>"
      ],
      "text/plain": [
       "     PassengerId  Survived  Pclass  \\\n",
       "0              1         0       3   \n",
       "1              2         1       1   \n",
       "2              3         1       3   \n",
       "3              4         1       1   \n",
       "4              5         0       3   \n",
       "..           ...       ...     ...   \n",
       "886          887         0       2   \n",
       "887          888         1       1   \n",
       "888          889         0       3   \n",
       "889          890         1       1   \n",
       "890          891         0       3   \n",
       "\n",
       "                                                  Name     Sex   Age  SibSp  \\\n",
       "0                              Braund, Mr. Owen Harris    male  22.0      1   \n",
       "1    Cumings, Mrs. John Bradley (Florence Briggs Th...  female  38.0      1   \n",
       "2                               Heikkinen, Miss. Laina  female  26.0      0   \n",
       "3         Futrelle, Mrs. Jacques Heath (Lily May Peel)  female  35.0      1   \n",
       "4                             Allen, Mr. William Henry    male  35.0      0   \n",
       "..                                                 ...     ...   ...    ...   \n",
       "886                              Montvila, Rev. Juozas    male  27.0      0   \n",
       "887                       Graham, Miss. Margaret Edith  female  19.0      0   \n",
       "888           Johnston, Miss. Catherine Helen \"Carrie\"  female   NaN      1   \n",
       "889                              Behr, Mr. Karl Howell    male  26.0      0   \n",
       "890                                Dooley, Mr. Patrick    male  32.0      0   \n",
       "\n",
       "     Parch            Ticket     Fare Embarked  \n",
       "0        0         A/5 21171   7.2500        S  \n",
       "1        0          PC 17599  71.2833        C  \n",
       "2        0  STON/O2. 3101282   7.9250        S  \n",
       "3        0            113803  53.1000        S  \n",
       "4        0            373450   8.0500        S  \n",
       "..     ...               ...      ...      ...  \n",
       "886      0            211536  13.0000        S  \n",
       "887      0            112053  30.0000        S  \n",
       "888      2        W./C. 6607  23.4500        S  \n",
       "889      0            111369  30.0000        C  \n",
       "890      0            370376   7.7500        Q  \n",
       "\n",
       "[891 rows x 11 columns]"
      ]
     },
     "execution_count": 22,
     "metadata": {},
     "output_type": "execute_result"
    }
   ],
   "source": [
    "titanic"
   ]
  },
  {
   "cell_type": "code",
   "execution_count": 23,
   "id": "1387f11d",
   "metadata": {},
   "outputs": [],
   "source": [
    "# let's find the missing values in the age and Embarked column our data have only 177 missing values present \n",
    "titanic[\"Age\"].fillna(titanic[\"Age\"].mean(),inplace=True)"
   ]
  },
  {
   "cell_type": "code",
   "execution_count": 24,
   "id": "1e4e8001",
   "metadata": {},
   "outputs": [],
   "source": [
    "#"
   ]
  },
  {
   "cell_type": "code",
   "execution_count": 25,
   "id": "02a4816a",
   "metadata": {},
   "outputs": [],
   "source": [
    "titanic[\"Embarked\"].fillna(titanic[\"Embarked\"].mode()[0],inplace=True)"
   ]
  },
  {
   "cell_type": "code",
   "execution_count": 26,
   "id": "92b56a59",
   "metadata": {},
   "outputs": [
    {
     "data": {
      "text/plain": [
       "PassengerId    0\n",
       "Survived       0\n",
       "Pclass         0\n",
       "Name           0\n",
       "Sex            0\n",
       "Age            0\n",
       "SibSp          0\n",
       "Parch          0\n",
       "Ticket         0\n",
       "Fare           0\n",
       "Embarked       0\n",
       "dtype: int64"
      ]
     },
     "execution_count": 26,
     "metadata": {},
     "output_type": "execute_result"
    }
   ],
   "source": [
    "#lets's check null values for Age column\n",
    "titanic.isnull().sum()"
   ]
  },
  {
   "cell_type": "markdown",
   "id": "3fa419c2",
   "metadata": {},
   "source": [
    "As you can see we removed the null values from the dataset"
   ]
  },
  {
   "cell_type": "code",
   "execution_count": 27,
   "id": "c48289e5",
   "metadata": {},
   "outputs": [
    {
     "data": {
      "text/html": [
       "<div>\n",
       "<style scoped>\n",
       "    .dataframe tbody tr th:only-of-type {\n",
       "        vertical-align: middle;\n",
       "    }\n",
       "\n",
       "    .dataframe tbody tr th {\n",
       "        vertical-align: top;\n",
       "    }\n",
       "\n",
       "    .dataframe thead th {\n",
       "        text-align: right;\n",
       "    }\n",
       "</style>\n",
       "<table border=\"1\" class=\"dataframe\">\n",
       "  <thead>\n",
       "    <tr style=\"text-align: right;\">\n",
       "      <th></th>\n",
       "      <th>PassengerId</th>\n",
       "      <th>Survived</th>\n",
       "      <th>Pclass</th>\n",
       "      <th>Age</th>\n",
       "      <th>SibSp</th>\n",
       "      <th>Parch</th>\n",
       "      <th>Fare</th>\n",
       "    </tr>\n",
       "  </thead>\n",
       "  <tbody>\n",
       "    <tr>\n",
       "      <th>count</th>\n",
       "      <td>891.000000</td>\n",
       "      <td>891.000000</td>\n",
       "      <td>891.000000</td>\n",
       "      <td>891.000000</td>\n",
       "      <td>891.000000</td>\n",
       "      <td>891.000000</td>\n",
       "      <td>891.000000</td>\n",
       "    </tr>\n",
       "    <tr>\n",
       "      <th>mean</th>\n",
       "      <td>446.000000</td>\n",
       "      <td>0.383838</td>\n",
       "      <td>2.308642</td>\n",
       "      <td>29.699118</td>\n",
       "      <td>0.523008</td>\n",
       "      <td>0.381594</td>\n",
       "      <td>32.204208</td>\n",
       "    </tr>\n",
       "    <tr>\n",
       "      <th>std</th>\n",
       "      <td>257.353842</td>\n",
       "      <td>0.486592</td>\n",
       "      <td>0.836071</td>\n",
       "      <td>13.002015</td>\n",
       "      <td>1.102743</td>\n",
       "      <td>0.806057</td>\n",
       "      <td>49.693429</td>\n",
       "    </tr>\n",
       "    <tr>\n",
       "      <th>min</th>\n",
       "      <td>1.000000</td>\n",
       "      <td>0.000000</td>\n",
       "      <td>1.000000</td>\n",
       "      <td>0.420000</td>\n",
       "      <td>0.000000</td>\n",
       "      <td>0.000000</td>\n",
       "      <td>0.000000</td>\n",
       "    </tr>\n",
       "    <tr>\n",
       "      <th>25%</th>\n",
       "      <td>223.500000</td>\n",
       "      <td>0.000000</td>\n",
       "      <td>2.000000</td>\n",
       "      <td>22.000000</td>\n",
       "      <td>0.000000</td>\n",
       "      <td>0.000000</td>\n",
       "      <td>7.910400</td>\n",
       "    </tr>\n",
       "    <tr>\n",
       "      <th>50%</th>\n",
       "      <td>446.000000</td>\n",
       "      <td>0.000000</td>\n",
       "      <td>3.000000</td>\n",
       "      <td>29.699118</td>\n",
       "      <td>0.000000</td>\n",
       "      <td>0.000000</td>\n",
       "      <td>14.454200</td>\n",
       "    </tr>\n",
       "    <tr>\n",
       "      <th>75%</th>\n",
       "      <td>668.500000</td>\n",
       "      <td>1.000000</td>\n",
       "      <td>3.000000</td>\n",
       "      <td>35.000000</td>\n",
       "      <td>1.000000</td>\n",
       "      <td>0.000000</td>\n",
       "      <td>31.000000</td>\n",
       "    </tr>\n",
       "    <tr>\n",
       "      <th>max</th>\n",
       "      <td>891.000000</td>\n",
       "      <td>1.000000</td>\n",
       "      <td>3.000000</td>\n",
       "      <td>80.000000</td>\n",
       "      <td>8.000000</td>\n",
       "      <td>6.000000</td>\n",
       "      <td>512.329200</td>\n",
       "    </tr>\n",
       "  </tbody>\n",
       "</table>\n",
       "</div>"
      ],
      "text/plain": [
       "       PassengerId    Survived      Pclass         Age       SibSp  \\\n",
       "count   891.000000  891.000000  891.000000  891.000000  891.000000   \n",
       "mean    446.000000    0.383838    2.308642   29.699118    0.523008   \n",
       "std     257.353842    0.486592    0.836071   13.002015    1.102743   \n",
       "min       1.000000    0.000000    1.000000    0.420000    0.000000   \n",
       "25%     223.500000    0.000000    2.000000   22.000000    0.000000   \n",
       "50%     446.000000    0.000000    3.000000   29.699118    0.000000   \n",
       "75%     668.500000    1.000000    3.000000   35.000000    1.000000   \n",
       "max     891.000000    1.000000    3.000000   80.000000    8.000000   \n",
       "\n",
       "            Parch        Fare  \n",
       "count  891.000000  891.000000  \n",
       "mean     0.381594   32.204208  \n",
       "std      0.806057   49.693429  \n",
       "min      0.000000    0.000000  \n",
       "25%      0.000000    7.910400  \n",
       "50%      0.000000   14.454200  \n",
       "75%      0.000000   31.000000  \n",
       "max      6.000000  512.329200  "
      ]
     },
     "execution_count": 27,
     "metadata": {},
     "output_type": "execute_result"
    }
   ],
   "source": [
    "titanic.describe()"
   ]
  },
  {
   "cell_type": "markdown",
   "id": "4cbc3f86",
   "metadata": {},
   "source": [
    "# Data visualization"
   ]
  },
  {
   "cell_type": "code",
   "execution_count": 28,
   "id": "26dc592b",
   "metadata": {},
   "outputs": [
    {
     "data": {
      "image/png": "[encoded data removed]",
      "text/plain": [
       "<Figure size 432x288 with 1 Axes>"
      ]
     },
     "metadata": {
      "needs_background": "light"
     },
     "output_type": "display_data"
    }
   ],
   "source": [
    "# let's understand the dataset through graph and plot \n",
    "sns.countplot(x='Survived', data=titanic)\n",
    "plt.show()"
   ]
  },
  {
   "cell_type": "markdown",
   "id": "709f1b18",
   "metadata": {},
   "source": [
    "As you can see that no of passengers who survived is very less as compared because we know that inicident  due to drwaning and cold water had less chanvce to survive "
   ]
  },
  {
   "cell_type": "code",
   "execution_count": 29,
   "id": "46ce1228",
   "metadata": {},
   "outputs": [
    {
     "data": {
      "image/png": "[encoded data removed]",
      "text/plain": [
       "<Figure size 432x288 with 1 Axes>"
      ]
     },
     "metadata": {
      "needs_background": "light"
     },
     "output_type": "display_data"
    }
   ],
   "source": [
    "# let's see how many male and female survive \n",
    "sns.barplot(x=\"Sex\",y=\"Survived\",data=titanic)\n",
    "plt.show()"
   ]
  },
  {
   "cell_type": "markdown",
   "id": "97d29331",
   "metadata": {},
   "source": [
    "from this graph we get insight that percentage of feamle passenger survival rate is high almost 75% as compared to men because we know during that incident large priority was given to save the \"women and children\" so percentage of female is high"
   ]
  },
  {
   "cell_type": "code",
   "execution_count": 30,
   "id": "9bffbf20",
   "metadata": {},
   "outputs": [
    {
     "data": {
      "image/png": "[encoded data removed]",
      "text/plain": [
       "<Figure size 720x504 with 1 Axes>"
      ]
     },
     "metadata": {
      "needs_background": "light"
     },
     "output_type": "display_data"
    }
   ],
   "source": [
    "# let's see which class have survival rate ( this grapg gives very good insight information)\n",
    "plt.figure(figsize=(10,7))\n",
    "sns.barplot(x=\"Sex\",y=\"Survived\",hue=\"Pclass\",data=titanic,palette=\"YlOrRd\")\n",
    "plt.show()"
   ]
  },
  {
   "cell_type": "markdown",
   "id": "d0bb67df",
   "metadata": {},
   "source": [
    "This graph gives very good information about the dataset\n",
    "1. In the male section you can see the male who belong to the \" first class\"  very high chance of survival rate almost 40% then follow by \" second class and third class \". and we know that during that incident proirity was given to the class who have paid higher Fare\n",
    "\n",
    "2. In the female section we cannclearly see that female percentage of survival in all the class comapritively higher than men;s all class due to women was given priority yeah but the third class women Survival rate is very low due to Fare and priority \n",
    "but in woemn almost 90% women survived from First class because \n",
    "they get benefit of being women and second they paid higher Fare price same as for second class"
   ]
  },
  {
   "cell_type": "code",
   "execution_count": 31,
   "id": "3dc5766a",
   "metadata": {},
   "outputs": [
    {
     "data": {
      "image/png": "[encoded data removed]",
      "text/plain": [
       "<Figure size 1080x576 with 1 Axes>"
      ]
     },
     "metadata": {
      "needs_background": "light"
     },
     "output_type": "display_data"
    }
   ],
   "source": [
    "plt.figure(figsize=(15,8))\n",
    "sns.swarmplot(x=\"Survived\",y=\"Age\",hue=\"Embarked\",data=titanic,palette=\"YlOrRd\",s=10)\n",
    "plt.show()"
   ]
  },
  {
   "cell_type": "markdown",
   "id": "115cd3ab",
   "metadata": {},
   "source": [
    "From this graph insight also we get very useful information\n",
    "1. we can clealry see that Southhampton city passengers are more boarding for titanic rather than queensland and chernbough city\n",
    "2. In the plot we can see the passenger whob didn't survive are younger population between age \" 18 to 32\" these are obvisouly trying to save pther people on the ship as directed because they cxan save littile children and women \n",
    "3. same as passengers who have surbvived are less compared to who not survived but the in survival also manhy young passengersbut number are very less"
   ]
  },
  {
   "cell_type": "code",
   "execution_count": 32,
   "id": "d002db01",
   "metadata": {},
   "outputs": [
    {
     "data": {
      "image/png": "[encoded data removed]",
      "text/plain": [
       "<Figure size 1296x504 with 1 Axes>"
      ]
     },
     "metadata": {
      "needs_background": "light"
     },
     "output_type": "display_data"
    }
   ],
   "source": [
    "plt.figure(figsize=(18,7))\n",
    "sns.barplot(x=\"Embarked\",y=\"Survived\",hue=\"SibSp\",data=titanic,palette=\"YlOrRd\")\n",
    "plt.show()"
   ]
  },
  {
   "cell_type": "markdown",
   "id": "560057a9",
   "metadata": {},
   "source": [
    "1. In southhampton city we can see that passengers who having 1 siblings have more survival rate ( and also southhampton city passengers have more number of siblings or parents with them upto 4) \n",
    "2. In Chernbough people who having 2 siblings have more survival then other who hav eless siblings (almost 2)\n",
    "3. In Queensland we can see that same as 2 siblings have higher surbvival rate "
   ]
  },
  {
   "cell_type": "code",
   "execution_count": 33,
   "id": "c0accaf4",
   "metadata": {},
   "outputs": [
    {
     "data": {
      "text/plain": [
       "<Figure size 720x1080 with 0 Axes>"
      ]
     },
     "metadata": {},
     "output_type": "display_data"
    },
    {
     "data": {
      "image/png": "[encoded data removed]",
      "text/plain": [
       "<Figure size 432x432 with 3 Axes>"
      ]
     },
     "metadata": {
      "needs_background": "light"
     },
     "output_type": "display_data"
    }
   ],
   "source": [
    "plt.figure(figsize=(10,15))\n",
    "sns.jointplot(x=\"Survived\",y=\"Age\",hue=\"Sex\",data=titanic,palette=\"YlOrRd\",s=20)\n",
    "plt.show()"
   ]
  },
  {
   "cell_type": "markdown",
   "id": "73eca482",
   "metadata": {},
   "source": [
    "1. this graph also tell us clearly that more number of males didn;t survive then as compared to women wjo not survived are very less from graph we can see this clearly and having age between (most men 20 to 30)\n",
    "\n",
    "2. an another grapg we can see in surviavl almost maximum number are women and very less are men ( and alsio female age is between 0 to 60 and male age is between 18 to 60) as usual all young have to save the ship  "
   ]
  },
  {
   "cell_type": "code",
   "execution_count": 34,
   "id": "3be6d998",
   "metadata": {},
   "outputs": [
    {
     "data": {
      "image/png": "[encoded data removed]",
      "text/plain": [
       "<Figure size 720x576 with 1 Axes>"
      ]
     },
     "metadata": {
      "needs_background": "light"
     },
     "output_type": "display_data"
    }
   ],
   "source": [
    "plt.figure(figsize=(10,8))\n",
    "sns.stripplot(x=\"Pclass\",y=\"Age\",hue=\"Sex\",data=titanic,palette=\"YlOrRd\",s=8)\n",
    "plt.show()"
   ]
  },
  {
   "cell_type": "code",
   "execution_count": 35,
   "id": "8e2ada4b",
   "metadata": {},
   "outputs": [
    {
     "data": {
      "image/png": "[encoded data removed]",
      "text/plain": [
       "<Figure size 1296x504 with 1 Axes>"
      ]
     },
     "metadata": {
      "needs_background": "light"
     },
     "output_type": "display_data"
    }
   ],
   "source": [
    "plt.figure(figsize=(18,7))\n",
    "sns.barplot(x=\"Embarked\",y=\"Survived\",hue=\"Parch\",data=titanic,palette=\"YlOrRd\")\n",
    "plt.show()"
   ]
  },
  {
   "cell_type": "markdown",
   "id": "5302443f",
   "metadata": {},
   "source": [
    "As we can se that therer sre more numbre of female in first class asn second class compoare to third class in third class there are moe number of male between the age 18 to 70 in first class and 0 to 60 to seonfd class and 0 to 75 in thord class"
   ]
  },
  {
   "cell_type": "markdown",
   "id": "5c0de7b7",
   "metadata": {},
   "source": [
    "# NOW WE DO PREPROCESSONG "
   ]
  },
  {
   "cell_type": "code",
   "execution_count": 36,
   "id": "65f03807",
   "metadata": {},
   "outputs": [
    {
     "data": {
      "text/html": [
       "<div>\n",
       "<style scoped>\n",
       "    .dataframe tbody tr th:only-of-type {\n",
       "        vertical-align: middle;\n",
       "    }\n",
       "\n",
       "    .dataframe tbody tr th {\n",
       "        vertical-align: top;\n",
       "    }\n",
       "\n",
       "    .dataframe thead th {\n",
       "        text-align: right;\n",
       "    }\n",
       "</style>\n",
       "<table border=\"1\" class=\"dataframe\">\n",
       "  <thead>\n",
       "    <tr style=\"text-align: right;\">\n",
       "      <th></th>\n",
       "      <th>PassengerId</th>\n",
       "      <th>Survived</th>\n",
       "      <th>Pclass</th>\n",
       "      <th>Name</th>\n",
       "      <th>Sex</th>\n",
       "      <th>Age</th>\n",
       "      <th>SibSp</th>\n",
       "      <th>Parch</th>\n",
       "      <th>Ticket</th>\n",
       "      <th>Fare</th>\n",
       "      <th>Embarked</th>\n",
       "    </tr>\n",
       "  </thead>\n",
       "  <tbody>\n",
       "    <tr>\n",
       "      <th>0</th>\n",
       "      <td>1</td>\n",
       "      <td>0</td>\n",
       "      <td>3</td>\n",
       "      <td>Braund, Mr. Owen Harris</td>\n",
       "      <td>1</td>\n",
       "      <td>22.000000</td>\n",
       "      <td>1</td>\n",
       "      <td>0</td>\n",
       "      <td>A/5 21171</td>\n",
       "      <td>7.2500</td>\n",
       "      <td>S</td>\n",
       "    </tr>\n",
       "    <tr>\n",
       "      <th>1</th>\n",
       "      <td>2</td>\n",
       "      <td>1</td>\n",
       "      <td>1</td>\n",
       "      <td>Cumings, Mrs. John Bradley (Florence Briggs Th...</td>\n",
       "      <td>0</td>\n",
       "      <td>38.000000</td>\n",
       "      <td>1</td>\n",
       "      <td>0</td>\n",
       "      <td>PC 17599</td>\n",
       "      <td>71.2833</td>\n",
       "      <td>C</td>\n",
       "    </tr>\n",
       "    <tr>\n",
       "      <th>2</th>\n",
       "      <td>3</td>\n",
       "      <td>1</td>\n",
       "      <td>3</td>\n",
       "      <td>Heikkinen, Miss. Laina</td>\n",
       "      <td>0</td>\n",
       "      <td>26.000000</td>\n",
       "      <td>0</td>\n",
       "      <td>0</td>\n",
       "      <td>STON/O2. 3101282</td>\n",
       "      <td>7.9250</td>\n",
       "      <td>S</td>\n",
       "    </tr>\n",
       "    <tr>\n",
       "      <th>3</th>\n",
       "      <td>4</td>\n",
       "      <td>1</td>\n",
       "      <td>1</td>\n",
       "      <td>Futrelle, Mrs. Jacques Heath (Lily May Peel)</td>\n",
       "      <td>0</td>\n",
       "      <td>35.000000</td>\n",
       "      <td>1</td>\n",
       "      <td>0</td>\n",
       "      <td>113803</td>\n",
       "      <td>53.1000</td>\n",
       "      <td>S</td>\n",
       "    </tr>\n",
       "    <tr>\n",
       "      <th>4</th>\n",
       "      <td>5</td>\n",
       "      <td>0</td>\n",
       "      <td>3</td>\n",
       "      <td>Allen, Mr. William Henry</td>\n",
       "      <td>1</td>\n",
       "      <td>35.000000</td>\n",
       "      <td>0</td>\n",
       "      <td>0</td>\n",
       "      <td>373450</td>\n",
       "      <td>8.0500</td>\n",
       "      <td>S</td>\n",
       "    </tr>\n",
       "    <tr>\n",
       "      <th>...</th>\n",
       "      <td>...</td>\n",
       "      <td>...</td>\n",
       "      <td>...</td>\n",
       "      <td>...</td>\n",
       "      <td>...</td>\n",
       "      <td>...</td>\n",
       "      <td>...</td>\n",
       "      <td>...</td>\n",
       "      <td>...</td>\n",
       "      <td>...</td>\n",
       "      <td>...</td>\n",
       "    </tr>\n",
       "    <tr>\n",
       "      <th>886</th>\n",
       "      <td>887</td>\n",
       "      <td>0</td>\n",
       "      <td>2</td>\n",
       "      <td>Montvila, Rev. Juozas</td>\n",
       "      <td>1</td>\n",
       "      <td>27.000000</td>\n",
       "      <td>0</td>\n",
       "      <td>0</td>\n",
       "      <td>211536</td>\n",
       "      <td>13.0000</td>\n",
       "      <td>S</td>\n",
       "    </tr>\n",
       "    <tr>\n",
       "      <th>887</th>\n",
       "      <td>888</td>\n",
       "      <td>1</td>\n",
       "      <td>1</td>\n",
       "      <td>Graham, Miss. Margaret Edith</td>\n",
       "      <td>0</td>\n",
       "      <td>19.000000</td>\n",
       "      <td>0</td>\n",
       "      <td>0</td>\n",
       "      <td>112053</td>\n",
       "      <td>30.0000</td>\n",
       "      <td>S</td>\n",
       "    </tr>\n",
       "    <tr>\n",
       "      <th>888</th>\n",
       "      <td>889</td>\n",
       "      <td>0</td>\n",
       "      <td>3</td>\n",
       "      <td>Johnston, Miss. Catherine Helen \"Carrie\"</td>\n",
       "      <td>0</td>\n",
       "      <td>29.699118</td>\n",
       "      <td>1</td>\n",
       "      <td>2</td>\n",
       "      <td>W./C. 6607</td>\n",
       "      <td>23.4500</td>\n",
       "      <td>S</td>\n",
       "    </tr>\n",
       "    <tr>\n",
       "      <th>889</th>\n",
       "      <td>890</td>\n",
       "      <td>1</td>\n",
       "      <td>1</td>\n",
       "      <td>Behr, Mr. Karl Howell</td>\n",
       "      <td>1</td>\n",
       "      <td>26.000000</td>\n",
       "      <td>0</td>\n",
       "      <td>0</td>\n",
       "      <td>111369</td>\n",
       "      <td>30.0000</td>\n",
       "      <td>C</td>\n",
       "    </tr>\n",
       "    <tr>\n",
       "      <th>890</th>\n",
       "      <td>891</td>\n",
       "      <td>0</td>\n",
       "      <td>3</td>\n",
       "      <td>Dooley, Mr. Patrick</td>\n",
       "      <td>1</td>\n",
       "      <td>32.000000</td>\n",
       "      <td>0</td>\n",
       "      <td>0</td>\n",
       "      <td>370376</td>\n",
       "      <td>7.7500</td>\n",
       "      <td>Q</td>\n",
       "    </tr>\n",
       "  </tbody>\n",
       "</table>\n",
       "<p>891 rows × 11 columns</p>\n",
       "</div>"
      ],
      "text/plain": [
       "     PassengerId  Survived  Pclass  \\\n",
       "0              1         0       3   \n",
       "1              2         1       1   \n",
       "2              3         1       3   \n",
       "3              4         1       1   \n",
       "4              5         0       3   \n",
       "..           ...       ...     ...   \n",
       "886          887         0       2   \n",
       "887          888         1       1   \n",
       "888          889         0       3   \n",
       "889          890         1       1   \n",
       "890          891         0       3   \n",
       "\n",
       "                                                  Name  Sex        Age  SibSp  \\\n",
       "0                              Braund, Mr. Owen Harris    1  22.000000      1   \n",
       "1    Cumings, Mrs. John Bradley (Florence Briggs Th...    0  38.000000      1   \n",
       "2                               Heikkinen, Miss. Laina    0  26.000000      0   \n",
       "3         Futrelle, Mrs. Jacques Heath (Lily May Peel)    0  35.000000      1   \n",
       "4                             Allen, Mr. William Henry    1  35.000000      0   \n",
       "..                                                 ...  ...        ...    ...   \n",
       "886                              Montvila, Rev. Juozas    1  27.000000      0   \n",
       "887                       Graham, Miss. Margaret Edith    0  19.000000      0   \n",
       "888           Johnston, Miss. Catherine Helen \"Carrie\"    0  29.699118      1   \n",
       "889                              Behr, Mr. Karl Howell    1  26.000000      0   \n",
       "890                                Dooley, Mr. Patrick    1  32.000000      0   \n",
       "\n",
       "     Parch            Ticket     Fare Embarked  \n",
       "0        0         A/5 21171   7.2500        S  \n",
       "1        0          PC 17599  71.2833        C  \n",
       "2        0  STON/O2. 3101282   7.9250        S  \n",
       "3        0            113803  53.1000        S  \n",
       "4        0            373450   8.0500        S  \n",
       "..     ...               ...      ...      ...  \n",
       "886      0            211536  13.0000        S  \n",
       "887      0            112053  30.0000        S  \n",
       "888      2        W./C. 6607  23.4500        S  \n",
       "889      0            111369  30.0000        C  \n",
       "890      0            370376   7.7500        Q  \n",
       "\n",
       "[891 rows x 11 columns]"
      ]
     },
     "execution_count": 36,
     "metadata": {},
     "output_type": "execute_result"
    }
   ],
   "source": [
    "# let's convert sex into binary class and embarked column also\n",
    "titanic =titanic.replace({\"male\":1,\"female\":0})\n",
    "titanic"
   ]
  },
  {
   "cell_type": "code",
   "execution_count": 37,
   "id": "e8f04fa2",
   "metadata": {},
   "outputs": [
    {
     "data": {
      "text/html": [
       "<div>\n",
       "<style scoped>\n",
       "    .dataframe tbody tr th:only-of-type {\n",
       "        vertical-align: middle;\n",
       "    }\n",
       "\n",
       "    .dataframe tbody tr th {\n",
       "        vertical-align: top;\n",
       "    }\n",
       "\n",
       "    .dataframe thead th {\n",
       "        text-align: right;\n",
       "    }\n",
       "</style>\n",
       "<table border=\"1\" class=\"dataframe\">\n",
       "  <thead>\n",
       "    <tr style=\"text-align: right;\">\n",
       "      <th></th>\n",
       "      <th>Survived</th>\n",
       "      <th>Pclass</th>\n",
       "      <th>Name</th>\n",
       "      <th>Sex</th>\n",
       "      <th>Age</th>\n",
       "      <th>SibSp</th>\n",
       "      <th>Parch</th>\n",
       "      <th>Fare</th>\n",
       "      <th>Embarked</th>\n",
       "    </tr>\n",
       "  </thead>\n",
       "  <tbody>\n",
       "    <tr>\n",
       "      <th>0</th>\n",
       "      <td>0</td>\n",
       "      <td>3</td>\n",
       "      <td>Braund, Mr. Owen Harris</td>\n",
       "      <td>1</td>\n",
       "      <td>22.000000</td>\n",
       "      <td>1</td>\n",
       "      <td>0</td>\n",
       "      <td>7.2500</td>\n",
       "      <td>S</td>\n",
       "    </tr>\n",
       "    <tr>\n",
       "      <th>1</th>\n",
       "      <td>1</td>\n",
       "      <td>1</td>\n",
       "      <td>Cumings, Mrs. John Bradley (Florence Briggs Th...</td>\n",
       "      <td>0</td>\n",
       "      <td>38.000000</td>\n",
       "      <td>1</td>\n",
       "      <td>0</td>\n",
       "      <td>71.2833</td>\n",
       "      <td>C</td>\n",
       "    </tr>\n",
       "    <tr>\n",
       "      <th>2</th>\n",
       "      <td>1</td>\n",
       "      <td>3</td>\n",
       "      <td>Heikkinen, Miss. Laina</td>\n",
       "      <td>0</td>\n",
       "      <td>26.000000</td>\n",
       "      <td>0</td>\n",
       "      <td>0</td>\n",
       "      <td>7.9250</td>\n",
       "      <td>S</td>\n",
       "    </tr>\n",
       "    <tr>\n",
       "      <th>3</th>\n",
       "      <td>1</td>\n",
       "      <td>1</td>\n",
       "      <td>Futrelle, Mrs. Jacques Heath (Lily May Peel)</td>\n",
       "      <td>0</td>\n",
       "      <td>35.000000</td>\n",
       "      <td>1</td>\n",
       "      <td>0</td>\n",
       "      <td>53.1000</td>\n",
       "      <td>S</td>\n",
       "    </tr>\n",
       "    <tr>\n",
       "      <th>4</th>\n",
       "      <td>0</td>\n",
       "      <td>3</td>\n",
       "      <td>Allen, Mr. William Henry</td>\n",
       "      <td>1</td>\n",
       "      <td>35.000000</td>\n",
       "      <td>0</td>\n",
       "      <td>0</td>\n",
       "      <td>8.0500</td>\n",
       "      <td>S</td>\n",
       "    </tr>\n",
       "    <tr>\n",
       "      <th>...</th>\n",
       "      <td>...</td>\n",
       "      <td>...</td>\n",
       "      <td>...</td>\n",
       "      <td>...</td>\n",
       "      <td>...</td>\n",
       "      <td>...</td>\n",
       "      <td>...</td>\n",
       "      <td>...</td>\n",
       "      <td>...</td>\n",
       "    </tr>\n",
       "    <tr>\n",
       "      <th>886</th>\n",
       "      <td>0</td>\n",
       "      <td>2</td>\n",
       "      <td>Montvila, Rev. Juozas</td>\n",
       "      <td>1</td>\n",
       "      <td>27.000000</td>\n",
       "      <td>0</td>\n",
       "      <td>0</td>\n",
       "      <td>13.0000</td>\n",
       "      <td>S</td>\n",
       "    </tr>\n",
       "    <tr>\n",
       "      <th>887</th>\n",
       "      <td>1</td>\n",
       "      <td>1</td>\n",
       "      <td>Graham, Miss. Margaret Edith</td>\n",
       "      <td>0</td>\n",
       "      <td>19.000000</td>\n",
       "      <td>0</td>\n",
       "      <td>0</td>\n",
       "      <td>30.0000</td>\n",
       "      <td>S</td>\n",
       "    </tr>\n",
       "    <tr>\n",
       "      <th>888</th>\n",
       "      <td>0</td>\n",
       "      <td>3</td>\n",
       "      <td>Johnston, Miss. Catherine Helen \"Carrie\"</td>\n",
       "      <td>0</td>\n",
       "      <td>29.699118</td>\n",
       "      <td>1</td>\n",
       "      <td>2</td>\n",
       "      <td>23.4500</td>\n",
       "      <td>S</td>\n",
       "    </tr>\n",
       "    <tr>\n",
       "      <th>889</th>\n",
       "      <td>1</td>\n",
       "      <td>1</td>\n",
       "      <td>Behr, Mr. Karl Howell</td>\n",
       "      <td>1</td>\n",
       "      <td>26.000000</td>\n",
       "      <td>0</td>\n",
       "      <td>0</td>\n",
       "      <td>30.0000</td>\n",
       "      <td>C</td>\n",
       "    </tr>\n",
       "    <tr>\n",
       "      <th>890</th>\n",
       "      <td>0</td>\n",
       "      <td>3</td>\n",
       "      <td>Dooley, Mr. Patrick</td>\n",
       "      <td>1</td>\n",
       "      <td>32.000000</td>\n",
       "      <td>0</td>\n",
       "      <td>0</td>\n",
       "      <td>7.7500</td>\n",
       "      <td>Q</td>\n",
       "    </tr>\n",
       "  </tbody>\n",
       "</table>\n",
       "<p>891 rows × 9 columns</p>\n",
       "</div>"
      ],
      "text/plain": [
       "     Survived  Pclass                                               Name  Sex  \\\n",
       "0           0       3                            Braund, Mr. Owen Harris    1   \n",
       "1           1       1  Cumings, Mrs. John Bradley (Florence Briggs Th...    0   \n",
       "2           1       3                             Heikkinen, Miss. Laina    0   \n",
       "3           1       1       Futrelle, Mrs. Jacques Heath (Lily May Peel)    0   \n",
       "4           0       3                           Allen, Mr. William Henry    1   \n",
       "..        ...     ...                                                ...  ...   \n",
       "886         0       2                              Montvila, Rev. Juozas    1   \n",
       "887         1       1                       Graham, Miss. Margaret Edith    0   \n",
       "888         0       3           Johnston, Miss. Catherine Helen \"Carrie\"    0   \n",
       "889         1       1                              Behr, Mr. Karl Howell    1   \n",
       "890         0       3                                Dooley, Mr. Patrick    1   \n",
       "\n",
       "           Age  SibSp  Parch     Fare Embarked  \n",
       "0    22.000000      1      0   7.2500        S  \n",
       "1    38.000000      1      0  71.2833        C  \n",
       "2    26.000000      0      0   7.9250        S  \n",
       "3    35.000000      1      0  53.1000        S  \n",
       "4    35.000000      0      0   8.0500        S  \n",
       "..         ...    ...    ...      ...      ...  \n",
       "886  27.000000      0      0  13.0000        S  \n",
       "887  19.000000      0      0  30.0000        S  \n",
       "888  29.699118      1      2  23.4500        S  \n",
       "889  26.000000      0      0  30.0000        C  \n",
       "890  32.000000      0      0   7.7500        Q  \n",
       "\n",
       "[891 rows x 9 columns]"
      ]
     },
     "execution_count": 37,
     "metadata": {},
     "output_type": "execute_result"
    }
   ],
   "source": [
    "# let's drop thepassengers id \n",
    "titanic= titanic.drop(columns=[\"PassengerId\",\"Ticket\"],axis=1)\n",
    "titanic"
   ]
  },
  {
   "cell_type": "code",
   "execution_count": 38,
   "id": "119b33dd",
   "metadata": {},
   "outputs": [
    {
     "data": {
      "text/html": [
       "<div>\n",
       "<style scoped>\n",
       "    .dataframe tbody tr th:only-of-type {\n",
       "        vertical-align: middle;\n",
       "    }\n",
       "\n",
       "    .dataframe tbody tr th {\n",
       "        vertical-align: top;\n",
       "    }\n",
       "\n",
       "    .dataframe thead th {\n",
       "        text-align: right;\n",
       "    }\n",
       "</style>\n",
       "<table border=\"1\" class=\"dataframe\">\n",
       "  <thead>\n",
       "    <tr style=\"text-align: right;\">\n",
       "      <th></th>\n",
       "      <th>Survived</th>\n",
       "      <th>Pclass</th>\n",
       "      <th>Sex</th>\n",
       "      <th>Age</th>\n",
       "      <th>SibSp</th>\n",
       "      <th>Parch</th>\n",
       "      <th>Fare</th>\n",
       "    </tr>\n",
       "  </thead>\n",
       "  <tbody>\n",
       "    <tr>\n",
       "      <th>Survived</th>\n",
       "      <td>1.000000</td>\n",
       "      <td>-0.338481</td>\n",
       "      <td>-0.543351</td>\n",
       "      <td>-0.069809</td>\n",
       "      <td>-0.035322</td>\n",
       "      <td>0.081629</td>\n",
       "      <td>0.257307</td>\n",
       "    </tr>\n",
       "    <tr>\n",
       "      <th>Pclass</th>\n",
       "      <td>-0.338481</td>\n",
       "      <td>1.000000</td>\n",
       "      <td>0.131900</td>\n",
       "      <td>-0.331339</td>\n",
       "      <td>0.083081</td>\n",
       "      <td>0.018443</td>\n",
       "      <td>-0.549500</td>\n",
       "    </tr>\n",
       "    <tr>\n",
       "      <th>Sex</th>\n",
       "      <td>-0.543351</td>\n",
       "      <td>0.131900</td>\n",
       "      <td>1.000000</td>\n",
       "      <td>0.084153</td>\n",
       "      <td>-0.114631</td>\n",
       "      <td>-0.245489</td>\n",
       "      <td>-0.182333</td>\n",
       "    </tr>\n",
       "    <tr>\n",
       "      <th>Age</th>\n",
       "      <td>-0.069809</td>\n",
       "      <td>-0.331339</td>\n",
       "      <td>0.084153</td>\n",
       "      <td>1.000000</td>\n",
       "      <td>-0.232625</td>\n",
       "      <td>-0.179191</td>\n",
       "      <td>0.091566</td>\n",
       "    </tr>\n",
       "    <tr>\n",
       "      <th>SibSp</th>\n",
       "      <td>-0.035322</td>\n",
       "      <td>0.083081</td>\n",
       "      <td>-0.114631</td>\n",
       "      <td>-0.232625</td>\n",
       "      <td>1.000000</td>\n",
       "      <td>0.414838</td>\n",
       "      <td>0.159651</td>\n",
       "    </tr>\n",
       "    <tr>\n",
       "      <th>Parch</th>\n",
       "      <td>0.081629</td>\n",
       "      <td>0.018443</td>\n",
       "      <td>-0.245489</td>\n",
       "      <td>-0.179191</td>\n",
       "      <td>0.414838</td>\n",
       "      <td>1.000000</td>\n",
       "      <td>0.216225</td>\n",
       "    </tr>\n",
       "    <tr>\n",
       "      <th>Fare</th>\n",
       "      <td>0.257307</td>\n",
       "      <td>-0.549500</td>\n",
       "      <td>-0.182333</td>\n",
       "      <td>0.091566</td>\n",
       "      <td>0.159651</td>\n",
       "      <td>0.216225</td>\n",
       "      <td>1.000000</td>\n",
       "    </tr>\n",
       "  </tbody>\n",
       "</table>\n",
       "</div>"
      ],
      "text/plain": [
       "          Survived    Pclass       Sex       Age     SibSp     Parch      Fare\n",
       "Survived  1.000000 -0.338481 -0.543351 -0.069809 -0.035322  0.081629  0.257307\n",
       "Pclass   -0.338481  1.000000  0.131900 -0.331339  0.083081  0.018443 -0.549500\n",
       "Sex      -0.543351  0.131900  1.000000  0.084153 -0.114631 -0.245489 -0.182333\n",
       "Age      -0.069809 -0.331339  0.084153  1.000000 -0.232625 -0.179191  0.091566\n",
       "SibSp    -0.035322  0.083081 -0.114631 -0.232625  1.000000  0.414838  0.159651\n",
       "Parch     0.081629  0.018443 -0.245489 -0.179191  0.414838  1.000000  0.216225\n",
       "Fare      0.257307 -0.549500 -0.182333  0.091566  0.159651  0.216225  1.000000"
      ]
     },
     "execution_count": 38,
     "metadata": {},
     "output_type": "execute_result"
    }
   ],
   "source": [
    "corr = titanic.corr()\n",
    "corr"
   ]
  },
  {
   "cell_type": "code",
   "execution_count": 39,
   "id": "2ec580d7",
   "metadata": {},
   "outputs": [
    {
     "data": {
      "image/png": "[encoded data removed]",
      "text/plain": [
       "<Figure size 720x576 with 2 Axes>"
      ]
     },
     "metadata": {
      "needs_background": "light"
     },
     "output_type": "display_data"
    }
   ],
   "source": [
    "# let;s plot the heat map to visulaix=ze the multicollinearity begtween the cariables \n",
    "plt.figure(figsize=(10,8))\n",
    "sns.heatmap(corr,annot=True,annot_kws={'size':10},linewidths=2,linecolor='black',square=True)\n",
    "plt.show()"
   ]
  },
  {
   "cell_type": "markdown",
   "id": "4d4adc8b",
   "metadata": {},
   "source": [
    "1. As we can see that Parch and SibSp having strong correlation between each other \n",
    "2. parch and fare also good coorelation as usual more children more fare \n",
    "3. As we can see that Survived and fare having strong correlation between ech pther in grapg alson we see that more fare was given first class and survival rate was was high "
   ]
  },
  {
   "cell_type": "code",
   "execution_count": 40,
   "id": "8a6818f8",
   "metadata": {},
   "outputs": [
    {
     "data": {
      "text/html": [
       "<div>\n",
       "<style scoped>\n",
       "    .dataframe tbody tr th:only-of-type {\n",
       "        vertical-align: middle;\n",
       "    }\n",
       "\n",
       "    .dataframe tbody tr th {\n",
       "        vertical-align: top;\n",
       "    }\n",
       "\n",
       "    .dataframe thead th {\n",
       "        text-align: right;\n",
       "    }\n",
       "</style>\n",
       "<table border=\"1\" class=\"dataframe\">\n",
       "  <thead>\n",
       "    <tr style=\"text-align: right;\">\n",
       "      <th></th>\n",
       "      <th>Survived</th>\n",
       "      <th>Pclass</th>\n",
       "      <th>Name</th>\n",
       "      <th>Sex</th>\n",
       "      <th>Age</th>\n",
       "      <th>SibSp</th>\n",
       "      <th>Parch</th>\n",
       "      <th>Fare</th>\n",
       "      <th>Embarked_C</th>\n",
       "      <th>Embarked_Q</th>\n",
       "      <th>Embarked_S</th>\n",
       "    </tr>\n",
       "  </thead>\n",
       "  <tbody>\n",
       "    <tr>\n",
       "      <th>0</th>\n",
       "      <td>0</td>\n",
       "      <td>3</td>\n",
       "      <td>Braund, Mr. Owen Harris</td>\n",
       "      <td>1</td>\n",
       "      <td>22.000000</td>\n",
       "      <td>1</td>\n",
       "      <td>0</td>\n",
       "      <td>7.2500</td>\n",
       "      <td>0</td>\n",
       "      <td>0</td>\n",
       "      <td>1</td>\n",
       "    </tr>\n",
       "    <tr>\n",
       "      <th>1</th>\n",
       "      <td>1</td>\n",
       "      <td>1</td>\n",
       "      <td>Cumings, Mrs. John Bradley (Florence Briggs Th...</td>\n",
       "      <td>0</td>\n",
       "      <td>38.000000</td>\n",
       "      <td>1</td>\n",
       "      <td>0</td>\n",
       "      <td>71.2833</td>\n",
       "      <td>1</td>\n",
       "      <td>0</td>\n",
       "      <td>0</td>\n",
       "    </tr>\n",
       "    <tr>\n",
       "      <th>2</th>\n",
       "      <td>1</td>\n",
       "      <td>3</td>\n",
       "      <td>Heikkinen, Miss. Laina</td>\n",
       "      <td>0</td>\n",
       "      <td>26.000000</td>\n",
       "      <td>0</td>\n",
       "      <td>0</td>\n",
       "      <td>7.9250</td>\n",
       "      <td>0</td>\n",
       "      <td>0</td>\n",
       "      <td>1</td>\n",
       "    </tr>\n",
       "    <tr>\n",
       "      <th>3</th>\n",
       "      <td>1</td>\n",
       "      <td>1</td>\n",
       "      <td>Futrelle, Mrs. Jacques Heath (Lily May Peel)</td>\n",
       "      <td>0</td>\n",
       "      <td>35.000000</td>\n",
       "      <td>1</td>\n",
       "      <td>0</td>\n",
       "      <td>53.1000</td>\n",
       "      <td>0</td>\n",
       "      <td>0</td>\n",
       "      <td>1</td>\n",
       "    </tr>\n",
       "    <tr>\n",
       "      <th>4</th>\n",
       "      <td>0</td>\n",
       "      <td>3</td>\n",
       "      <td>Allen, Mr. William Henry</td>\n",
       "      <td>1</td>\n",
       "      <td>35.000000</td>\n",
       "      <td>0</td>\n",
       "      <td>0</td>\n",
       "      <td>8.0500</td>\n",
       "      <td>0</td>\n",
       "      <td>0</td>\n",
       "      <td>1</td>\n",
       "    </tr>\n",
       "    <tr>\n",
       "      <th>...</th>\n",
       "      <td>...</td>\n",
       "      <td>...</td>\n",
       "      <td>...</td>\n",
       "      <td>...</td>\n",
       "      <td>...</td>\n",
       "      <td>...</td>\n",
       "      <td>...</td>\n",
       "      <td>...</td>\n",
       "      <td>...</td>\n",
       "      <td>...</td>\n",
       "      <td>...</td>\n",
       "    </tr>\n",
       "    <tr>\n",
       "      <th>886</th>\n",
       "      <td>0</td>\n",
       "      <td>2</td>\n",
       "      <td>Montvila, Rev. Juozas</td>\n",
       "      <td>1</td>\n",
       "      <td>27.000000</td>\n",
       "      <td>0</td>\n",
       "      <td>0</td>\n",
       "      <td>13.0000</td>\n",
       "      <td>0</td>\n",
       "      <td>0</td>\n",
       "      <td>1</td>\n",
       "    </tr>\n",
       "    <tr>\n",
       "      <th>887</th>\n",
       "      <td>1</td>\n",
       "      <td>1</td>\n",
       "      <td>Graham, Miss. Margaret Edith</td>\n",
       "      <td>0</td>\n",
       "      <td>19.000000</td>\n",
       "      <td>0</td>\n",
       "      <td>0</td>\n",
       "      <td>30.0000</td>\n",
       "      <td>0</td>\n",
       "      <td>0</td>\n",
       "      <td>1</td>\n",
       "    </tr>\n",
       "    <tr>\n",
       "      <th>888</th>\n",
       "      <td>0</td>\n",
       "      <td>3</td>\n",
       "      <td>Johnston, Miss. Catherine Helen \"Carrie\"</td>\n",
       "      <td>0</td>\n",
       "      <td>29.699118</td>\n",
       "      <td>1</td>\n",
       "      <td>2</td>\n",
       "      <td>23.4500</td>\n",
       "      <td>0</td>\n",
       "      <td>0</td>\n",
       "      <td>1</td>\n",
       "    </tr>\n",
       "    <tr>\n",
       "      <th>889</th>\n",
       "      <td>1</td>\n",
       "      <td>1</td>\n",
       "      <td>Behr, Mr. Karl Howell</td>\n",
       "      <td>1</td>\n",
       "      <td>26.000000</td>\n",
       "      <td>0</td>\n",
       "      <td>0</td>\n",
       "      <td>30.0000</td>\n",
       "      <td>1</td>\n",
       "      <td>0</td>\n",
       "      <td>0</td>\n",
       "    </tr>\n",
       "    <tr>\n",
       "      <th>890</th>\n",
       "      <td>0</td>\n",
       "      <td>3</td>\n",
       "      <td>Dooley, Mr. Patrick</td>\n",
       "      <td>1</td>\n",
       "      <td>32.000000</td>\n",
       "      <td>0</td>\n",
       "      <td>0</td>\n",
       "      <td>7.7500</td>\n",
       "      <td>0</td>\n",
       "      <td>1</td>\n",
       "      <td>0</td>\n",
       "    </tr>\n",
       "  </tbody>\n",
       "</table>\n",
       "<p>891 rows × 11 columns</p>\n",
       "</div>"
      ],
      "text/plain": [
       "     Survived  Pclass                                               Name  Sex  \\\n",
       "0           0       3                            Braund, Mr. Owen Harris    1   \n",
       "1           1       1  Cumings, Mrs. John Bradley (Florence Briggs Th...    0   \n",
       "2           1       3                             Heikkinen, Miss. Laina    0   \n",
       "3           1       1       Futrelle, Mrs. Jacques Heath (Lily May Peel)    0   \n",
       "4           0       3                           Allen, Mr. William Henry    1   \n",
       "..        ...     ...                                                ...  ...   \n",
       "886         0       2                              Montvila, Rev. Juozas    1   \n",
       "887         1       1                       Graham, Miss. Margaret Edith    0   \n",
       "888         0       3           Johnston, Miss. Catherine Helen \"Carrie\"    0   \n",
       "889         1       1                              Behr, Mr. Karl Howell    1   \n",
       "890         0       3                                Dooley, Mr. Patrick    1   \n",
       "\n",
       "           Age  SibSp  Parch     Fare  Embarked_C  Embarked_Q  Embarked_S  \n",
       "0    22.000000      1      0   7.2500           0           0           1  \n",
       "1    38.000000      1      0  71.2833           1           0           0  \n",
       "2    26.000000      0      0   7.9250           0           0           1  \n",
       "3    35.000000      1      0  53.1000           0           0           1  \n",
       "4    35.000000      0      0   8.0500           0           0           1  \n",
       "..         ...    ...    ...      ...         ...         ...         ...  \n",
       "886  27.000000      0      0  13.0000           0           0           1  \n",
       "887  19.000000      0      0  30.0000           0           0           1  \n",
       "888  29.699118      1      2  23.4500           0           0           1  \n",
       "889  26.000000      0      0  30.0000           1           0           0  \n",
       "890  32.000000      0      0   7.7500           0           1           0  \n",
       "\n",
       "[891 rows x 11 columns]"
      ]
     },
     "execution_count": 40,
     "metadata": {},
     "output_type": "execute_result"
    }
   ],
   "source": [
    "embarked_dummies = pd.get_dummies(titanic['Embarked'], prefix='Embarked')\n",
    "titanic= pd.concat([titanic, embarked_dummies], axis=1)\n",
    "titanic=titanic.drop(columns=\"Embarked\",axis=1)\n",
    "titanic"
   ]
  },
  {
   "cell_type": "code",
   "execution_count": 41,
   "id": "476fdeb8",
   "metadata": {},
   "outputs": [
    {
     "data": {
      "text/html": [
       "<div>\n",
       "<style scoped>\n",
       "    .dataframe tbody tr th:only-of-type {\n",
       "        vertical-align: middle;\n",
       "    }\n",
       "\n",
       "    .dataframe tbody tr th {\n",
       "        vertical-align: top;\n",
       "    }\n",
       "\n",
       "    .dataframe thead th {\n",
       "        text-align: right;\n",
       "    }\n",
       "</style>\n",
       "<table border=\"1\" class=\"dataframe\">\n",
       "  <thead>\n",
       "    <tr style=\"text-align: right;\">\n",
       "      <th></th>\n",
       "      <th>Survived</th>\n",
       "      <th>Pclass</th>\n",
       "      <th>Sex</th>\n",
       "      <th>Age</th>\n",
       "      <th>SibSp</th>\n",
       "      <th>Parch</th>\n",
       "      <th>Fare</th>\n",
       "      <th>Embarked_C</th>\n",
       "      <th>Embarked_Q</th>\n",
       "      <th>Embarked_S</th>\n",
       "    </tr>\n",
       "  </thead>\n",
       "  <tbody>\n",
       "    <tr>\n",
       "      <th>0</th>\n",
       "      <td>0</td>\n",
       "      <td>3</td>\n",
       "      <td>1</td>\n",
       "      <td>22.000000</td>\n",
       "      <td>1</td>\n",
       "      <td>0</td>\n",
       "      <td>7.2500</td>\n",
       "      <td>0</td>\n",
       "      <td>0</td>\n",
       "      <td>1</td>\n",
       "    </tr>\n",
       "    <tr>\n",
       "      <th>1</th>\n",
       "      <td>1</td>\n",
       "      <td>1</td>\n",
       "      <td>0</td>\n",
       "      <td>38.000000</td>\n",
       "      <td>1</td>\n",
       "      <td>0</td>\n",
       "      <td>71.2833</td>\n",
       "      <td>1</td>\n",
       "      <td>0</td>\n",
       "      <td>0</td>\n",
       "    </tr>\n",
       "    <tr>\n",
       "      <th>2</th>\n",
       "      <td>1</td>\n",
       "      <td>3</td>\n",
       "      <td>0</td>\n",
       "      <td>26.000000</td>\n",
       "      <td>0</td>\n",
       "      <td>0</td>\n",
       "      <td>7.9250</td>\n",
       "      <td>0</td>\n",
       "      <td>0</td>\n",
       "      <td>1</td>\n",
       "    </tr>\n",
       "    <tr>\n",
       "      <th>3</th>\n",
       "      <td>1</td>\n",
       "      <td>1</td>\n",
       "      <td>0</td>\n",
       "      <td>35.000000</td>\n",
       "      <td>1</td>\n",
       "      <td>0</td>\n",
       "      <td>53.1000</td>\n",
       "      <td>0</td>\n",
       "      <td>0</td>\n",
       "      <td>1</td>\n",
       "    </tr>\n",
       "    <tr>\n",
       "      <th>4</th>\n",
       "      <td>0</td>\n",
       "      <td>3</td>\n",
       "      <td>1</td>\n",
       "      <td>35.000000</td>\n",
       "      <td>0</td>\n",
       "      <td>0</td>\n",
       "      <td>8.0500</td>\n",
       "      <td>0</td>\n",
       "      <td>0</td>\n",
       "      <td>1</td>\n",
       "    </tr>\n",
       "    <tr>\n",
       "      <th>...</th>\n",
       "      <td>...</td>\n",
       "      <td>...</td>\n",
       "      <td>...</td>\n",
       "      <td>...</td>\n",
       "      <td>...</td>\n",
       "      <td>...</td>\n",
       "      <td>...</td>\n",
       "      <td>...</td>\n",
       "      <td>...</td>\n",
       "      <td>...</td>\n",
       "    </tr>\n",
       "    <tr>\n",
       "      <th>886</th>\n",
       "      <td>0</td>\n",
       "      <td>2</td>\n",
       "      <td>1</td>\n",
       "      <td>27.000000</td>\n",
       "      <td>0</td>\n",
       "      <td>0</td>\n",
       "      <td>13.0000</td>\n",
       "      <td>0</td>\n",
       "      <td>0</td>\n",
       "      <td>1</td>\n",
       "    </tr>\n",
       "    <tr>\n",
       "      <th>887</th>\n",
       "      <td>1</td>\n",
       "      <td>1</td>\n",
       "      <td>0</td>\n",
       "      <td>19.000000</td>\n",
       "      <td>0</td>\n",
       "      <td>0</td>\n",
       "      <td>30.0000</td>\n",
       "      <td>0</td>\n",
       "      <td>0</td>\n",
       "      <td>1</td>\n",
       "    </tr>\n",
       "    <tr>\n",
       "      <th>888</th>\n",
       "      <td>0</td>\n",
       "      <td>3</td>\n",
       "      <td>0</td>\n",
       "      <td>29.699118</td>\n",
       "      <td>1</td>\n",
       "      <td>2</td>\n",
       "      <td>23.4500</td>\n",
       "      <td>0</td>\n",
       "      <td>0</td>\n",
       "      <td>1</td>\n",
       "    </tr>\n",
       "    <tr>\n",
       "      <th>889</th>\n",
       "      <td>1</td>\n",
       "      <td>1</td>\n",
       "      <td>1</td>\n",
       "      <td>26.000000</td>\n",
       "      <td>0</td>\n",
       "      <td>0</td>\n",
       "      <td>30.0000</td>\n",
       "      <td>1</td>\n",
       "      <td>0</td>\n",
       "      <td>0</td>\n",
       "    </tr>\n",
       "    <tr>\n",
       "      <th>890</th>\n",
       "      <td>0</td>\n",
       "      <td>3</td>\n",
       "      <td>1</td>\n",
       "      <td>32.000000</td>\n",
       "      <td>0</td>\n",
       "      <td>0</td>\n",
       "      <td>7.7500</td>\n",
       "      <td>0</td>\n",
       "      <td>1</td>\n",
       "      <td>0</td>\n",
       "    </tr>\n",
       "  </tbody>\n",
       "</table>\n",
       "<p>891 rows × 10 columns</p>\n",
       "</div>"
      ],
      "text/plain": [
       "     Survived  Pclass  Sex        Age  SibSp  Parch     Fare  Embarked_C  \\\n",
       "0           0       3    1  22.000000      1      0   7.2500           0   \n",
       "1           1       1    0  38.000000      1      0  71.2833           1   \n",
       "2           1       3    0  26.000000      0      0   7.9250           0   \n",
       "3           1       1    0  35.000000      1      0  53.1000           0   \n",
       "4           0       3    1  35.000000      0      0   8.0500           0   \n",
       "..        ...     ...  ...        ...    ...    ...      ...         ...   \n",
       "886         0       2    1  27.000000      0      0  13.0000           0   \n",
       "887         1       1    0  19.000000      0      0  30.0000           0   \n",
       "888         0       3    0  29.699118      1      2  23.4500           0   \n",
       "889         1       1    1  26.000000      0      0  30.0000           1   \n",
       "890         0       3    1  32.000000      0      0   7.7500           0   \n",
       "\n",
       "     Embarked_Q  Embarked_S  \n",
       "0             0           1  \n",
       "1             0           0  \n",
       "2             0           1  \n",
       "3             0           1  \n",
       "4             0           1  \n",
       "..          ...         ...  \n",
       "886           0           1  \n",
       "887           0           1  \n",
       "888           0           1  \n",
       "889           0           0  \n",
       "890           1           0  \n",
       "\n",
       "[891 rows x 10 columns]"
      ]
     },
     "execution_count": 41,
     "metadata": {},
     "output_type": "execute_result"
    }
   ],
   "source": [
    "# let's drop the name column because it contain the name column \n",
    "titanic=titanic.drop(columns=\"Name\",axis=1)\n",
    "titanic"
   ]
  },
  {
   "cell_type": "code",
   "execution_count": 42,
   "id": "df16b74f",
   "metadata": {},
   "outputs": [
    {
     "data": {
      "image/png": "[encoded data removed]",
      "text/plain": [
       "<Figure size 1440x1800 with 10 Axes>"
      ]
     },
     "metadata": {
      "needs_background": "light"
     },
     "output_type": "display_data"
    }
   ],
   "source": [
    "# now all our data is now numerical so we camplot and check skweness in our dataset \n",
    "plt.figure(figsize=(20,25))\n",
    "column=1\n",
    "for columns in titanic:\n",
    "    if column <=10:\n",
    "        plt.subplot(4,4,column)\n",
    "        ax=sns.distplot(titanic[columns])\n",
    "        plt.xlabel(columns,fontsize=15)\n",
    "    column+=1\n",
    "plt.show()"
   ]
  },
  {
   "cell_type": "code",
   "execution_count": 43,
   "id": "139ceceb",
   "metadata": {},
   "outputs": [
    {
     "data": {
      "text/plain": [
       "Survived      0.478523\n",
       "Pclass       -0.630548\n",
       "Sex          -0.618921\n",
       "Age           0.434488\n",
       "SibSp         3.695352\n",
       "Parch         2.749117\n",
       "Fare          4.787317\n",
       "Embarked_C    1.595149\n",
       "Embarked_Q    2.948778\n",
       "Embarked_S   -1.009665\n",
       "dtype: float64"
      ]
     },
     "execution_count": 43,
     "metadata": {},
     "output_type": "execute_result"
    }
   ],
   "source": [
    "titanic.skew()"
   ]
  },
  {
   "cell_type": "code",
   "execution_count": 44,
   "id": "21b97ab0",
   "metadata": {},
   "outputs": [],
   "source": [
    " # fare and sibSp  have litttile skweness let's remove it by using transform\n",
    "titanic[\"Fare\"]=np.sqrt(titanic['Fare'])"
   ]
  },
  {
   "cell_type": "code",
   "execution_count": 45,
   "id": "57a99bde",
   "metadata": {},
   "outputs": [
    {
     "data": {
      "text/plain": [
       "Survived      0.478523\n",
       "Pclass       -0.630548\n",
       "Sex          -0.618921\n",
       "Age           0.434488\n",
       "SibSp         3.695352\n",
       "Parch         2.749117\n",
       "Fare          2.085004\n",
       "Embarked_C    1.595149\n",
       "Embarked_Q    2.948778\n",
       "Embarked_S   -1.009665\n",
       "dtype: float64"
      ]
     },
     "execution_count": 45,
     "metadata": {},
     "output_type": "execute_result"
    }
   ],
   "source": [
    "titanic.skew()"
   ]
  },
  {
   "cell_type": "code",
   "execution_count": 46,
   "id": "0779f780",
   "metadata": {},
   "outputs": [],
   "source": [
    "titanic[\"SibSp\"]=np.sqrt(titanic['SibSp'])"
   ]
  },
  {
   "cell_type": "code",
   "execution_count": 47,
   "id": "29f56840",
   "metadata": {},
   "outputs": [
    {
     "data": {
      "text/plain": [
       "Survived      0.478523\n",
       "Pclass       -0.630548\n",
       "Sex          -0.618921\n",
       "Age           0.434488\n",
       "SibSp         1.436526\n",
       "Parch         2.749117\n",
       "Fare          2.085004\n",
       "Embarked_C    1.595149\n",
       "Embarked_Q    2.948778\n",
       "Embarked_S   -1.009665\n",
       "dtype: float64"
      ]
     },
     "execution_count": 47,
     "metadata": {},
     "output_type": "execute_result"
    }
   ],
   "source": [
    "titanic.skew()"
   ]
  },
  {
   "cell_type": "code",
   "execution_count": 48,
   "id": "8042ce0f",
   "metadata": {},
   "outputs": [
    {
     "data": {
      "image/png": "[encoded data removed]",
      "text/plain": [
       "<Figure size 1440x1800 with 10 Axes>"
      ]
     },
     "metadata": {
      "needs_background": "light"
     },
     "output_type": "display_data"
    }
   ],
   "source": [
    "plt.figure(figsize=(20,25))\n",
    "column=1\n",
    "for columns in titanic:\n",
    "    if column <=10:\n",
    "        plt.subplot(4,4,column)\n",
    "        ax=sns.distplot(titanic[columns])\n",
    "        plt.xlabel(columns,fontsize=15)\n",
    "    column+=1\n",
    "plt.show()"
   ]
  },
  {
   "cell_type": "code",
   "execution_count": 49,
   "id": "4a94987e",
   "metadata": {},
   "outputs": [
    {
     "data": {
      "image/png": "[encoded data removed]",
      "text/plain": [
       "<Figure size 864x864 with 10 Axes>"
      ]
     },
     "metadata": {
      "needs_background": "light"
     },
     "output_type": "display_data"
    }
   ],
   "source": [
    "plt.figure(figsize=(12,12))\n",
    "feature=1\n",
    "for i in titanic:\n",
    "    if feature <=12:\n",
    "        plt.subplot(4,4,feature)\n",
    "        ax=sns.boxplot(titanic[i])\n",
    "        plt.xlabel(i,fontsize=20)\n",
    "    feature+=1\n",
    "plt.tight_layout()"
   ]
  },
  {
   "cell_type": "code",
   "execution_count": 53,
   "id": "705c6a67",
   "metadata": {},
   "outputs": [],
   "source": [
    "# let's seprate our feature and variable\n",
    "x=titanic.drop(columns=[\"Survived\"])\n",
    "y=titanic[\"Survived\"]"
   ]
  },
  {
   "cell_type": "code",
   "execution_count": 56,
   "id": "9568c818",
   "metadata": {},
   "outputs": [
    {
     "data": {
      "text/plain": [
       "array([[ 0.82737724,  0.73769513, -0.5924806 , ..., -0.48204268,\n",
       "        -0.30756234,  0.61583843],\n",
       "       [-1.56610693, -1.35557354,  0.63878901, ...,  2.0745051 ,\n",
       "        -0.30756234, -1.62380254],\n",
       "       [ 0.82737724, -1.35557354, -0.2846632 , ..., -0.48204268,\n",
       "        -0.30756234,  0.61583843],\n",
       "       ...,\n",
       "       [ 0.82737724, -1.35557354,  0.        , ..., -0.48204268,\n",
       "        -0.30756234,  0.61583843],\n",
       "       [-1.56610693,  0.73769513, -0.2846632 , ...,  2.0745051 ,\n",
       "        -0.30756234, -1.62380254],\n",
       "       [ 0.82737724,  0.73769513,  0.17706291, ..., -0.48204268,\n",
       "         3.25137334, -1.62380254]])"
      ]
     },
     "execution_count": 56,
     "metadata": {},
     "output_type": "execute_result"
    }
   ],
   "source": [
    "# Let's check multicollinearity but before that we scaled our dataset\n",
    "from sklearn.preprocessing import StandardScaler\n",
    "scaler=StandardScaler()\n",
    "x_scaled_value=scaler.fit_transform(x)\n",
    "x_scaled_value"
   ]
  },
  {
   "cell_type": "code",
   "execution_count": 57,
   "id": "efa33f89",
   "metadata": {},
   "outputs": [],
   "source": [
    "# now lets's check VIF values to find the mullticollinearity\n",
    "from statsmodels.stats.outliers_influence import variance_inflation_factor\n",
    "vif_data = pd.DataFrame()\n",
    "vif_data['VIF'] = [variance_inflation_factor(x_scaled_value, i) for i in range(x_scaled_value.shape[1])]\n",
    "vif_data[\"faeture\"]=x.columns"
   ]
  },
  {
   "cell_type": "code",
   "execution_count": 58,
   "id": "95caf299",
   "metadata": {},
   "outputs": [
    {
     "name": "stdout",
     "output_type": "stream",
     "text": [
      "        VIF     faeture\n",
      "0  2.292896      Pclass\n",
      "1  1.133685         Sex\n",
      "2  1.213347         Age\n",
      "3  1.373952       SibSp\n",
      "4  1.378970       Parch\n",
      "5  2.449579        Fare\n",
      "6       inf  Embarked_C\n",
      "7       inf  Embarked_Q\n",
      "8       inf  Embarked_S\n"
     ]
    }
   ],
   "source": [
    "print(vif_data)"
   ]
  },
  {
   "cell_type": "markdown",
   "id": "e78eaaa2",
   "metadata": {},
   "source": [
    "As you can see there is no multicollinearity present so we don;t need to do any tranfsormation "
   ]
  },
  {
   "cell_type": "markdown",
   "id": "12444b2e",
   "metadata": {},
   "source": [
    "# Now we build our ML model"
   ]
  },
  {
   "cell_type": "code",
   "execution_count": 88,
   "id": "4cab3850",
   "metadata": {},
   "outputs": [],
   "source": [
    "from sklearn.linear_model import LogisticRegression\n",
    "from sklearn.ensemble import RandomForestClassifier\n",
    "from sklearn.svm import SVC\n",
    "from sklearn.neighbors import KNeighborsClassifier\n",
    "from sklearn.ensemble import AdaBoostClassifier, GradientBoostingClassifier,BaggingClassifier\n",
    "from sklearn.tree import DecisionTreeClassifier\n",
    "from sklearn.metrics import classification_report,accuracy_score,confusion_matrix,roc_curve\n",
    "from sklearn.model_selection import cross_val_score\n",
    "from sklearn.model_selection import train_test_split"
   ]
  },
  {
   "cell_type": "markdown",
   "id": "d5722aad",
   "metadata": {},
   "source": [
    "# Random Forest classifier"
   ]
  },
  {
   "cell_type": "code",
   "execution_count": 62,
   "id": "5d76d931",
   "metadata": {},
   "outputs": [
    {
     "name": "stdout",
     "output_type": "stream",
     "text": [
      "Best Random State  : 93\n",
      " best_accuracy_score:-  86.59217877094973\n"
     ]
    }
   ],
   "source": [
    "def select_best_random_state(x, y):\n",
    "    best_random_state =0\n",
    "    best_accuracy_score =0\n",
    "\n",
    "    for random_state in range(1,300):\n",
    "        X_train, X_test, y_train, y_test = train_test_split(x, y, test_size=0.2, random_state=random_state)\n",
    "        RFR = RandomForestClassifier()\n",
    "        \n",
    "        RFR.fit(X_train, y_train)\n",
    "        y_pred = RFR.predict(X_test)\n",
    "        acc = accuracy_score(y_test, y_pred)\n",
    "        if acc > best_accuracy_score:\n",
    "            best_accuracy_score = acc\n",
    "            best_random_state = random_state\n",
    "\n",
    "    return best_random_state, best_accuracy_score \n",
    "\n",
    "\n",
    "best_random_state, best_accuracy_score= select_best_random_state(x, y)\n",
    "print(\"Best Random State  :\", best_random_state)\n",
    "print(\" best_accuracy_score:- \", best_accuracy_score*100)"
   ]
  },
  {
   "cell_type": "code",
   "execution_count": 63,
   "id": "fd1bb708",
   "metadata": {},
   "outputs": [
    {
     "name": "stdout",
     "output_type": "stream",
     "text": [
      "confusion matrix of random forest classifier is \n",
      "[[99 14]\n",
      " [12 54]]\n",
      "classification_report of random forest classifier at random state is:- \n",
      "              precision    recall  f1-score   support\n",
      "\n",
      "           0       0.89      0.88      0.88       113\n",
      "           1       0.79      0.82      0.81        66\n",
      "\n",
      "    accuracy                           0.85       179\n",
      "   macro avg       0.84      0.85      0.84       179\n",
      "weighted avg       0.86      0.85      0.86       179\n",
      "\n"
     ]
    }
   ],
   "source": [
    "X_train, X_test, y_train, y_test = train_test_split(x, y, test_size=0.2, random_state=93)\n",
    "RFR=RandomForestClassifier()\n",
    "RFR.fit(X_train, y_train)\n",
    "y_pred = RFR.predict(X_test)\n",
    "conf=confusion_matrix(y_test,y_pred)\n",
    "clas=classification_report(y_test,y_pred)\n",
    "print(\"confusion matrix of random forest classifier is \")\n",
    "print(conf)\n",
    "print(\"classification_report of random forest classifier at random state is:- \")\n",
    "print(clas)"
   ]
  },
  {
   "cell_type": "markdown",
   "id": "59100fdc",
   "metadata": {},
   "source": [
    "# Logistic regression"
   ]
  },
  {
   "cell_type": "code",
   "execution_count": 65,
   "id": "c02f1449",
   "metadata": {},
   "outputs": [
    {
     "name": "stdout",
     "output_type": "stream",
     "text": [
      "Best Random State  : 6\n",
      " best_accuracy_score:-  86.59217877094973\n"
     ]
    }
   ],
   "source": [
    "def select_best_random_state(x, y):\n",
    "    best_random_state =0\n",
    "    best_accuracy_score =0\n",
    "\n",
    "    for random_state in range(1,300):\n",
    "        X_train, X_test, y_train, y_test = train_test_split(x, y, test_size=0.2, random_state=random_state)\n",
    "        logistic_r= LogisticRegression()\n",
    "        \n",
    "        logistic_r.fit(X_train, y_train)\n",
    "        y_pred = logistic_r.predict(X_test)\n",
    "        acc = accuracy_score(y_test, y_pred)\n",
    "        if acc > best_accuracy_score:\n",
    "            best_accuracy_score = acc\n",
    "            best_random_state = random_state\n",
    "\n",
    "    return best_random_state, best_accuracy_score \n",
    "\n",
    "\n",
    "best_random_state, best_accuracy_score= select_best_random_state(x, y)\n",
    "print(\"Best Random State  :\", best_random_state)\n",
    "print(\" best_accuracy_score:- \", best_accuracy_score*100)"
   ]
  },
  {
   "cell_type": "code",
   "execution_count": 80,
   "id": "9d8876f7",
   "metadata": {},
   "outputs": [
    {
     "name": "stdout",
     "output_type": "stream",
     "text": [
      "confusion matrix of logistic regression is \n",
      "[[106   7]\n",
      " [ 17  49]]\n",
      "classification_report of logistic regression is:- \n",
      "              precision    recall  f1-score   support\n",
      "\n",
      "           0       0.86      0.94      0.90       113\n",
      "           1       0.88      0.74      0.80        66\n",
      "\n",
      "    accuracy                           0.87       179\n",
      "   macro avg       0.87      0.84      0.85       179\n",
      "weighted avg       0.87      0.87      0.86       179\n",
      "\n"
     ]
    }
   ],
   "source": [
    "X_train, X_test, y_train, y_test = train_test_split(x, y, test_size=0.2, random_state=6)\n",
    "logistic_r= LogisticRegression()\n",
    "logistic_r.fit(X_train, y_train)\n",
    "y_pred = logistic_r.predict(X_test)\n",
    "conf=confusion_matrix(y_test,y_pred)\n",
    "clas=classification_report(y_test,y_pred)\n",
    "print(\"confusion matrix of logistic regression is \")\n",
    "print(conf)\n",
    "print(\"classification_report of logistic regression is:- \")\n",
    "print(clas)"
   ]
  },
  {
   "cell_type": "markdown",
   "id": "667db57d",
   "metadata": {},
   "source": [
    "# Support vector classifier"
   ]
  },
  {
   "cell_type": "code",
   "execution_count": 71,
   "id": "072bb329",
   "metadata": {},
   "outputs": [
    {
     "name": "stdout",
     "output_type": "stream",
     "text": [
      "Best Random State  : 273\n",
      " best_accuracy_score:-  80.44692737430168\n"
     ]
    }
   ],
   "source": [
    "def select_best_random_state(x, y):\n",
    "    best_random_state =0\n",
    "    best_accuracy_score =0\n",
    "\n",
    "    for random_state in range(1,300):\n",
    "        X_train, X_test, y_train, y_test = train_test_split(x, y, test_size=0.2, random_state=random_state)\n",
    "        svc= SVC()\n",
    "        \n",
    "        svc.fit(X_train, y_train)\n",
    "        y_pred = svc.predict(X_test)\n",
    "        acc = accuracy_score(y_test, y_pred)\n",
    "        if acc > best_accuracy_score:\n",
    "            best_accuracy_score = acc\n",
    "            best_random_state = random_state\n",
    "\n",
    "    return best_random_state, best_accuracy_score \n",
    "\n",
    "\n",
    "best_random_state, best_accuracy_score= select_best_random_state(x, y)\n",
    "print(\"Best Random State  :\", best_random_state)\n",
    "print(\" best_accuracy_score:- \", best_accuracy_score*100)"
   ]
  },
  {
   "cell_type": "code",
   "execution_count": 79,
   "id": "1ec9a111",
   "metadata": {},
   "outputs": [
    {
     "name": "stdout",
     "output_type": "stream",
     "text": [
      "confusion matrix of logistic regression is \n",
      "[[121   8]\n",
      " [ 27  23]]\n",
      "classification_report of logistic regression is:- \n",
      "              precision    recall  f1-score   support\n",
      "\n",
      "           0       0.82      0.94      0.87       129\n",
      "           1       0.74      0.46      0.57        50\n",
      "\n",
      "    accuracy                           0.80       179\n",
      "   macro avg       0.78      0.70      0.72       179\n",
      "weighted avg       0.80      0.80      0.79       179\n",
      "\n"
     ]
    }
   ],
   "source": [
    "X_train, X_test, y_train, y_test = train_test_split(x, y, test_size=0.2, random_state=273)\n",
    "svc= SVC()\n",
    "svc.fit(X_train, y_train)\n",
    "y_pred = svc.predict(X_test)\n",
    "conf=confusion_matrix(y_test,y_pred)\n",
    "clas=classification_report(y_test,y_pred)\n",
    "print(\"confusion matrix of logistic regression is \")\n",
    "print(conf)\n",
    "print(\"classification_report of logistic regression is:- \")\n",
    "print(clas)"
   ]
  },
  {
   "cell_type": "markdown",
   "id": "eff3542f",
   "metadata": {},
   "source": [
    "# KNeighbours Classifier"
   ]
  },
  {
   "cell_type": "code",
   "execution_count": 73,
   "id": "9294d1fa",
   "metadata": {},
   "outputs": [
    {
     "name": "stdout",
     "output_type": "stream",
     "text": [
      "Best Random State  : 91\n",
      " best_accuracy_score:-  82.12290502793296\n"
     ]
    }
   ],
   "source": [
    "def select_best_random_state(x, y):\n",
    "    best_random_state =0\n",
    "    best_accuracy_score =0\n",
    "\n",
    "    for random_state in range(1,300):\n",
    "        X_train, X_test, y_train, y_test = train_test_split(x, y, test_size=0.2, random_state=random_state)\n",
    "        knc=KNeighborsClassifier()\n",
    "        \n",
    "        knc.fit(X_train, y_train)\n",
    "        y_pred = knc.predict(X_test)\n",
    "        acc = accuracy_score(y_test, y_pred)\n",
    "        if acc > best_accuracy_score:\n",
    "            best_accuracy_score = acc\n",
    "            best_random_state = random_state\n",
    "\n",
    "    return best_random_state, best_accuracy_score \n",
    "\n",
    "\n",
    "best_random_state, best_accuracy_score= select_best_random_state(x, y)\n",
    "print(\"Best Random State  :\", best_random_state)\n",
    "print(\" best_accuracy_score:- \", best_accuracy_score*100)"
   ]
  },
  {
   "cell_type": "code",
   "execution_count": 78,
   "id": "509de32c",
   "metadata": {},
   "outputs": [
    {
     "name": "stdout",
     "output_type": "stream",
     "text": [
      "confusion matrix of  is KNeighborsClassifier\n",
      "[[103  17]\n",
      " [ 15  44]]\n",
      "classification_report of KNeighborsClassifier is:- \n",
      "              precision    recall  f1-score   support\n",
      "\n",
      "           0       0.87      0.86      0.87       120\n",
      "           1       0.72      0.75      0.73        59\n",
      "\n",
      "    accuracy                           0.82       179\n",
      "   macro avg       0.80      0.80      0.80       179\n",
      "weighted avg       0.82      0.82      0.82       179\n",
      "\n"
     ]
    }
   ],
   "source": [
    "X_train, X_test, y_train, y_test = train_test_split(x, y, test_size=0.2, random_state=91)\n",
    "knc=KNeighborsClassifier()\n",
    "knc.fit(X_train, y_train)\n",
    "y_pred = knc.predict(X_test)\n",
    "conf=confusion_matrix(y_test,y_pred)\n",
    "clas=classification_report(y_test,y_pred)\n",
    "print(\"confusion matrix of  is KNeighborsClassifier\")\n",
    "print(conf)\n",
    "print(\"classification_report of KNeighborsClassifier is:- \")\n",
    "print(clas)"
   ]
  },
  {
   "cell_type": "markdown",
   "id": "a7d6dcb1",
   "metadata": {},
   "source": [
    "# AdaBoostClassifier"
   ]
  },
  {
   "cell_type": "code",
   "execution_count": 76,
   "id": "4e7f9712",
   "metadata": {},
   "outputs": [
    {
     "name": "stdout",
     "output_type": "stream",
     "text": [
      "Best Random State  : 18\n",
      " best_accuracy_score:-  87.15083798882681\n"
     ]
    }
   ],
   "source": [
    "def select_best_random_state(x, y):\n",
    "    best_random_state =0\n",
    "    best_accuracy_score =0\n",
    "\n",
    "    for random_state in range(1,300):\n",
    "        X_train, X_test, y_train, y_test = train_test_split(x, y, test_size=0.2, random_state=random_state)\n",
    "        adb=AdaBoostClassifier()\n",
    "        \n",
    "        adb.fit(X_train, y_train)\n",
    "        y_pred = adb.predict(X_test)\n",
    "        acc = accuracy_score(y_test, y_pred)\n",
    "        if acc > best_accuracy_score:\n",
    "            best_accuracy_score = acc\n",
    "            best_random_state = random_state\n",
    "\n",
    "    return best_random_state, best_accuracy_score \n",
    "\n",
    "\n",
    "best_random_state, best_accuracy_score= select_best_random_state(x, y)\n",
    "print(\"Best Random State  :\", best_random_state)\n",
    "print(\" best_accuracy_score:- \", best_accuracy_score*100)"
   ]
  },
  {
   "cell_type": "code",
   "execution_count": 77,
   "id": "64626fb8",
   "metadata": {},
   "outputs": [
    {
     "name": "stdout",
     "output_type": "stream",
     "text": [
      "confusion matrix of  is AdaBoostClassifier\n",
      "[[97 12]\n",
      " [11 59]]\n",
      "classification_report of AdaBoostClassifier is:- \n",
      "              precision    recall  f1-score   support\n",
      "\n",
      "           0       0.90      0.89      0.89       109\n",
      "           1       0.83      0.84      0.84        70\n",
      "\n",
      "    accuracy                           0.87       179\n",
      "   macro avg       0.86      0.87      0.87       179\n",
      "weighted avg       0.87      0.87      0.87       179\n",
      "\n"
     ]
    }
   ],
   "source": [
    "X_train, X_test, y_train, y_test = train_test_split(x, y, test_size=0.2, random_state=18)\n",
    "adb=AdaBoostClassifier()\n",
    "adb.fit(X_train, y_train)\n",
    "y_pred = adb.predict(X_test)\n",
    "conf=confusion_matrix(y_test,y_pred)\n",
    "clas=classification_report(y_test,y_pred)\n",
    "print(\"confusion matrix of  is AdaBoostClassifier\")\n",
    "print(conf)\n",
    "print(\"classification_report of AdaBoostClassifier is:- \")\n",
    "print(clas)"
   ]
  },
  {
   "cell_type": "markdown",
   "id": "2e031cd1",
   "metadata": {},
   "source": [
    "# DescionTree Classifier"
   ]
  },
  {
   "cell_type": "code",
   "execution_count": 85,
   "id": "e36c1aed",
   "metadata": {},
   "outputs": [
    {
     "name": "stdout",
     "output_type": "stream",
     "text": [
      "Best Random State  : 4\n",
      " best_accuracy_score:-  84.91620111731844\n"
     ]
    }
   ],
   "source": [
    "def select_best_random_state(x, y):\n",
    "    best_random_state =0\n",
    "    best_accuracy_score =0\n",
    "\n",
    "    for random_state in range(1,300):\n",
    "        X_train, X_test, y_train, y_test = train_test_split(x, y, test_size=0.2, random_state=random_state)\n",
    "        dtc=DecisionTreeClassifier()\n",
    "        \n",
    "        dtc.fit(X_train, y_train)\n",
    "        y_pred = dtc.predict(X_test)\n",
    "        acc = accuracy_score(y_test, y_pred)\n",
    "        if acc > best_accuracy_score:\n",
    "            best_accuracy_score = acc\n",
    "            best_random_state = random_state\n",
    "\n",
    "    return best_random_state, best_accuracy_score \n",
    "\n",
    "\n",
    "best_random_state, best_accuracy_score= select_best_random_state(x, y)\n",
    "print(\"Best Random State  :\", best_random_state)\n",
    "print(\" best_accuracy_score:- \", best_accuracy_score*100)"
   ]
  },
  {
   "cell_type": "code",
   "execution_count": 86,
   "id": "e8079157",
   "metadata": {},
   "outputs": [
    {
     "name": "stdout",
     "output_type": "stream",
     "text": [
      "confusion matrix of  is DecisionTreeClassifier\n",
      "[[111   8]\n",
      " [ 18  42]]\n",
      "classification_report of DecisionTreeClassifier is:- \n",
      "              precision    recall  f1-score   support\n",
      "\n",
      "           0       0.86      0.93      0.90       119\n",
      "           1       0.84      0.70      0.76        60\n",
      "\n",
      "    accuracy                           0.85       179\n",
      "   macro avg       0.85      0.82      0.83       179\n",
      "weighted avg       0.85      0.85      0.85       179\n",
      "\n"
     ]
    }
   ],
   "source": [
    "X_train, X_test, y_train, y_test = train_test_split(x, y, test_size=0.2, random_state=4)\n",
    "dtc=DecisionTreeClassifier()\n",
    "dtc.fit(X_train, y_train)\n",
    "y_pred = dtc.predict(X_test)\n",
    "conf=confusion_matrix(y_test,y_pred)\n",
    "clas=classification_report(y_test,y_pred)\n",
    "print(\"confusion matrix of  is DecisionTreeClassifier\")\n",
    "print(conf)\n",
    "print(\"classification_report of DecisionTreeClassifier is:- \")\n",
    "print(clas)"
   ]
  },
  {
   "cell_type": "markdown",
   "id": "236eb57f",
   "metadata": {},
   "source": [
    "#  GradientBoostingClassifier"
   ]
  },
  {
   "cell_type": "code",
   "execution_count": 84,
   "id": "b9c08251",
   "metadata": {},
   "outputs": [
    {
     "name": "stdout",
     "output_type": "stream",
     "text": [
      "Best Random State  : 254\n",
      " best_accuracy_score:-  86.56716417910447\n"
     ]
    }
   ],
   "source": [
    "def select_best_random_state(x, y):\n",
    "    best_random_state =0\n",
    "    best_accuracy_score =0\n",
    "\n",
    "    for random_state in range(1,300):\n",
    "        X_train, X_test, y_train, y_test = train_test_split(x, y, test_size=0.3, random_state=random_state)\n",
    "        GBC=GradientBoostingClassifier()\n",
    "        \n",
    "        GBC.fit(X_train, y_train)\n",
    "        y_pred = GBC.predict(X_test)\n",
    "        acc = accuracy_score(y_test, y_pred)\n",
    "        if acc > best_accuracy_score:\n",
    "            best_accuracy_score = acc\n",
    "            best_random_state = random_state\n",
    "\n",
    "    return best_random_state, best_accuracy_score \n",
    "\n",
    "\n",
    "best_random_state, best_accuracy_score= select_best_random_state(x, y)\n",
    "print(\"Best Random State  :\", best_random_state)\n",
    "print(\" best_accuracy_score:- \", best_accuracy_score*100)"
   ]
  },
  {
   "cell_type": "code",
   "execution_count": 87,
   "id": "ce599901",
   "metadata": {},
   "outputs": [
    {
     "name": "stdout",
     "output_type": "stream",
     "text": [
      "confusion matrix of  is DecisionTreeClassifier\n",
      "[[109  11]\n",
      " [ 14  45]]\n",
      "classification_report of DecisionTreeClassifier is:- \n",
      "              precision    recall  f1-score   support\n",
      "\n",
      "           0       0.89      0.91      0.90       120\n",
      "           1       0.80      0.76      0.78        59\n",
      "\n",
      "    accuracy                           0.86       179\n",
      "   macro avg       0.84      0.84      0.84       179\n",
      "weighted avg       0.86      0.86      0.86       179\n",
      "\n"
     ]
    }
   ],
   "source": [
    "X_train, X_test, y_train, y_test = train_test_split(x, y, test_size=0.2, random_state=254)\n",
    "GBC=GradientBoostingClassifier()\n",
    "GBC.fit(X_train, y_train)\n",
    "y_pred = GBC.predict(X_test)\n",
    "conf=confusion_matrix(y_test,y_pred)\n",
    "clas=classification_report(y_test,y_pred)\n",
    "print(\"confusion matrix of  is DecisionTreeClassifier\")\n",
    "print(conf)\n",
    "print(\"classification_report of DecisionTreeClassifier is:- \")\n",
    "print(clas)"
   ]
  },
  {
   "cell_type": "markdown",
   "id": "e6bab490",
   "metadata": {},
   "source": [
    "# BaggingClassifier"
   ]
  },
  {
   "cell_type": "code",
   "execution_count": 90,
   "id": "71633a0c",
   "metadata": {},
   "outputs": [
    {
     "name": "stdout",
     "output_type": "stream",
     "text": [
      "Best Random State  : 74\n",
      " best_accuracy_score:-  87.15083798882681\n"
     ]
    }
   ],
   "source": [
    "def select_best_random_state(x, y):\n",
    "    best_random_state =0\n",
    "    best_accuracy_score =0\n",
    "\n",
    "    for random_state in range(1,300):\n",
    "        X_train, X_test, y_train, y_test = train_test_split(x, y, test_size=0.2, random_state=random_state)\n",
    "        BC=BaggingClassifier()\n",
    "        \n",
    "        BC.fit(X_train, y_train)\n",
    "        y_pred = BC.predict(X_test)\n",
    "        acc = accuracy_score(y_test, y_pred)\n",
    "        if acc > best_accuracy_score:\n",
    "            best_accuracy_score = acc\n",
    "            best_random_state = random_state\n",
    "\n",
    "    return best_random_state, best_accuracy_score \n",
    "\n",
    "\n",
    "best_random_state, best_accuracy_score= select_best_random_state(x, y)\n",
    "print(\"Best Random State  :\", best_random_state)\n",
    "print(\" best_accuracy_score:- \", best_accuracy_score*100)"
   ]
  },
  {
   "cell_type": "code",
   "execution_count": 91,
   "id": "14cb0a7c",
   "metadata": {},
   "outputs": [
    {
     "name": "stdout",
     "output_type": "stream",
     "text": [
      "confusion matrix of  is DecisionTreeClassifier\n",
      "[[106   6]\n",
      " [ 13  54]]\n",
      "classification_report of DecisionTreeClassifier is:- \n",
      "              precision    recall  f1-score   support\n",
      "\n",
      "           0       0.89      0.95      0.92       112\n",
      "           1       0.90      0.81      0.85        67\n",
      "\n",
      "    accuracy                           0.89       179\n",
      "   macro avg       0.90      0.88      0.88       179\n",
      "weighted avg       0.89      0.89      0.89       179\n",
      "\n"
     ]
    }
   ],
   "source": [
    "X_train, X_test, y_train, y_test = train_test_split(x, y, test_size=0.2, random_state=74)\n",
    "BC=GradientBoostingClassifier()\n",
    "BC.fit(X_train, y_train)\n",
    "y_pred = BC.predict(X_test)\n",
    "conf=confusion_matrix(y_test,y_pred)\n",
    "clas=classification_report(y_test,y_pred)\n",
    "print(\"confusion matrix of  is DecisionTreeClassifier\")\n",
    "print(conf)\n",
    "print(\"classification_report of DecisionTreeClassifier is:- \")\n",
    "print(clas)"
   ]
  },
  {
   "cell_type": "markdown",
   "id": "0b31ebb5",
   "metadata": {},
   "source": [
    "# As we can see after aplying different model we find \"AdaBoost Classifier\" have best accuracy but still here we not finished we still don\"t know that wether our data is overrfitting our score maybe thats why it giving that accuracy so to check we do croos validation "
   ]
  },
  {
   "cell_type": "code",
   "execution_count": 98,
   "id": "0f1421ee",
   "metadata": {},
   "outputs": [
    {
     "name": "stdout",
     "output_type": "stream",
     "text": [
      "81.14870378507312\n",
      "[0.77653631 0.80898876 0.85393258 0.78089888 0.83707865]\n",
      "0.06002134203753684\n"
     ]
    }
   ],
   "source": [
    "from sklearn.model_selection import StratifiedKFold\n",
    "skf=StratifiedKFold()\n",
    "\n",
    "\n",
    "skf_score=cross_val_score(RFR,x,y,cv=skf)\n",
    "print((skf_score.mean())*100)\n",
    "print(skf_score)\n",
    "print((best_accuracy_score)-skf_score.mean())"
   ]
  },
  {
   "cell_type": "code",
   "execution_count": 99,
   "id": "dcd6f66b",
   "metadata": {},
   "outputs": [
    {
     "name": "stdout",
     "output_type": "stream",
     "text": [
      "78.45332998556273\n",
      "[0.76536313 0.79213483 0.78089888 0.76966292 0.81460674]\n",
      "0.08697508003264076\n"
     ]
    }
   ],
   "source": [
    "# now we do it from logistic regression\n",
    "skf_score=cross_val_score(logistic_r,x,y,cv=skf)\n",
    "print((skf_score.mean())*100)\n",
    "print(skf_score)\n",
    "print((best_accuracy_score)-skf_score.mean())"
   ]
  },
  {
   "cell_type": "code",
   "execution_count": 97,
   "id": "c9f033af",
   "metadata": {},
   "outputs": [
    {
     "name": "stdout",
     "output_type": "stream",
     "text": [
      "69.93095223149834\n",
      "[0.61452514 0.74719101 0.69101124 0.71348315 0.73033708]\n",
      "0.1721988575732848\n"
     ]
    }
   ],
   "source": [
    "# now we do for svc\n",
    "skf_score=cross_val_score(svc,x,y,cv=skf)\n",
    "print((skf_score.mean())*100)\n",
    "print(skf_score)\n",
    "print((best_accuracy_score)-skf_score.mean())"
   ]
  },
  {
   "cell_type": "code",
   "execution_count": 100,
   "id": "2024de57",
   "metadata": {},
   "outputs": [
    {
     "name": "stdout",
     "output_type": "stream",
     "text": [
      "74.86598455840813\n",
      "[0.69273743 0.75842697 0.74719101 0.80898876 0.73595506]\n",
      "0.12284853430418685\n"
     ]
    }
   ],
   "source": [
    "# now we do for Kneighboursclassifier\n",
    "skf_score=cross_val_score(knc,x,y,cv=skf)\n",
    "print((skf_score.mean())*100)\n",
    "print(skf_score)\n",
    "print((best_accuracy_score)-skf_score.mean())"
   ]
  },
  {
   "cell_type": "code",
   "execution_count": 101,
   "id": "10e6baf1",
   "metadata": {},
   "outputs": [
    {
     "name": "stdout",
     "output_type": "stream",
     "text": [
      "77.10878162073944\n",
      "[0.73184358 0.76966292 0.79775281 0.74719101 0.80898876]\n",
      "0.10042056368087371\n"
     ]
    }
   ],
   "source": [
    "# now we do fordesciontreeclassifer\n",
    "skf_score=cross_val_score(dtc,x,y,cv=skf)\n",
    "print((skf_score.mean())*100)\n",
    "print(skf_score)\n",
    "print((best_accuracy_score)-skf_score.mean())"
   ]
  },
  {
   "cell_type": "code",
   "execution_count": 102,
   "id": "306ce512",
   "metadata": {},
   "outputs": [
    {
     "name": "stdout",
     "output_type": "stream",
     "text": [
      "80.25233820852426\n",
      "[0.75418994 0.79775281 0.82022472 0.81460674 0.8258427 ]\n",
      "0.06898499780302547\n"
     ]
    }
   ],
   "source": [
    "#now we do it for adaboostclassifier\n",
    "skf_score=cross_val_score(adb,x,y,cv=skf)\n",
    "print((skf_score.mean())*100)\n",
    "print(skf_score)\n",
    "print((best_accuracy_score)-skf_score.mean())"
   ]
  },
  {
   "cell_type": "code",
   "execution_count": 103,
   "id": "dce77156",
   "metadata": {},
   "outputs": [
    {
     "name": "stdout",
     "output_type": "stream",
     "text": [
      "81.82035026049842\n",
      "[0.79888268 0.79775281 0.84269663 0.80337079 0.84831461]\n",
      "0.053304877283284036\n"
     ]
    }
   ],
   "source": [
    "#now we do it for Bagging Classifier\n",
    "skf_score=cross_val_score(BC,x,y,cv=skf)\n",
    "print((skf_score.mean())*100)\n",
    "print(skf_score)\n",
    "print((best_accuracy_score)-skf_score.mean())"
   ]
  },
  {
   "cell_type": "code",
   "execution_count": 104,
   "id": "371a1526",
   "metadata": {},
   "outputs": [
    {
     "name": "stdout",
     "output_type": "stream",
     "text": [
      "81.93208210407383\n",
      "[0.80446927 0.79775281 0.84269663 0.80337079 0.84831461]\n",
      "0.0521875588475299\n"
     ]
    }
   ],
   "source": [
    "#now we do it for GradientBoostClassifier\n",
    "skf_score=cross_val_score(GBC,x,y,cv=skf)\n",
    "print((skf_score.mean())*100)\n",
    "print(skf_score)\n",
    "print((best_accuracy_score)-skf_score.mean())"
   ]
  },
  {
   "cell_type": "markdown",
   "id": "6eaaae73",
   "metadata": {},
   "source": [
    "# From the above we can clealry see that least difference between for GradientBoosting Classifier"
   ]
  },
  {
   "cell_type": "markdown",
   "id": "31818cd4",
   "metadata": {},
   "source": [
    "# Hyperparameter Tuning"
   ]
  },
  {
   "cell_type": "code",
   "execution_count": 108,
   "id": "15b1e227",
   "metadata": {},
   "outputs": [],
   "source": [
    "# now we do hyperparametertunning\n",
    "from sklearn.model_selection import GridSearchCV\n",
    "params = {\n",
    "    'n_estimators': [100,150,200],\n",
    "    'learning_rate': [0.1,0.2,0.3],\n",
    "    'max_depth': [3,4,5],\n",
    "    'subsample': [0.8,0.9,1],\n",
    "    'min_samples_split': [2,3,4],\n",
    "    'min_samples_leaf': [1,2,3],\n",
    "    'max_features': ['sqrt'],\n",
    "    'loss': ['deviance','exponential']\n",
    "}"
   ]
  },
  {
   "cell_type": "code",
   "execution_count": 112,
   "id": "9c1bf372",
   "metadata": {},
   "outputs": [],
   "source": [
    "grid_searchs = GridSearchCV(estimator=GBC, param_grid=params, cv=skf)"
   ]
  },
  {
   "cell_type": "code",
   "execution_count": 113,
   "id": "a7e9d58f",
   "metadata": {},
   "outputs": [
    {
     "data": {
      "text/plain": [
       "GridSearchCV(cv=StratifiedKFold(n_splits=5, random_state=None, shuffle=False),\n",
       "             estimator=GradientBoostingClassifier(),\n",
       "             param_grid={'learning_rate': [0.1, 0.2, 0.3],\n",
       "                         'loss': ['deviance', 'exponential'],\n",
       "                         'max_depth': [3, 4, 5], 'max_features': ['sqrt'],\n",
       "                         'min_samples_leaf': [1, 2, 3],\n",
       "                         'min_samples_split': [2, 3, 4],\n",
       "                         'n_estimators': [100, 150, 200],\n",
       "                         'subsample': [0.8, 0.9, 1]})"
      ]
     },
     "execution_count": 113,
     "metadata": {},
     "output_type": "execute_result"
    }
   ],
   "source": [
    "grid_searchs.fit(X_train,y_train)"
   ]
  },
  {
   "cell_type": "code",
   "execution_count": 114,
   "id": "88faa4f8",
   "metadata": {},
   "outputs": [
    {
     "data": {
      "text/plain": [
       "{'learning_rate': 0.3,\n",
       " 'loss': 'deviance',\n",
       " 'max_depth': 3,\n",
       " 'max_features': 'sqrt',\n",
       " 'min_samples_leaf': 3,\n",
       " 'min_samples_split': 2,\n",
       " 'n_estimators': 100,\n",
       " 'subsample': 1}"
      ]
     },
     "execution_count": 114,
     "metadata": {},
     "output_type": "execute_result"
    }
   ],
   "source": [
    "grid_searchs.best_params_"
   ]
  },
  {
   "cell_type": "markdown",
   "id": "a4aa09ea",
   "metadata": {},
   "source": [
    "# now we get our final best_parameters now we use to build our final model"
   ]
  },
  {
   "cell_type": "code",
   "execution_count": 124,
   "id": "cff3f146",
   "metadata": {},
   "outputs": [
    {
     "name": "stdout",
     "output_type": "stream",
     "text": [
      "accuracy of our final model is :- \n",
      "89.3854748603352\n"
     ]
    }
   ],
   "source": [
    "best_model_titanic=GradientBoostingClassifier(learning_rate= 0.3,loss='deviance',max_depth= 3,max_features='sqrt',min_samples_leaf= 3,min_samples_split= 2,n_estimators= 100,subsample= 1)\n",
    "best_model_titanic.fit(X_train,y_train)\n",
    "pred=best_model_titanic.predict(X_test)\n",
    "ac=accuracy_score(y_test,pred)\n",
    "accurate=(ac*100)\n",
    "print(\"accuracy of our final model is :- \")\n",
    "print(accurate)"
   ]
  },
  {
   "cell_type": "code",
   "execution_count": 125,
   "id": "c8a76086",
   "metadata": {},
   "outputs": [
    {
     "name": "stdout",
     "output_type": "stream",
     "text": [
      "confusion matrix of our final model titanic is\n",
      "[[105   7]\n",
      " [ 12  55]]\n",
      "Classsification report of our final model titanic is \n",
      "              precision    recall  f1-score   support\n",
      "\n",
      "           0       0.90      0.94      0.92       112\n",
      "           1       0.89      0.82      0.85        67\n",
      "\n",
      "    accuracy                           0.89       179\n",
      "   macro avg       0.89      0.88      0.88       179\n",
      "weighted avg       0.89      0.89      0.89       179\n",
      "\n"
     ]
    }
   ],
   "source": [
    "conf_final_model_titanic=confusion_matrix(y_test,pred)\n",
    "print(\"confusion matrix of our final model titanic is\")\n",
    "print(conf_final_model_titanic)\n",
    "clas_final_model_titanic=classification_report(y_test,pred)\n",
    "print(\"Classsification report of our final model titanic is \")\n",
    "print(clas_final_model_titanic)"
   ]
  },
  {
   "cell_type": "code",
   "execution_count": 126,
   "id": "641d3ee8",
   "metadata": {},
   "outputs": [],
   "source": [
    "import pickle\n",
    "project_name=\"titanic_survival_prediction.pkl\"\n",
    "pickle.dump(best_model_titanic,open(project_name,'wb'))"
   ]
  },
  {
   "cell_type": "code",
   "execution_count": 127,
   "id": "a439b456",
   "metadata": {},
   "outputs": [
    {
     "name": "stdout",
     "output_type": "stream",
     "text": [
      "89.3854748603352\n"
     ]
    }
   ],
   "source": [
    "import pickle\n",
    "load_final_model=pickle.load(open('titanic_survival_prediction.pkl','rb'))\n",
    "final_result=load_final_model.score(X_test,y_test)\n",
    "print(final_result*100)"
   ]
  },
  {
   "cell_type": "code",
   "execution_count": 128,
   "id": "2387297e",
   "metadata": {},
   "outputs": [],
   "source": [
    "target_variable_prediction=pd.DataFrame([load_final_model.predict(X_test)[:],y_test[:]],index=[\"predicted\",\"original\"])"
   ]
  },
  {
   "cell_type": "code",
   "execution_count": 129,
   "id": "7aa3e937",
   "metadata": {},
   "outputs": [
    {
     "data": {
      "text/html": [
       "<div>\n",
       "<style scoped>\n",
       "    .dataframe tbody tr th:only-of-type {\n",
       "        vertical-align: middle;\n",
       "    }\n",
       "\n",
       "    .dataframe tbody tr th {\n",
       "        vertical-align: top;\n",
       "    }\n",
       "\n",
       "    .dataframe thead th {\n",
       "        text-align: right;\n",
       "    }\n",
       "</style>\n",
       "<table border=\"1\" class=\"dataframe\">\n",
       "  <thead>\n",
       "    <tr style=\"text-align: right;\">\n",
       "      <th></th>\n",
       "      <th>0</th>\n",
       "      <th>1</th>\n",
       "      <th>2</th>\n",
       "      <th>3</th>\n",
       "      <th>4</th>\n",
       "      <th>5</th>\n",
       "      <th>6</th>\n",
       "      <th>7</th>\n",
       "      <th>8</th>\n",
       "      <th>9</th>\n",
       "      <th>...</th>\n",
       "      <th>169</th>\n",
       "      <th>170</th>\n",
       "      <th>171</th>\n",
       "      <th>172</th>\n",
       "      <th>173</th>\n",
       "      <th>174</th>\n",
       "      <th>175</th>\n",
       "      <th>176</th>\n",
       "      <th>177</th>\n",
       "      <th>178</th>\n",
       "    </tr>\n",
       "  </thead>\n",
       "  <tbody>\n",
       "    <tr>\n",
       "      <th>predicted</th>\n",
       "      <td>0</td>\n",
       "      <td>1</td>\n",
       "      <td>0</td>\n",
       "      <td>0</td>\n",
       "      <td>0</td>\n",
       "      <td>1</td>\n",
       "      <td>0</td>\n",
       "      <td>0</td>\n",
       "      <td>1</td>\n",
       "      <td>0</td>\n",
       "      <td>...</td>\n",
       "      <td>0</td>\n",
       "      <td>0</td>\n",
       "      <td>0</td>\n",
       "      <td>1</td>\n",
       "      <td>0</td>\n",
       "      <td>0</td>\n",
       "      <td>0</td>\n",
       "      <td>0</td>\n",
       "      <td>1</td>\n",
       "      <td>0</td>\n",
       "    </tr>\n",
       "    <tr>\n",
       "      <th>original</th>\n",
       "      <td>0</td>\n",
       "      <td>1</td>\n",
       "      <td>0</td>\n",
       "      <td>1</td>\n",
       "      <td>0</td>\n",
       "      <td>1</td>\n",
       "      <td>0</td>\n",
       "      <td>0</td>\n",
       "      <td>1</td>\n",
       "      <td>0</td>\n",
       "      <td>...</td>\n",
       "      <td>0</td>\n",
       "      <td>0</td>\n",
       "      <td>0</td>\n",
       "      <td>1</td>\n",
       "      <td>0</td>\n",
       "      <td>0</td>\n",
       "      <td>0</td>\n",
       "      <td>0</td>\n",
       "      <td>1</td>\n",
       "      <td>0</td>\n",
       "    </tr>\n",
       "  </tbody>\n",
       "</table>\n",
       "<p>2 rows × 179 columns</p>\n",
       "</div>"
      ],
      "text/plain": [
       "           0    1    2    3    4    5    6    7    8    9    ...  169  170  \\\n",
       "predicted    0    1    0    0    0    1    0    0    1    0  ...    0    0   \n",
       "original     0    1    0    1    0    1    0    0    1    0  ...    0    0   \n",
       "\n",
       "           171  172  173  174  175  176  177  178  \n",
       "predicted    0    1    0    0    0    0    1    0  \n",
       "original     0    1    0    0    0    0    1    0  \n",
       "\n",
       "[2 rows x 179 columns]"
      ]
     },
     "execution_count": 129,
     "metadata": {},
     "output_type": "execute_result"
    }
   ],
   "source": [
    "target_variable_prediction"
   ]
  },
  {
   "cell_type": "markdown",
   "id": "5edb3093",
   "metadata": {},
   "source": [
    "As you can clealry see that from target_variable_prediction chart that whatever we predicted and  the originally data was matching correctly almost 90% correctly so this model is very good "
   ]
  },
  {
   "cell_type": "markdown",
   "id": "ff7ecf1b",
   "metadata": {},
   "source": []
  },
  {
   "cell_type": "markdown",
   "id": "cd954fea",
   "metadata": {},
   "source": [
    "# Our final model is build and score is 89% correct and almost it predict close to original datset "
   ]
  },
  {
   "cell_type": "code",
   "execution_count": null,
   "id": "e64e4930",
   "metadata": {},
   "outputs": [],
   "source": []
  }
 ],
 "metadata": {
  "kernelspec": {
   "display_name": "Python 3 (ipykernel)",
   "language": "python",
   "name": "python3"
  },
  "language_info": {
   "codemirror_mode": {
    "name": "ipython",
    "version": 3
   },
   "file_extension": ".py",
   "mimetype": "text/x-python",
   "name": "python",
   "nbconvert_exporter": "python",
   "pygments_lexer": "ipython3",
   "version": "3.9.12"
  }
 },
 "nbformat": 4,
 "nbformat_minor": 5
}
