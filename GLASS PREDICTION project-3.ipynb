{
 "cells": [
  {
   "cell_type": "code",
   "execution_count": 53,
   "id": "023bcdc8",
   "metadata": {},
   "outputs": [],
   "source": [
    "import numpy as np \n",
    "import pandas as pd\n",
    "import matplotlib.pyplot as plt\n",
    "import seaborn as sns\n",
    "import warnings \n",
    "warnings.filterwarnings(\"ignore\")"
   ]
  },
  {
   "cell_type": "markdown",
   "id": "77cade1d",
   "metadata": {},
   "source": [
    "# Now we will import our dataset"
   ]
  },
  {
   "cell_type": "code",
   "execution_count": 54,
   "id": "830fc7b6",
   "metadata": {},
   "outputs": [
    {
     "data": {
      "text/html": [
       "<div>\n",
       "<style scoped>\n",
       "    .dataframe tbody tr th:only-of-type {\n",
       "        vertical-align: middle;\n",
       "    }\n",
       "\n",
       "    .dataframe tbody tr th {\n",
       "        vertical-align: top;\n",
       "    }\n",
       "\n",
       "    .dataframe thead th {\n",
       "        text-align: right;\n",
       "    }\n",
       "</style>\n",
       "<table border=\"1\" class=\"dataframe\">\n",
       "  <thead>\n",
       "    <tr style=\"text-align: right;\">\n",
       "      <th></th>\n",
       "      <th>1</th>\n",
       "      <th>1.52101</th>\n",
       "      <th>13.64</th>\n",
       "      <th>4.49</th>\n",
       "      <th>1.10</th>\n",
       "      <th>71.78</th>\n",
       "      <th>0.06</th>\n",
       "      <th>8.75</th>\n",
       "      <th>0.00</th>\n",
       "      <th>0.00.1</th>\n",
       "      <th>1.1</th>\n",
       "    </tr>\n",
       "  </thead>\n",
       "  <tbody>\n",
       "    <tr>\n",
       "      <th>0</th>\n",
       "      <td>2</td>\n",
       "      <td>1.51761</td>\n",
       "      <td>13.89</td>\n",
       "      <td>3.60</td>\n",
       "      <td>1.36</td>\n",
       "      <td>72.73</td>\n",
       "      <td>0.48</td>\n",
       "      <td>7.83</td>\n",
       "      <td>0.00</td>\n",
       "      <td>0.00</td>\n",
       "      <td>1</td>\n",
       "    </tr>\n",
       "    <tr>\n",
       "      <th>1</th>\n",
       "      <td>3</td>\n",
       "      <td>1.51618</td>\n",
       "      <td>13.53</td>\n",
       "      <td>3.55</td>\n",
       "      <td>1.54</td>\n",
       "      <td>72.99</td>\n",
       "      <td>0.39</td>\n",
       "      <td>7.78</td>\n",
       "      <td>0.00</td>\n",
       "      <td>0.00</td>\n",
       "      <td>1</td>\n",
       "    </tr>\n",
       "    <tr>\n",
       "      <th>2</th>\n",
       "      <td>4</td>\n",
       "      <td>1.51766</td>\n",
       "      <td>13.21</td>\n",
       "      <td>3.69</td>\n",
       "      <td>1.29</td>\n",
       "      <td>72.61</td>\n",
       "      <td>0.57</td>\n",
       "      <td>8.22</td>\n",
       "      <td>0.00</td>\n",
       "      <td>0.00</td>\n",
       "      <td>1</td>\n",
       "    </tr>\n",
       "    <tr>\n",
       "      <th>3</th>\n",
       "      <td>5</td>\n",
       "      <td>1.51742</td>\n",
       "      <td>13.27</td>\n",
       "      <td>3.62</td>\n",
       "      <td>1.24</td>\n",
       "      <td>73.08</td>\n",
       "      <td>0.55</td>\n",
       "      <td>8.07</td>\n",
       "      <td>0.00</td>\n",
       "      <td>0.00</td>\n",
       "      <td>1</td>\n",
       "    </tr>\n",
       "    <tr>\n",
       "      <th>4</th>\n",
       "      <td>6</td>\n",
       "      <td>1.51596</td>\n",
       "      <td>12.79</td>\n",
       "      <td>3.61</td>\n",
       "      <td>1.62</td>\n",
       "      <td>72.97</td>\n",
       "      <td>0.64</td>\n",
       "      <td>8.07</td>\n",
       "      <td>0.00</td>\n",
       "      <td>0.26</td>\n",
       "      <td>1</td>\n",
       "    </tr>\n",
       "    <tr>\n",
       "      <th>...</th>\n",
       "      <td>...</td>\n",
       "      <td>...</td>\n",
       "      <td>...</td>\n",
       "      <td>...</td>\n",
       "      <td>...</td>\n",
       "      <td>...</td>\n",
       "      <td>...</td>\n",
       "      <td>...</td>\n",
       "      <td>...</td>\n",
       "      <td>...</td>\n",
       "      <td>...</td>\n",
       "    </tr>\n",
       "    <tr>\n",
       "      <th>208</th>\n",
       "      <td>210</td>\n",
       "      <td>1.51623</td>\n",
       "      <td>14.14</td>\n",
       "      <td>0.00</td>\n",
       "      <td>2.88</td>\n",
       "      <td>72.61</td>\n",
       "      <td>0.08</td>\n",
       "      <td>9.18</td>\n",
       "      <td>1.06</td>\n",
       "      <td>0.00</td>\n",
       "      <td>7</td>\n",
       "    </tr>\n",
       "    <tr>\n",
       "      <th>209</th>\n",
       "      <td>211</td>\n",
       "      <td>1.51685</td>\n",
       "      <td>14.92</td>\n",
       "      <td>0.00</td>\n",
       "      <td>1.99</td>\n",
       "      <td>73.06</td>\n",
       "      <td>0.00</td>\n",
       "      <td>8.40</td>\n",
       "      <td>1.59</td>\n",
       "      <td>0.00</td>\n",
       "      <td>7</td>\n",
       "    </tr>\n",
       "    <tr>\n",
       "      <th>210</th>\n",
       "      <td>212</td>\n",
       "      <td>1.52065</td>\n",
       "      <td>14.36</td>\n",
       "      <td>0.00</td>\n",
       "      <td>2.02</td>\n",
       "      <td>73.42</td>\n",
       "      <td>0.00</td>\n",
       "      <td>8.44</td>\n",
       "      <td>1.64</td>\n",
       "      <td>0.00</td>\n",
       "      <td>7</td>\n",
       "    </tr>\n",
       "    <tr>\n",
       "      <th>211</th>\n",
       "      <td>213</td>\n",
       "      <td>1.51651</td>\n",
       "      <td>14.38</td>\n",
       "      <td>0.00</td>\n",
       "      <td>1.94</td>\n",
       "      <td>73.61</td>\n",
       "      <td>0.00</td>\n",
       "      <td>8.48</td>\n",
       "      <td>1.57</td>\n",
       "      <td>0.00</td>\n",
       "      <td>7</td>\n",
       "    </tr>\n",
       "    <tr>\n",
       "      <th>212</th>\n",
       "      <td>214</td>\n",
       "      <td>1.51711</td>\n",
       "      <td>14.23</td>\n",
       "      <td>0.00</td>\n",
       "      <td>2.08</td>\n",
       "      <td>73.36</td>\n",
       "      <td>0.00</td>\n",
       "      <td>8.62</td>\n",
       "      <td>1.67</td>\n",
       "      <td>0.00</td>\n",
       "      <td>7</td>\n",
       "    </tr>\n",
       "  </tbody>\n",
       "</table>\n",
       "<p>213 rows × 11 columns</p>\n",
       "</div>"
      ],
      "text/plain": [
       "       1  1.52101  13.64  4.49  1.10  71.78  0.06  8.75  0.00  0.00.1  1.1\n",
       "0      2  1.51761  13.89  3.60  1.36  72.73  0.48  7.83  0.00    0.00    1\n",
       "1      3  1.51618  13.53  3.55  1.54  72.99  0.39  7.78  0.00    0.00    1\n",
       "2      4  1.51766  13.21  3.69  1.29  72.61  0.57  8.22  0.00    0.00    1\n",
       "3      5  1.51742  13.27  3.62  1.24  73.08  0.55  8.07  0.00    0.00    1\n",
       "4      6  1.51596  12.79  3.61  1.62  72.97  0.64  8.07  0.00    0.26    1\n",
       "..   ...      ...    ...   ...   ...    ...   ...   ...   ...     ...  ...\n",
       "208  210  1.51623  14.14  0.00  2.88  72.61  0.08  9.18  1.06    0.00    7\n",
       "209  211  1.51685  14.92  0.00  1.99  73.06  0.00  8.40  1.59    0.00    7\n",
       "210  212  1.52065  14.36  0.00  2.02  73.42  0.00  8.44  1.64    0.00    7\n",
       "211  213  1.51651  14.38  0.00  1.94  73.61  0.00  8.48  1.57    0.00    7\n",
       "212  214  1.51711  14.23  0.00  2.08  73.36  0.00  8.62  1.67    0.00    7\n",
       "\n",
       "[213 rows x 11 columns]"
      ]
     },
     "execution_count": 54,
     "metadata": {},
     "output_type": "execute_result"
    }
   ],
   "source": [
    "glass=pd.read_csv(r\"https://raw.githubusercontent.com/dsrscientist/dataset3/main/glass.csv\")\n",
    "glass"
   ]
  },
  {
   "cell_type": "code",
   "execution_count": 55,
   "id": "a4173fad",
   "metadata": {},
   "outputs": [],
   "source": [
    "columns=['ID', 'RI', 'Na', 'Mg', 'Al', 'Si', 'K', 'Ca', 'Ba', 'Fe', 'Type']\n",
    "glass=pd.read_csv(r\"https://raw.githubusercontent.com/dsrscientist/dataset3/main/glass.csv\",names=columns)"
   ]
  },
  {
   "cell_type": "code",
   "execution_count": 56,
   "id": "6b45d7b4",
   "metadata": {},
   "outputs": [
    {
     "data": {
      "text/html": [
       "<div>\n",
       "<style scoped>\n",
       "    .dataframe tbody tr th:only-of-type {\n",
       "        vertical-align: middle;\n",
       "    }\n",
       "\n",
       "    .dataframe tbody tr th {\n",
       "        vertical-align: top;\n",
       "    }\n",
       "\n",
       "    .dataframe thead th {\n",
       "        text-align: right;\n",
       "    }\n",
       "</style>\n",
       "<table border=\"1\" class=\"dataframe\">\n",
       "  <thead>\n",
       "    <tr style=\"text-align: right;\">\n",
       "      <th></th>\n",
       "      <th>ID</th>\n",
       "      <th>RI</th>\n",
       "      <th>Na</th>\n",
       "      <th>Mg</th>\n",
       "      <th>Al</th>\n",
       "      <th>Si</th>\n",
       "      <th>K</th>\n",
       "      <th>Ca</th>\n",
       "      <th>Ba</th>\n",
       "      <th>Fe</th>\n",
       "      <th>Type</th>\n",
       "    </tr>\n",
       "  </thead>\n",
       "  <tbody>\n",
       "    <tr>\n",
       "      <th>0</th>\n",
       "      <td>1</td>\n",
       "      <td>1.52101</td>\n",
       "      <td>13.64</td>\n",
       "      <td>4.49</td>\n",
       "      <td>1.10</td>\n",
       "      <td>71.78</td>\n",
       "      <td>0.06</td>\n",
       "      <td>8.75</td>\n",
       "      <td>0.00</td>\n",
       "      <td>0.0</td>\n",
       "      <td>1</td>\n",
       "    </tr>\n",
       "    <tr>\n",
       "      <th>1</th>\n",
       "      <td>2</td>\n",
       "      <td>1.51761</td>\n",
       "      <td>13.89</td>\n",
       "      <td>3.60</td>\n",
       "      <td>1.36</td>\n",
       "      <td>72.73</td>\n",
       "      <td>0.48</td>\n",
       "      <td>7.83</td>\n",
       "      <td>0.00</td>\n",
       "      <td>0.0</td>\n",
       "      <td>1</td>\n",
       "    </tr>\n",
       "    <tr>\n",
       "      <th>2</th>\n",
       "      <td>3</td>\n",
       "      <td>1.51618</td>\n",
       "      <td>13.53</td>\n",
       "      <td>3.55</td>\n",
       "      <td>1.54</td>\n",
       "      <td>72.99</td>\n",
       "      <td>0.39</td>\n",
       "      <td>7.78</td>\n",
       "      <td>0.00</td>\n",
       "      <td>0.0</td>\n",
       "      <td>1</td>\n",
       "    </tr>\n",
       "    <tr>\n",
       "      <th>3</th>\n",
       "      <td>4</td>\n",
       "      <td>1.51766</td>\n",
       "      <td>13.21</td>\n",
       "      <td>3.69</td>\n",
       "      <td>1.29</td>\n",
       "      <td>72.61</td>\n",
       "      <td>0.57</td>\n",
       "      <td>8.22</td>\n",
       "      <td>0.00</td>\n",
       "      <td>0.0</td>\n",
       "      <td>1</td>\n",
       "    </tr>\n",
       "    <tr>\n",
       "      <th>4</th>\n",
       "      <td>5</td>\n",
       "      <td>1.51742</td>\n",
       "      <td>13.27</td>\n",
       "      <td>3.62</td>\n",
       "      <td>1.24</td>\n",
       "      <td>73.08</td>\n",
       "      <td>0.55</td>\n",
       "      <td>8.07</td>\n",
       "      <td>0.00</td>\n",
       "      <td>0.0</td>\n",
       "      <td>1</td>\n",
       "    </tr>\n",
       "    <tr>\n",
       "      <th>...</th>\n",
       "      <td>...</td>\n",
       "      <td>...</td>\n",
       "      <td>...</td>\n",
       "      <td>...</td>\n",
       "      <td>...</td>\n",
       "      <td>...</td>\n",
       "      <td>...</td>\n",
       "      <td>...</td>\n",
       "      <td>...</td>\n",
       "      <td>...</td>\n",
       "      <td>...</td>\n",
       "    </tr>\n",
       "    <tr>\n",
       "      <th>209</th>\n",
       "      <td>210</td>\n",
       "      <td>1.51623</td>\n",
       "      <td>14.14</td>\n",
       "      <td>0.00</td>\n",
       "      <td>2.88</td>\n",
       "      <td>72.61</td>\n",
       "      <td>0.08</td>\n",
       "      <td>9.18</td>\n",
       "      <td>1.06</td>\n",
       "      <td>0.0</td>\n",
       "      <td>7</td>\n",
       "    </tr>\n",
       "    <tr>\n",
       "      <th>210</th>\n",
       "      <td>211</td>\n",
       "      <td>1.51685</td>\n",
       "      <td>14.92</td>\n",
       "      <td>0.00</td>\n",
       "      <td>1.99</td>\n",
       "      <td>73.06</td>\n",
       "      <td>0.00</td>\n",
       "      <td>8.40</td>\n",
       "      <td>1.59</td>\n",
       "      <td>0.0</td>\n",
       "      <td>7</td>\n",
       "    </tr>\n",
       "    <tr>\n",
       "      <th>211</th>\n",
       "      <td>212</td>\n",
       "      <td>1.52065</td>\n",
       "      <td>14.36</td>\n",
       "      <td>0.00</td>\n",
       "      <td>2.02</td>\n",
       "      <td>73.42</td>\n",
       "      <td>0.00</td>\n",
       "      <td>8.44</td>\n",
       "      <td>1.64</td>\n",
       "      <td>0.0</td>\n",
       "      <td>7</td>\n",
       "    </tr>\n",
       "    <tr>\n",
       "      <th>212</th>\n",
       "      <td>213</td>\n",
       "      <td>1.51651</td>\n",
       "      <td>14.38</td>\n",
       "      <td>0.00</td>\n",
       "      <td>1.94</td>\n",
       "      <td>73.61</td>\n",
       "      <td>0.00</td>\n",
       "      <td>8.48</td>\n",
       "      <td>1.57</td>\n",
       "      <td>0.0</td>\n",
       "      <td>7</td>\n",
       "    </tr>\n",
       "    <tr>\n",
       "      <th>213</th>\n",
       "      <td>214</td>\n",
       "      <td>1.51711</td>\n",
       "      <td>14.23</td>\n",
       "      <td>0.00</td>\n",
       "      <td>2.08</td>\n",
       "      <td>73.36</td>\n",
       "      <td>0.00</td>\n",
       "      <td>8.62</td>\n",
       "      <td>1.67</td>\n",
       "      <td>0.0</td>\n",
       "      <td>7</td>\n",
       "    </tr>\n",
       "  </tbody>\n",
       "</table>\n",
       "<p>214 rows × 11 columns</p>\n",
       "</div>"
      ],
      "text/plain": [
       "      ID       RI     Na    Mg    Al     Si     K    Ca    Ba   Fe  Type\n",
       "0      1  1.52101  13.64  4.49  1.10  71.78  0.06  8.75  0.00  0.0     1\n",
       "1      2  1.51761  13.89  3.60  1.36  72.73  0.48  7.83  0.00  0.0     1\n",
       "2      3  1.51618  13.53  3.55  1.54  72.99  0.39  7.78  0.00  0.0     1\n",
       "3      4  1.51766  13.21  3.69  1.29  72.61  0.57  8.22  0.00  0.0     1\n",
       "4      5  1.51742  13.27  3.62  1.24  73.08  0.55  8.07  0.00  0.0     1\n",
       "..   ...      ...    ...   ...   ...    ...   ...   ...   ...  ...   ...\n",
       "209  210  1.51623  14.14  0.00  2.88  72.61  0.08  9.18  1.06  0.0     7\n",
       "210  211  1.51685  14.92  0.00  1.99  73.06  0.00  8.40  1.59  0.0     7\n",
       "211  212  1.52065  14.36  0.00  2.02  73.42  0.00  8.44  1.64  0.0     7\n",
       "212  213  1.51651  14.38  0.00  1.94  73.61  0.00  8.48  1.57  0.0     7\n",
       "213  214  1.51711  14.23  0.00  2.08  73.36  0.00  8.62  1.67  0.0     7\n",
       "\n",
       "[214 rows x 11 columns]"
      ]
     },
     "execution_count": 56,
     "metadata": {},
     "output_type": "execute_result"
    }
   ],
   "source": [
    "glass"
   ]
  },
  {
   "cell_type": "code",
   "execution_count": 57,
   "id": "5ae70d12",
   "metadata": {},
   "outputs": [
    {
     "data": {
      "text/plain": [
       "11"
      ]
     },
     "execution_count": 57,
     "metadata": {},
     "output_type": "execute_result"
    }
   ],
   "source": [
    "glass.shape[1]"
   ]
  },
  {
   "cell_type": "markdown",
   "id": "f582c640",
   "metadata": {},
   "source": [
    "As we can see that we have 11 columns "
   ]
  },
  {
   "cell_type": "code",
   "execution_count": 58,
   "id": "b08851cf",
   "metadata": {},
   "outputs": [
    {
     "data": {
      "text/plain": [
       "214"
      ]
     },
     "execution_count": 58,
     "metadata": {},
     "output_type": "execute_result"
    }
   ],
   "source": [
    "glass.shape[0]"
   ]
  },
  {
   "cell_type": "markdown",
   "id": "dc3188c3",
   "metadata": {},
   "source": [
    "As we can see that dataset have 214 rows in total \n"
   ]
  },
  {
   "cell_type": "code",
   "execution_count": 59,
   "id": "8db140cd",
   "metadata": {},
   "outputs": [
    {
     "data": {
      "text/plain": [
       "ID      0\n",
       "RI      0\n",
       "Na      0\n",
       "Mg      0\n",
       "Al      0\n",
       "Si      0\n",
       "K       0\n",
       "Ca      0\n",
       "Ba      0\n",
       "Fe      0\n",
       "Type    0\n",
       "dtype: int64"
      ]
     },
     "execution_count": 59,
     "metadata": {},
     "output_type": "execute_result"
    }
   ],
   "source": [
    "glass.isnull().sum()"
   ]
  },
  {
   "cell_type": "markdown",
   "id": "ba28c124",
   "metadata": {},
   "source": [
    "As we can see that no null values present in the datset "
   ]
  },
  {
   "cell_type": "code",
   "execution_count": 60,
   "id": "fe4a593c",
   "metadata": {},
   "outputs": [],
   "source": [
    "# let's drop the the id column column beacuse it dosen;t signifies anything to us \n",
    "glass.drop(columns=\"ID\",inplace=True)"
   ]
  },
  {
   "cell_type": "code",
   "execution_count": 61,
   "id": "f5bc85ad",
   "metadata": {},
   "outputs": [
    {
     "data": {
      "text/html": [
       "<div>\n",
       "<style scoped>\n",
       "    .dataframe tbody tr th:only-of-type {\n",
       "        vertical-align: middle;\n",
       "    }\n",
       "\n",
       "    .dataframe tbody tr th {\n",
       "        vertical-align: top;\n",
       "    }\n",
       "\n",
       "    .dataframe thead th {\n",
       "        text-align: right;\n",
       "    }\n",
       "</style>\n",
       "<table border=\"1\" class=\"dataframe\">\n",
       "  <thead>\n",
       "    <tr style=\"text-align: right;\">\n",
       "      <th></th>\n",
       "      <th>RI</th>\n",
       "      <th>Na</th>\n",
       "      <th>Mg</th>\n",
       "      <th>Al</th>\n",
       "      <th>Si</th>\n",
       "      <th>K</th>\n",
       "      <th>Ca</th>\n",
       "      <th>Ba</th>\n",
       "      <th>Fe</th>\n",
       "      <th>Type</th>\n",
       "    </tr>\n",
       "  </thead>\n",
       "  <tbody>\n",
       "    <tr>\n",
       "      <th>0</th>\n",
       "      <td>1.52101</td>\n",
       "      <td>13.64</td>\n",
       "      <td>4.49</td>\n",
       "      <td>1.10</td>\n",
       "      <td>71.78</td>\n",
       "      <td>0.06</td>\n",
       "      <td>8.75</td>\n",
       "      <td>0.00</td>\n",
       "      <td>0.0</td>\n",
       "      <td>1</td>\n",
       "    </tr>\n",
       "    <tr>\n",
       "      <th>1</th>\n",
       "      <td>1.51761</td>\n",
       "      <td>13.89</td>\n",
       "      <td>3.60</td>\n",
       "      <td>1.36</td>\n",
       "      <td>72.73</td>\n",
       "      <td>0.48</td>\n",
       "      <td>7.83</td>\n",
       "      <td>0.00</td>\n",
       "      <td>0.0</td>\n",
       "      <td>1</td>\n",
       "    </tr>\n",
       "    <tr>\n",
       "      <th>2</th>\n",
       "      <td>1.51618</td>\n",
       "      <td>13.53</td>\n",
       "      <td>3.55</td>\n",
       "      <td>1.54</td>\n",
       "      <td>72.99</td>\n",
       "      <td>0.39</td>\n",
       "      <td>7.78</td>\n",
       "      <td>0.00</td>\n",
       "      <td>0.0</td>\n",
       "      <td>1</td>\n",
       "    </tr>\n",
       "    <tr>\n",
       "      <th>3</th>\n",
       "      <td>1.51766</td>\n",
       "      <td>13.21</td>\n",
       "      <td>3.69</td>\n",
       "      <td>1.29</td>\n",
       "      <td>72.61</td>\n",
       "      <td>0.57</td>\n",
       "      <td>8.22</td>\n",
       "      <td>0.00</td>\n",
       "      <td>0.0</td>\n",
       "      <td>1</td>\n",
       "    </tr>\n",
       "    <tr>\n",
       "      <th>4</th>\n",
       "      <td>1.51742</td>\n",
       "      <td>13.27</td>\n",
       "      <td>3.62</td>\n",
       "      <td>1.24</td>\n",
       "      <td>73.08</td>\n",
       "      <td>0.55</td>\n",
       "      <td>8.07</td>\n",
       "      <td>0.00</td>\n",
       "      <td>0.0</td>\n",
       "      <td>1</td>\n",
       "    </tr>\n",
       "    <tr>\n",
       "      <th>...</th>\n",
       "      <td>...</td>\n",
       "      <td>...</td>\n",
       "      <td>...</td>\n",
       "      <td>...</td>\n",
       "      <td>...</td>\n",
       "      <td>...</td>\n",
       "      <td>...</td>\n",
       "      <td>...</td>\n",
       "      <td>...</td>\n",
       "      <td>...</td>\n",
       "    </tr>\n",
       "    <tr>\n",
       "      <th>209</th>\n",
       "      <td>1.51623</td>\n",
       "      <td>14.14</td>\n",
       "      <td>0.00</td>\n",
       "      <td>2.88</td>\n",
       "      <td>72.61</td>\n",
       "      <td>0.08</td>\n",
       "      <td>9.18</td>\n",
       "      <td>1.06</td>\n",
       "      <td>0.0</td>\n",
       "      <td>7</td>\n",
       "    </tr>\n",
       "    <tr>\n",
       "      <th>210</th>\n",
       "      <td>1.51685</td>\n",
       "      <td>14.92</td>\n",
       "      <td>0.00</td>\n",
       "      <td>1.99</td>\n",
       "      <td>73.06</td>\n",
       "      <td>0.00</td>\n",
       "      <td>8.40</td>\n",
       "      <td>1.59</td>\n",
       "      <td>0.0</td>\n",
       "      <td>7</td>\n",
       "    </tr>\n",
       "    <tr>\n",
       "      <th>211</th>\n",
       "      <td>1.52065</td>\n",
       "      <td>14.36</td>\n",
       "      <td>0.00</td>\n",
       "      <td>2.02</td>\n",
       "      <td>73.42</td>\n",
       "      <td>0.00</td>\n",
       "      <td>8.44</td>\n",
       "      <td>1.64</td>\n",
       "      <td>0.0</td>\n",
       "      <td>7</td>\n",
       "    </tr>\n",
       "    <tr>\n",
       "      <th>212</th>\n",
       "      <td>1.51651</td>\n",
       "      <td>14.38</td>\n",
       "      <td>0.00</td>\n",
       "      <td>1.94</td>\n",
       "      <td>73.61</td>\n",
       "      <td>0.00</td>\n",
       "      <td>8.48</td>\n",
       "      <td>1.57</td>\n",
       "      <td>0.0</td>\n",
       "      <td>7</td>\n",
       "    </tr>\n",
       "    <tr>\n",
       "      <th>213</th>\n",
       "      <td>1.51711</td>\n",
       "      <td>14.23</td>\n",
       "      <td>0.00</td>\n",
       "      <td>2.08</td>\n",
       "      <td>73.36</td>\n",
       "      <td>0.00</td>\n",
       "      <td>8.62</td>\n",
       "      <td>1.67</td>\n",
       "      <td>0.0</td>\n",
       "      <td>7</td>\n",
       "    </tr>\n",
       "  </tbody>\n",
       "</table>\n",
       "<p>214 rows × 10 columns</p>\n",
       "</div>"
      ],
      "text/plain": [
       "          RI     Na    Mg    Al     Si     K    Ca    Ba   Fe  Type\n",
       "0    1.52101  13.64  4.49  1.10  71.78  0.06  8.75  0.00  0.0     1\n",
       "1    1.51761  13.89  3.60  1.36  72.73  0.48  7.83  0.00  0.0     1\n",
       "2    1.51618  13.53  3.55  1.54  72.99  0.39  7.78  0.00  0.0     1\n",
       "3    1.51766  13.21  3.69  1.29  72.61  0.57  8.22  0.00  0.0     1\n",
       "4    1.51742  13.27  3.62  1.24  73.08  0.55  8.07  0.00  0.0     1\n",
       "..       ...    ...   ...   ...    ...   ...   ...   ...  ...   ...\n",
       "209  1.51623  14.14  0.00  2.88  72.61  0.08  9.18  1.06  0.0     7\n",
       "210  1.51685  14.92  0.00  1.99  73.06  0.00  8.40  1.59  0.0     7\n",
       "211  1.52065  14.36  0.00  2.02  73.42  0.00  8.44  1.64  0.0     7\n",
       "212  1.51651  14.38  0.00  1.94  73.61  0.00  8.48  1.57  0.0     7\n",
       "213  1.51711  14.23  0.00  2.08  73.36  0.00  8.62  1.67  0.0     7\n",
       "\n",
       "[214 rows x 10 columns]"
      ]
     },
     "execution_count": 61,
     "metadata": {},
     "output_type": "execute_result"
    }
   ],
   "source": [
    "glass"
   ]
  },
  {
   "cell_type": "code",
   "execution_count": 62,
   "id": "5e7dc57f",
   "metadata": {},
   "outputs": [
    {
     "data": {
      "text/html": [
       "<div>\n",
       "<style scoped>\n",
       "    .dataframe tbody tr th:only-of-type {\n",
       "        vertical-align: middle;\n",
       "    }\n",
       "\n",
       "    .dataframe tbody tr th {\n",
       "        vertical-align: top;\n",
       "    }\n",
       "\n",
       "    .dataframe thead th {\n",
       "        text-align: right;\n",
       "    }\n",
       "</style>\n",
       "<table border=\"1\" class=\"dataframe\">\n",
       "  <thead>\n",
       "    <tr style=\"text-align: right;\">\n",
       "      <th></th>\n",
       "      <th>RI</th>\n",
       "      <th>Na</th>\n",
       "      <th>Mg</th>\n",
       "      <th>Al</th>\n",
       "      <th>Si</th>\n",
       "      <th>K</th>\n",
       "      <th>Ca</th>\n",
       "      <th>Ba</th>\n",
       "      <th>Fe</th>\n",
       "      <th>Type</th>\n",
       "    </tr>\n",
       "  </thead>\n",
       "  <tbody>\n",
       "    <tr>\n",
       "      <th>0</th>\n",
       "      <td>1.52101</td>\n",
       "      <td>13.64</td>\n",
       "      <td>4.49</td>\n",
       "      <td>1.10</td>\n",
       "      <td>71.78</td>\n",
       "      <td>0.06</td>\n",
       "      <td>8.75</td>\n",
       "      <td>0.0</td>\n",
       "      <td>0.00</td>\n",
       "      <td>1</td>\n",
       "    </tr>\n",
       "    <tr>\n",
       "      <th>1</th>\n",
       "      <td>1.51761</td>\n",
       "      <td>13.89</td>\n",
       "      <td>3.60</td>\n",
       "      <td>1.36</td>\n",
       "      <td>72.73</td>\n",
       "      <td>0.48</td>\n",
       "      <td>7.83</td>\n",
       "      <td>0.0</td>\n",
       "      <td>0.00</td>\n",
       "      <td>1</td>\n",
       "    </tr>\n",
       "    <tr>\n",
       "      <th>2</th>\n",
       "      <td>1.51618</td>\n",
       "      <td>13.53</td>\n",
       "      <td>3.55</td>\n",
       "      <td>1.54</td>\n",
       "      <td>72.99</td>\n",
       "      <td>0.39</td>\n",
       "      <td>7.78</td>\n",
       "      <td>0.0</td>\n",
       "      <td>0.00</td>\n",
       "      <td>1</td>\n",
       "    </tr>\n",
       "    <tr>\n",
       "      <th>3</th>\n",
       "      <td>1.51766</td>\n",
       "      <td>13.21</td>\n",
       "      <td>3.69</td>\n",
       "      <td>1.29</td>\n",
       "      <td>72.61</td>\n",
       "      <td>0.57</td>\n",
       "      <td>8.22</td>\n",
       "      <td>0.0</td>\n",
       "      <td>0.00</td>\n",
       "      <td>1</td>\n",
       "    </tr>\n",
       "    <tr>\n",
       "      <th>4</th>\n",
       "      <td>1.51742</td>\n",
       "      <td>13.27</td>\n",
       "      <td>3.62</td>\n",
       "      <td>1.24</td>\n",
       "      <td>73.08</td>\n",
       "      <td>0.55</td>\n",
       "      <td>8.07</td>\n",
       "      <td>0.0</td>\n",
       "      <td>0.00</td>\n",
       "      <td>1</td>\n",
       "    </tr>\n",
       "    <tr>\n",
       "      <th>5</th>\n",
       "      <td>1.51596</td>\n",
       "      <td>12.79</td>\n",
       "      <td>3.61</td>\n",
       "      <td>1.62</td>\n",
       "      <td>72.97</td>\n",
       "      <td>0.64</td>\n",
       "      <td>8.07</td>\n",
       "      <td>0.0</td>\n",
       "      <td>0.26</td>\n",
       "      <td>1</td>\n",
       "    </tr>\n",
       "    <tr>\n",
       "      <th>6</th>\n",
       "      <td>1.51743</td>\n",
       "      <td>13.30</td>\n",
       "      <td>3.60</td>\n",
       "      <td>1.14</td>\n",
       "      <td>73.09</td>\n",
       "      <td>0.58</td>\n",
       "      <td>8.17</td>\n",
       "      <td>0.0</td>\n",
       "      <td>0.00</td>\n",
       "      <td>1</td>\n",
       "    </tr>\n",
       "    <tr>\n",
       "      <th>7</th>\n",
       "      <td>1.51756</td>\n",
       "      <td>13.15</td>\n",
       "      <td>3.61</td>\n",
       "      <td>1.05</td>\n",
       "      <td>73.24</td>\n",
       "      <td>0.57</td>\n",
       "      <td>8.24</td>\n",
       "      <td>0.0</td>\n",
       "      <td>0.00</td>\n",
       "      <td>1</td>\n",
       "    </tr>\n",
       "    <tr>\n",
       "      <th>8</th>\n",
       "      <td>1.51918</td>\n",
       "      <td>14.04</td>\n",
       "      <td>3.58</td>\n",
       "      <td>1.37</td>\n",
       "      <td>72.08</td>\n",
       "      <td>0.56</td>\n",
       "      <td>8.30</td>\n",
       "      <td>0.0</td>\n",
       "      <td>0.00</td>\n",
       "      <td>1</td>\n",
       "    </tr>\n",
       "    <tr>\n",
       "      <th>9</th>\n",
       "      <td>1.51755</td>\n",
       "      <td>13.00</td>\n",
       "      <td>3.60</td>\n",
       "      <td>1.36</td>\n",
       "      <td>72.99</td>\n",
       "      <td>0.57</td>\n",
       "      <td>8.40</td>\n",
       "      <td>0.0</td>\n",
       "      <td>0.11</td>\n",
       "      <td>1</td>\n",
       "    </tr>\n",
       "    <tr>\n",
       "      <th>10</th>\n",
       "      <td>1.51571</td>\n",
       "      <td>12.72</td>\n",
       "      <td>3.46</td>\n",
       "      <td>1.56</td>\n",
       "      <td>73.20</td>\n",
       "      <td>0.67</td>\n",
       "      <td>8.09</td>\n",
       "      <td>0.0</td>\n",
       "      <td>0.24</td>\n",
       "      <td>1</td>\n",
       "    </tr>\n",
       "    <tr>\n",
       "      <th>11</th>\n",
       "      <td>1.51763</td>\n",
       "      <td>12.80</td>\n",
       "      <td>3.66</td>\n",
       "      <td>1.27</td>\n",
       "      <td>73.01</td>\n",
       "      <td>0.60</td>\n",
       "      <td>8.56</td>\n",
       "      <td>0.0</td>\n",
       "      <td>0.00</td>\n",
       "      <td>1</td>\n",
       "    </tr>\n",
       "    <tr>\n",
       "      <th>12</th>\n",
       "      <td>1.51589</td>\n",
       "      <td>12.88</td>\n",
       "      <td>3.43</td>\n",
       "      <td>1.40</td>\n",
       "      <td>73.28</td>\n",
       "      <td>0.69</td>\n",
       "      <td>8.05</td>\n",
       "      <td>0.0</td>\n",
       "      <td>0.24</td>\n",
       "      <td>1</td>\n",
       "    </tr>\n",
       "    <tr>\n",
       "      <th>13</th>\n",
       "      <td>1.51748</td>\n",
       "      <td>12.86</td>\n",
       "      <td>3.56</td>\n",
       "      <td>1.27</td>\n",
       "      <td>73.21</td>\n",
       "      <td>0.54</td>\n",
       "      <td>8.38</td>\n",
       "      <td>0.0</td>\n",
       "      <td>0.17</td>\n",
       "      <td>1</td>\n",
       "    </tr>\n",
       "    <tr>\n",
       "      <th>14</th>\n",
       "      <td>1.51763</td>\n",
       "      <td>12.61</td>\n",
       "      <td>3.59</td>\n",
       "      <td>1.31</td>\n",
       "      <td>73.29</td>\n",
       "      <td>0.58</td>\n",
       "      <td>8.50</td>\n",
       "      <td>0.0</td>\n",
       "      <td>0.00</td>\n",
       "      <td>1</td>\n",
       "    </tr>\n",
       "    <tr>\n",
       "      <th>15</th>\n",
       "      <td>1.51761</td>\n",
       "      <td>12.81</td>\n",
       "      <td>3.54</td>\n",
       "      <td>1.23</td>\n",
       "      <td>73.24</td>\n",
       "      <td>0.58</td>\n",
       "      <td>8.39</td>\n",
       "      <td>0.0</td>\n",
       "      <td>0.00</td>\n",
       "      <td>1</td>\n",
       "    </tr>\n",
       "    <tr>\n",
       "      <th>16</th>\n",
       "      <td>1.51784</td>\n",
       "      <td>12.68</td>\n",
       "      <td>3.67</td>\n",
       "      <td>1.16</td>\n",
       "      <td>73.11</td>\n",
       "      <td>0.61</td>\n",
       "      <td>8.70</td>\n",
       "      <td>0.0</td>\n",
       "      <td>0.00</td>\n",
       "      <td>1</td>\n",
       "    </tr>\n",
       "    <tr>\n",
       "      <th>17</th>\n",
       "      <td>1.52196</td>\n",
       "      <td>14.36</td>\n",
       "      <td>3.85</td>\n",
       "      <td>0.89</td>\n",
       "      <td>71.36</td>\n",
       "      <td>0.15</td>\n",
       "      <td>9.15</td>\n",
       "      <td>0.0</td>\n",
       "      <td>0.00</td>\n",
       "      <td>1</td>\n",
       "    </tr>\n",
       "    <tr>\n",
       "      <th>18</th>\n",
       "      <td>1.51911</td>\n",
       "      <td>13.90</td>\n",
       "      <td>3.73</td>\n",
       "      <td>1.18</td>\n",
       "      <td>72.12</td>\n",
       "      <td>0.06</td>\n",
       "      <td>8.89</td>\n",
       "      <td>0.0</td>\n",
       "      <td>0.00</td>\n",
       "      <td>1</td>\n",
       "    </tr>\n",
       "    <tr>\n",
       "      <th>19</th>\n",
       "      <td>1.51735</td>\n",
       "      <td>13.02</td>\n",
       "      <td>3.54</td>\n",
       "      <td>1.69</td>\n",
       "      <td>72.73</td>\n",
       "      <td>0.54</td>\n",
       "      <td>8.44</td>\n",
       "      <td>0.0</td>\n",
       "      <td>0.07</td>\n",
       "      <td>1</td>\n",
       "    </tr>\n",
       "    <tr>\n",
       "      <th>20</th>\n",
       "      <td>1.51750</td>\n",
       "      <td>12.82</td>\n",
       "      <td>3.55</td>\n",
       "      <td>1.49</td>\n",
       "      <td>72.75</td>\n",
       "      <td>0.54</td>\n",
       "      <td>8.52</td>\n",
       "      <td>0.0</td>\n",
       "      <td>0.19</td>\n",
       "      <td>1</td>\n",
       "    </tr>\n",
       "    <tr>\n",
       "      <th>21</th>\n",
       "      <td>1.51966</td>\n",
       "      <td>14.77</td>\n",
       "      <td>3.75</td>\n",
       "      <td>0.29</td>\n",
       "      <td>72.02</td>\n",
       "      <td>0.03</td>\n",
       "      <td>9.00</td>\n",
       "      <td>0.0</td>\n",
       "      <td>0.00</td>\n",
       "      <td>1</td>\n",
       "    </tr>\n",
       "    <tr>\n",
       "      <th>22</th>\n",
       "      <td>1.51736</td>\n",
       "      <td>12.78</td>\n",
       "      <td>3.62</td>\n",
       "      <td>1.29</td>\n",
       "      <td>72.79</td>\n",
       "      <td>0.59</td>\n",
       "      <td>8.70</td>\n",
       "      <td>0.0</td>\n",
       "      <td>0.00</td>\n",
       "      <td>1</td>\n",
       "    </tr>\n",
       "    <tr>\n",
       "      <th>23</th>\n",
       "      <td>1.51751</td>\n",
       "      <td>12.81</td>\n",
       "      <td>3.57</td>\n",
       "      <td>1.35</td>\n",
       "      <td>73.02</td>\n",
       "      <td>0.62</td>\n",
       "      <td>8.59</td>\n",
       "      <td>0.0</td>\n",
       "      <td>0.00</td>\n",
       "      <td>1</td>\n",
       "    </tr>\n",
       "    <tr>\n",
       "      <th>24</th>\n",
       "      <td>1.51720</td>\n",
       "      <td>13.38</td>\n",
       "      <td>3.50</td>\n",
       "      <td>1.15</td>\n",
       "      <td>72.85</td>\n",
       "      <td>0.50</td>\n",
       "      <td>8.43</td>\n",
       "      <td>0.0</td>\n",
       "      <td>0.00</td>\n",
       "      <td>1</td>\n",
       "    </tr>\n",
       "    <tr>\n",
       "      <th>25</th>\n",
       "      <td>1.51764</td>\n",
       "      <td>12.98</td>\n",
       "      <td>3.54</td>\n",
       "      <td>1.21</td>\n",
       "      <td>73.00</td>\n",
       "      <td>0.65</td>\n",
       "      <td>8.53</td>\n",
       "      <td>0.0</td>\n",
       "      <td>0.00</td>\n",
       "      <td>1</td>\n",
       "    </tr>\n",
       "    <tr>\n",
       "      <th>26</th>\n",
       "      <td>1.51793</td>\n",
       "      <td>13.21</td>\n",
       "      <td>3.48</td>\n",
       "      <td>1.41</td>\n",
       "      <td>72.64</td>\n",
       "      <td>0.59</td>\n",
       "      <td>8.43</td>\n",
       "      <td>0.0</td>\n",
       "      <td>0.00</td>\n",
       "      <td>1</td>\n",
       "    </tr>\n",
       "    <tr>\n",
       "      <th>27</th>\n",
       "      <td>1.51721</td>\n",
       "      <td>12.87</td>\n",
       "      <td>3.48</td>\n",
       "      <td>1.33</td>\n",
       "      <td>73.04</td>\n",
       "      <td>0.56</td>\n",
       "      <td>8.43</td>\n",
       "      <td>0.0</td>\n",
       "      <td>0.00</td>\n",
       "      <td>1</td>\n",
       "    </tr>\n",
       "    <tr>\n",
       "      <th>28</th>\n",
       "      <td>1.51768</td>\n",
       "      <td>12.56</td>\n",
       "      <td>3.52</td>\n",
       "      <td>1.43</td>\n",
       "      <td>73.15</td>\n",
       "      <td>0.57</td>\n",
       "      <td>8.54</td>\n",
       "      <td>0.0</td>\n",
       "      <td>0.00</td>\n",
       "      <td>1</td>\n",
       "    </tr>\n",
       "    <tr>\n",
       "      <th>29</th>\n",
       "      <td>1.51784</td>\n",
       "      <td>13.08</td>\n",
       "      <td>3.49</td>\n",
       "      <td>1.28</td>\n",
       "      <td>72.86</td>\n",
       "      <td>0.60</td>\n",
       "      <td>8.49</td>\n",
       "      <td>0.0</td>\n",
       "      <td>0.00</td>\n",
       "      <td>1</td>\n",
       "    </tr>\n",
       "  </tbody>\n",
       "</table>\n",
       "</div>"
      ],
      "text/plain": [
       "         RI     Na    Mg    Al     Si     K    Ca   Ba    Fe  Type\n",
       "0   1.52101  13.64  4.49  1.10  71.78  0.06  8.75  0.0  0.00     1\n",
       "1   1.51761  13.89  3.60  1.36  72.73  0.48  7.83  0.0  0.00     1\n",
       "2   1.51618  13.53  3.55  1.54  72.99  0.39  7.78  0.0  0.00     1\n",
       "3   1.51766  13.21  3.69  1.29  72.61  0.57  8.22  0.0  0.00     1\n",
       "4   1.51742  13.27  3.62  1.24  73.08  0.55  8.07  0.0  0.00     1\n",
       "5   1.51596  12.79  3.61  1.62  72.97  0.64  8.07  0.0  0.26     1\n",
       "6   1.51743  13.30  3.60  1.14  73.09  0.58  8.17  0.0  0.00     1\n",
       "7   1.51756  13.15  3.61  1.05  73.24  0.57  8.24  0.0  0.00     1\n",
       "8   1.51918  14.04  3.58  1.37  72.08  0.56  8.30  0.0  0.00     1\n",
       "9   1.51755  13.00  3.60  1.36  72.99  0.57  8.40  0.0  0.11     1\n",
       "10  1.51571  12.72  3.46  1.56  73.20  0.67  8.09  0.0  0.24     1\n",
       "11  1.51763  12.80  3.66  1.27  73.01  0.60  8.56  0.0  0.00     1\n",
       "12  1.51589  12.88  3.43  1.40  73.28  0.69  8.05  0.0  0.24     1\n",
       "13  1.51748  12.86  3.56  1.27  73.21  0.54  8.38  0.0  0.17     1\n",
       "14  1.51763  12.61  3.59  1.31  73.29  0.58  8.50  0.0  0.00     1\n",
       "15  1.51761  12.81  3.54  1.23  73.24  0.58  8.39  0.0  0.00     1\n",
       "16  1.51784  12.68  3.67  1.16  73.11  0.61  8.70  0.0  0.00     1\n",
       "17  1.52196  14.36  3.85  0.89  71.36  0.15  9.15  0.0  0.00     1\n",
       "18  1.51911  13.90  3.73  1.18  72.12  0.06  8.89  0.0  0.00     1\n",
       "19  1.51735  13.02  3.54  1.69  72.73  0.54  8.44  0.0  0.07     1\n",
       "20  1.51750  12.82  3.55  1.49  72.75  0.54  8.52  0.0  0.19     1\n",
       "21  1.51966  14.77  3.75  0.29  72.02  0.03  9.00  0.0  0.00     1\n",
       "22  1.51736  12.78  3.62  1.29  72.79  0.59  8.70  0.0  0.00     1\n",
       "23  1.51751  12.81  3.57  1.35  73.02  0.62  8.59  0.0  0.00     1\n",
       "24  1.51720  13.38  3.50  1.15  72.85  0.50  8.43  0.0  0.00     1\n",
       "25  1.51764  12.98  3.54  1.21  73.00  0.65  8.53  0.0  0.00     1\n",
       "26  1.51793  13.21  3.48  1.41  72.64  0.59  8.43  0.0  0.00     1\n",
       "27  1.51721  12.87  3.48  1.33  73.04  0.56  8.43  0.0  0.00     1\n",
       "28  1.51768  12.56  3.52  1.43  73.15  0.57  8.54  0.0  0.00     1\n",
       "29  1.51784  13.08  3.49  1.28  72.86  0.60  8.49  0.0  0.00     1"
      ]
     },
     "execution_count": 62,
     "metadata": {},
     "output_type": "execute_result"
    }
   ],
   "source": [
    "glass.head(30)"
   ]
  },
  {
   "cell_type": "code",
   "execution_count": 63,
   "id": "47b99067",
   "metadata": {},
   "outputs": [],
   "source": [
    "column_name=glass.columns\n"
   ]
  },
  {
   "cell_type": "code",
   "execution_count": 64,
   "id": "00629887",
   "metadata": {},
   "outputs": [
    {
     "data": {
      "text/plain": [
       "Index(['RI', 'Na', 'Mg', 'Al', 'Si', 'K', 'Ca', 'Ba', 'Fe', 'Type'], dtype='object')"
      ]
     },
     "execution_count": 64,
     "metadata": {},
     "output_type": "execute_result"
    }
   ],
   "source": [
    "column_name"
   ]
  },
  {
   "cell_type": "code",
   "execution_count": 65,
   "id": "279c39f4",
   "metadata": {},
   "outputs": [
    {
     "name": "stdout",
     "output_type": "stream",
     "text": [
      "<class 'pandas.core.frame.DataFrame'>\n",
      "RangeIndex: 214 entries, 0 to 213\n",
      "Data columns (total 10 columns):\n",
      " #   Column  Non-Null Count  Dtype  \n",
      "---  ------  --------------  -----  \n",
      " 0   RI      214 non-null    float64\n",
      " 1   Na      214 non-null    float64\n",
      " 2   Mg      214 non-null    float64\n",
      " 3   Al      214 non-null    float64\n",
      " 4   Si      214 non-null    float64\n",
      " 5   K       214 non-null    float64\n",
      " 6   Ca      214 non-null    float64\n",
      " 7   Ba      214 non-null    float64\n",
      " 8   Fe      214 non-null    float64\n",
      " 9   Type    214 non-null    int64  \n",
      "dtypes: float64(9), int64(1)\n",
      "memory usage: 16.8 KB\n"
     ]
    }
   ],
   "source": [
    "glass.info()"
   ]
  },
  {
   "cell_type": "code",
   "execution_count": 66,
   "id": "8aac8c8a",
   "metadata": {},
   "outputs": [
    {
     "data": {
      "text/plain": [
       "RI      178\n",
       "Na      142\n",
       "Mg       94\n",
       "Al      118\n",
       "Si      133\n",
       "K        65\n",
       "Ca      143\n",
       "Ba       34\n",
       "Fe       32\n",
       "Type      6\n",
       "dtype: int64"
      ]
     },
     "execution_count": 66,
     "metadata": {},
     "output_type": "execute_result"
    }
   ],
   "source": [
    "glass.nunique()"
   ]
  },
  {
   "cell_type": "code",
   "execution_count": 67,
   "id": "1c2beb98",
   "metadata": {},
   "outputs": [
    {
     "data": {
      "text/plain": [
       "120"
      ]
     },
     "execution_count": 67,
     "metadata": {},
     "output_type": "execute_result"
    }
   ],
   "source": [
    "glass[\"Mg\"].duplicated().sum()"
   ]
  },
  {
   "cell_type": "markdown",
   "id": "11583e75",
   "metadata": {},
   "source": [
    "As we see that there are teo many duplicates in many column but we can also see that the other column of same row are not duplicated so it means whatever column e are getting we can see that there bottom or aboove row are not duplivcated "
   ]
  },
  {
   "cell_type": "code",
   "execution_count": 68,
   "id": "b221e6ee",
   "metadata": {},
   "outputs": [
    {
     "data": {
      "text/plain": [
       "2    76\n",
       "1    70\n",
       "7    29\n",
       "3    17\n",
       "5    13\n",
       "6     9\n",
       "Name: Type, dtype: int64"
      ]
     },
     "execution_count": 68,
     "metadata": {},
     "output_type": "execute_result"
    }
   ],
   "source": [
    "glass[\"Type\"].value_counts()"
   ]
  },
  {
   "cell_type": "markdown",
   "id": "49587778",
   "metadata": {},
   "source": [
    "As we can clearly see that \n",
    "1. Class 2 Type 76 tpye of glass are present \n",
    "2. Class 1 Type 70 glass are present \n",
    "these both type of glass are maximum present at the crime spot from all the 214 samples that was colleted from spot and these both type of glass are from  building window glass "
   ]
  },
  {
   "cell_type": "code",
   "execution_count": 69,
   "id": "7f6768b2",
   "metadata": {},
   "outputs": [
    {
     "name": "stdout",
     "output_type": "stream",
     "text": [
      "          RI     Na    Mg    Al     Si     K    Ca    Ba    Fe  Type\n",
      "70   1.51574  14.86  3.67  1.74  71.87  0.16  7.36  0.00  0.12     2\n",
      "71   1.51848  13.64  3.87  1.27  71.96  0.54  8.32  0.00  0.32     2\n",
      "72   1.51593  13.09  3.59  1.52  73.10  0.67  7.83  0.00  0.00     2\n",
      "73   1.51631  13.34  3.57  1.57  72.87  0.61  7.89  0.00  0.00     2\n",
      "74   1.51596  13.02  3.56  1.54  73.11  0.72  7.90  0.00  0.00     2\n",
      "..       ...    ...   ...   ...    ...   ...   ...   ...   ...   ...\n",
      "141  1.51851  13.20  3.63  1.07  72.83  0.57  8.41  0.09  0.17     2\n",
      "142  1.51662  12.85  3.51  1.44  73.01  0.68  8.23  0.06  0.25     2\n",
      "143  1.51709  13.00  3.47  1.79  72.72  0.66  8.18  0.00  0.00     2\n",
      "144  1.51660  12.99  3.18  1.23  72.97  0.58  8.81  0.00  0.24     2\n",
      "145  1.51839  12.85  3.67  1.24  72.57  0.62  8.68  0.00  0.35     2\n",
      "\n",
      "[76 rows x 10 columns]\n"
     ]
    }
   ],
   "source": [
    "glass_type_2 = glass[glass[\"Type\"] == 2]  \n",
    "print(glass_type_2)"
   ]
  },
  {
   "cell_type": "code",
   "execution_count": 70,
   "id": "67845378",
   "metadata": {},
   "outputs": [
    {
     "name": "stdout",
     "output_type": "stream",
     "text": [
      "         RI     Na    Mg    Al     Si     K     Ca   Ba    Fe  Type\n",
      "0   1.52101  13.64  4.49  1.10  71.78  0.06   8.75  0.0  0.00     1\n",
      "1   1.51761  13.89  3.60  1.36  72.73  0.48   7.83  0.0  0.00     1\n",
      "2   1.51618  13.53  3.55  1.54  72.99  0.39   7.78  0.0  0.00     1\n",
      "3   1.51766  13.21  3.69  1.29  72.61  0.57   8.22  0.0  0.00     1\n",
      "4   1.51742  13.27  3.62  1.24  73.08  0.55   8.07  0.0  0.00     1\n",
      "..      ...    ...   ...   ...    ...   ...    ...  ...   ...   ...\n",
      "65  1.52099  13.69  3.59  1.12  71.96  0.09   9.40  0.0  0.00     1\n",
      "66  1.52152  13.05  3.65  0.87  72.22  0.19   9.85  0.0  0.17     1\n",
      "67  1.52152  13.05  3.65  0.87  72.32  0.19   9.85  0.0  0.17     1\n",
      "68  1.52152  13.12  3.58  0.90  72.20  0.23   9.82  0.0  0.16     1\n",
      "69  1.52300  13.31  3.58  0.82  71.99  0.12  10.17  0.0  0.03     1\n",
      "\n",
      "[70 rows x 10 columns]\n"
     ]
    }
   ],
   "source": [
    "glass_type_1 = glass[glass[\"Type\"] == 1]  \n",
    "print(glass_type_1)"
   ]
  },
  {
   "cell_type": "code",
   "execution_count": 71,
   "id": "255da17a",
   "metadata": {},
   "outputs": [
    {
     "name": "stdout",
     "output_type": "stream",
     "text": [
      "          RI     Na    Mg    Al     Si     K    Ca    Ba    Fe  Type\n",
      "146  1.51769  13.65  3.66  1.11  72.77  0.11  8.60  0.00  0.00     3\n",
      "147  1.51610  13.33  3.53  1.34  72.67  0.56  8.33  0.00  0.00     3\n",
      "148  1.51670  13.24  3.57  1.38  72.70  0.56  8.44  0.00  0.10     3\n",
      "149  1.51643  12.16  3.52  1.35  72.89  0.57  8.53  0.00  0.00     3\n",
      "150  1.51665  13.14  3.45  1.76  72.48  0.60  8.38  0.00  0.17     3\n",
      "151  1.52127  14.32  3.90  0.83  71.50  0.00  9.49  0.00  0.00     3\n",
      "152  1.51779  13.64  3.65  0.65  73.00  0.06  8.93  0.00  0.00     3\n",
      "153  1.51610  13.42  3.40  1.22  72.69  0.59  8.32  0.00  0.00     3\n",
      "154  1.51694  12.86  3.58  1.31  72.61  0.61  8.79  0.00  0.00     3\n",
      "155  1.51646  13.04  3.40  1.26  73.01  0.52  8.58  0.00  0.00     3\n",
      "156  1.51655  13.41  3.39  1.28  72.64  0.52  8.65  0.00  0.00     3\n",
      "157  1.52121  14.03  3.76  0.58  71.79  0.11  9.65  0.00  0.00     3\n",
      "158  1.51776  13.53  3.41  1.52  72.04  0.58  8.79  0.00  0.00     3\n",
      "159  1.51796  13.50  3.36  1.63  71.94  0.57  8.81  0.00  0.09     3\n",
      "160  1.51832  13.33  3.34  1.54  72.14  0.56  8.99  0.00  0.00     3\n",
      "161  1.51934  13.64  3.54  0.75  72.65  0.16  8.89  0.15  0.24     3\n",
      "162  1.52211  14.19  3.78  0.91  71.36  0.23  9.14  0.00  0.37     3\n"
     ]
    }
   ],
   "source": [
    "glass_type_3 = glass[glass[\"Type\"] == 3]  \n",
    "print(glass_type_3)"
   ]
  },
  {
   "cell_type": "code",
   "execution_count": 72,
   "id": "7527b5a8",
   "metadata": {},
   "outputs": [
    {
     "name": "stdout",
     "output_type": "stream",
     "text": [
      "          RI     Na    Mg    Al     Si    K     Ca   Ba   Fe  Type\n",
      "176  1.51905  14.00  2.39  1.56  72.37  0.0   9.57  0.0  0.0     6\n",
      "177  1.51937  13.79  2.41  1.19  72.76  0.0   9.77  0.0  0.0     6\n",
      "178  1.51829  14.46  2.24  1.62  72.38  0.0   9.26  0.0  0.0     6\n",
      "179  1.51852  14.09  2.19  1.66  72.67  0.0   9.32  0.0  0.0     6\n",
      "180  1.51299  14.40  1.74  1.54  74.55  0.0   7.59  0.0  0.0     6\n",
      "181  1.51888  14.99  0.78  1.74  72.50  0.0   9.95  0.0  0.0     6\n",
      "182  1.51916  14.15  0.00  2.09  72.74  0.0  10.88  0.0  0.0     6\n",
      "183  1.51969  14.56  0.00  0.56  73.48  0.0  11.22  0.0  0.0     6\n",
      "184  1.51115  17.38  0.00  0.34  75.41  0.0   6.65  0.0  0.0     6\n"
     ]
    }
   ],
   "source": [
    "glass_type_6 = glass[glass[\"Type\"] == 6]  \n",
    "print(glass_type_6)"
   ]
  },
  {
   "cell_type": "code",
   "execution_count": 73,
   "id": "3f1cba4c",
   "metadata": {},
   "outputs": [
    {
     "name": "stdout",
     "output_type": "stream",
     "text": [
      "          RI     Na    Mg    Al     Si     K     Ca    Ba    Fe  Type\n",
      "163  1.51514  14.01  2.68  3.50  69.89  1.68   5.87  2.20  0.00     5\n",
      "164  1.51915  12.73  1.85  1.86  72.69  0.60  10.09  0.00  0.00     5\n",
      "165  1.52171  11.56  1.88  1.56  72.86  0.47  11.41  0.00  0.00     5\n",
      "166  1.52151  11.03  1.71  1.56  73.44  0.58  11.62  0.00  0.00     5\n",
      "167  1.51969  12.64  0.00  1.65  73.75  0.38  11.53  0.00  0.00     5\n",
      "168  1.51666  12.86  0.00  1.83  73.88  0.97  10.17  0.00  0.00     5\n",
      "169  1.51994  13.27  0.00  1.76  73.03  0.47  11.32  0.00  0.00     5\n",
      "170  1.52369  13.44  0.00  1.58  72.22  0.32  12.24  0.00  0.00     5\n",
      "171  1.51316  13.02  0.00  3.04  70.48  6.21   6.96  0.00  0.00     5\n",
      "172  1.51321  13.00  0.00  3.02  70.70  6.21   6.93  0.00  0.00     5\n",
      "173  1.52043  13.38  0.00  1.40  72.25  0.33  12.50  0.00  0.00     5\n",
      "174  1.52058  12.85  1.61  2.17  72.18  0.76   9.70  0.24  0.51     5\n",
      "175  1.52119  12.97  0.33  1.51  73.39  0.13  11.27  0.00  0.28     5\n"
     ]
    }
   ],
   "source": [
    "glass_type_5 = glass[glass[\"Type\"] == 5]  \n",
    "print(glass_type_5)"
   ]
  },
  {
   "cell_type": "code",
   "execution_count": 74,
   "id": "315ab52f",
   "metadata": {},
   "outputs": [
    {
     "data": {
      "text/html": [
       "<div>\n",
       "<style scoped>\n",
       "    .dataframe tbody tr th:only-of-type {\n",
       "        vertical-align: middle;\n",
       "    }\n",
       "\n",
       "    .dataframe tbody tr th {\n",
       "        vertical-align: top;\n",
       "    }\n",
       "\n",
       "    .dataframe thead th {\n",
       "        text-align: right;\n",
       "    }\n",
       "</style>\n",
       "<table border=\"1\" class=\"dataframe\">\n",
       "  <thead>\n",
       "    <tr style=\"text-align: right;\">\n",
       "      <th></th>\n",
       "      <th>RI</th>\n",
       "      <th>Na</th>\n",
       "      <th>Mg</th>\n",
       "      <th>Al</th>\n",
       "      <th>Si</th>\n",
       "      <th>K</th>\n",
       "      <th>Ca</th>\n",
       "      <th>Ba</th>\n",
       "      <th>Fe</th>\n",
       "      <th>Type</th>\n",
       "    </tr>\n",
       "  </thead>\n",
       "  <tbody>\n",
       "    <tr>\n",
       "      <th>count</th>\n",
       "      <td>214.000000</td>\n",
       "      <td>214.000000</td>\n",
       "      <td>214.000000</td>\n",
       "      <td>214.000000</td>\n",
       "      <td>214.000000</td>\n",
       "      <td>214.000000</td>\n",
       "      <td>214.000000</td>\n",
       "      <td>214.000000</td>\n",
       "      <td>214.000000</td>\n",
       "      <td>214.000000</td>\n",
       "    </tr>\n",
       "    <tr>\n",
       "      <th>mean</th>\n",
       "      <td>1.518365</td>\n",
       "      <td>13.407850</td>\n",
       "      <td>2.684533</td>\n",
       "      <td>1.444907</td>\n",
       "      <td>72.650935</td>\n",
       "      <td>0.497056</td>\n",
       "      <td>8.956963</td>\n",
       "      <td>0.175047</td>\n",
       "      <td>0.057009</td>\n",
       "      <td>2.780374</td>\n",
       "    </tr>\n",
       "    <tr>\n",
       "      <th>std</th>\n",
       "      <td>0.003037</td>\n",
       "      <td>0.816604</td>\n",
       "      <td>1.442408</td>\n",
       "      <td>0.499270</td>\n",
       "      <td>0.774546</td>\n",
       "      <td>0.652192</td>\n",
       "      <td>1.423153</td>\n",
       "      <td>0.497219</td>\n",
       "      <td>0.097439</td>\n",
       "      <td>2.103739</td>\n",
       "    </tr>\n",
       "    <tr>\n",
       "      <th>min</th>\n",
       "      <td>1.511150</td>\n",
       "      <td>10.730000</td>\n",
       "      <td>0.000000</td>\n",
       "      <td>0.290000</td>\n",
       "      <td>69.810000</td>\n",
       "      <td>0.000000</td>\n",
       "      <td>5.430000</td>\n",
       "      <td>0.000000</td>\n",
       "      <td>0.000000</td>\n",
       "      <td>1.000000</td>\n",
       "    </tr>\n",
       "    <tr>\n",
       "      <th>25%</th>\n",
       "      <td>1.516522</td>\n",
       "      <td>12.907500</td>\n",
       "      <td>2.115000</td>\n",
       "      <td>1.190000</td>\n",
       "      <td>72.280000</td>\n",
       "      <td>0.122500</td>\n",
       "      <td>8.240000</td>\n",
       "      <td>0.000000</td>\n",
       "      <td>0.000000</td>\n",
       "      <td>1.000000</td>\n",
       "    </tr>\n",
       "    <tr>\n",
       "      <th>50%</th>\n",
       "      <td>1.517680</td>\n",
       "      <td>13.300000</td>\n",
       "      <td>3.480000</td>\n",
       "      <td>1.360000</td>\n",
       "      <td>72.790000</td>\n",
       "      <td>0.555000</td>\n",
       "      <td>8.600000</td>\n",
       "      <td>0.000000</td>\n",
       "      <td>0.000000</td>\n",
       "      <td>2.000000</td>\n",
       "    </tr>\n",
       "    <tr>\n",
       "      <th>75%</th>\n",
       "      <td>1.519157</td>\n",
       "      <td>13.825000</td>\n",
       "      <td>3.600000</td>\n",
       "      <td>1.630000</td>\n",
       "      <td>73.087500</td>\n",
       "      <td>0.610000</td>\n",
       "      <td>9.172500</td>\n",
       "      <td>0.000000</td>\n",
       "      <td>0.100000</td>\n",
       "      <td>3.000000</td>\n",
       "    </tr>\n",
       "    <tr>\n",
       "      <th>max</th>\n",
       "      <td>1.533930</td>\n",
       "      <td>17.380000</td>\n",
       "      <td>4.490000</td>\n",
       "      <td>3.500000</td>\n",
       "      <td>75.410000</td>\n",
       "      <td>6.210000</td>\n",
       "      <td>16.190000</td>\n",
       "      <td>3.150000</td>\n",
       "      <td>0.510000</td>\n",
       "      <td>7.000000</td>\n",
       "    </tr>\n",
       "  </tbody>\n",
       "</table>\n",
       "</div>"
      ],
      "text/plain": [
       "               RI          Na          Mg          Al          Si           K  \\\n",
       "count  214.000000  214.000000  214.000000  214.000000  214.000000  214.000000   \n",
       "mean     1.518365   13.407850    2.684533    1.444907   72.650935    0.497056   \n",
       "std      0.003037    0.816604    1.442408    0.499270    0.774546    0.652192   \n",
       "min      1.511150   10.730000    0.000000    0.290000   69.810000    0.000000   \n",
       "25%      1.516522   12.907500    2.115000    1.190000   72.280000    0.122500   \n",
       "50%      1.517680   13.300000    3.480000    1.360000   72.790000    0.555000   \n",
       "75%      1.519157   13.825000    3.600000    1.630000   73.087500    0.610000   \n",
       "max      1.533930   17.380000    4.490000    3.500000   75.410000    6.210000   \n",
       "\n",
       "               Ca          Ba          Fe        Type  \n",
       "count  214.000000  214.000000  214.000000  214.000000  \n",
       "mean     8.956963    0.175047    0.057009    2.780374  \n",
       "std      1.423153    0.497219    0.097439    2.103739  \n",
       "min      5.430000    0.000000    0.000000    1.000000  \n",
       "25%      8.240000    0.000000    0.000000    1.000000  \n",
       "50%      8.600000    0.000000    0.000000    2.000000  \n",
       "75%      9.172500    0.000000    0.100000    3.000000  \n",
       "max     16.190000    3.150000    0.510000    7.000000  "
      ]
     },
     "execution_count": 74,
     "metadata": {},
     "output_type": "execute_result"
    }
   ],
   "source": [
    "glass.describe()\n"
   ]
  },
  {
   "cell_type": "markdown",
   "id": "5052a7fe",
   "metadata": {},
   "source": [
    "As from the above we can conclude some outliers amybe present in the dataset "
   ]
  },
  {
   "cell_type": "markdown",
   "id": "7922ad30",
   "metadata": {},
   "source": [
    "# Now we Visiualize our data to get insight"
   ]
  },
  {
   "cell_type": "code",
   "execution_count": 75,
   "id": "ff134cb7",
   "metadata": {
    "scrolled": false
   },
   "outputs": [
    {
     "data": {
      "image/png": "[encoded data removed]",
      "text/plain": [
       "<Figure size 432x288 with 1 Axes>"
      ]
     },
     "metadata": {
      "needs_background": "light"
     },
     "output_type": "display_data"
    },
    {
     "data": {
      "image/png": "[encoded data removed]",
      "text/plain": [
       "<Figure size 432x288 with 1 Axes>"
      ]
     },
     "metadata": {
      "needs_background": "light"
     },
     "output_type": "display_data"
    },
    {
     "data": {
      "image/png": "[encoded data removed]",
      "text/plain": [
       "<Figure size 432x288 with 1 Axes>"
      ]
     },
     "metadata": {
      "needs_background": "light"
     },
     "output_type": "display_data"
    },
    {
     "data": {
      "image/png": "[encoded data removed]",
      "text/plain": [
       "<Figure size 432x288 with 1 Axes>"
      ]
     },
     "metadata": {
      "needs_background": "light"
     },
     "output_type": "display_data"
    },
    {
     "data": {
      "image/png": "[encoded data removed]",
      "text/plain": [
       "<Figure size 432x288 with 1 Axes>"
      ]
     },
     "metadata": {
      "needs_background": "light"
     },
     "output_type": "display_data"
    },
    {
     "data": {
      "image/png": "[encoded data removed]",
      "text/plain": [
       "<Figure size 432x288 with 1 Axes>"
      ]
     },
     "metadata": {
      "needs_background": "light"
     },
     "output_type": "display_data"
    },
    {
     "data": {
      "image/png": "[encoded data removed]",
      "text/plain": [
       "<Figure size 432x288 with 1 Axes>"
      ]
     },
     "metadata": {
      "needs_background": "light"
     },
     "output_type": "display_data"
    },
    {
     "data": {
      "image/png": "[encoded data removed]",
      "text/plain": [
       "<Figure size 432x288 with 1 Axes>"
      ]
     },
     "metadata": {
      "needs_background": "light"
     },
     "output_type": "display_data"
    },
    {
     "data": {
      "image/png": "[encoded data removed]",
      "text/plain": [
       "<Figure size 432x288 with 1 Axes>"
      ]
     },
     "metadata": {
      "needs_background": "light"
     },
     "output_type": "display_data"
    },
    {
     "data": {
      "image/png": "[encoded data removed]",
      "text/plain": [
       "<Figure size 432x288 with 1 Axes>"
      ]
     },
     "metadata": {
      "needs_background": "light"
     },
     "output_type": "display_data"
    }
   ],
   "source": [
    "# let's plot some basic plot\n",
    "%matplotlib inline\n",
    "plotnumber=1\n",
    "for i in column_name:\n",
    "    if plotnumber<=9:\n",
    "        plt.figure(figsize=(6,4))\n",
    "        ax=plt.subplot(1,1,plotnumber)\n",
    "        \n",
    "        sns.barplot(y=glass[i],x=glass[\"Type\"], data=glass,palette=\"YlOrRd\")\n",
    "        plt.show()\n"
   ]
  },
  {
   "cell_type": "markdown",
   "id": "c91e1388",
   "metadata": {},
   "source": [
    "# From the above graph we canm clearly see that how chemical properties          directly tell anout type of glass\n",
    "\n",
    "1. In the refractive index we can clealry see that for all the type of glass the refractive index is almost same it mean refractive index is not the key factor or pushing factor for type of glass \n",
    "\n",
    "2. In the Sodium properties we can see that type 6 and 7 type of glass have more sodium percentage almost 14% or greater than 14% but other type og glass almost have same sodium percenatge so sodium is also not driving chemical properties to deicde and specfic glass \n",
    "\n",
    "3. in the Aluminimum  we can clearly see that type 5 and 7 glass have more Aluminimum percentage than any others almost 2% and in type 2 and 5 have less percentage of Aluminium as compared to other Type 6 and 7 and other class have very less \n",
    "\n",
    "4. In the Magenese chmeical property we can clearly see that Type 1 , 2 ,3 class glass have vey hiugh Magnese percenatge than any another class ( almost 3 to 3.5 %) and at the crime spot we can see that most piece which we found out 214 maximum was from type 1 and 2 and then 3 class glass which is used for windows \n",
    "\n",
    "5. As usual Silica percentage is almost equal for all type of glass beacuse Silica is buluing block of any glass and important so it percabntage is also high almost 70 % in all of the above \n",
    "\n",
    "6. in the calcium chemical properties we can clearly see that Type 5 have highest and then tyoe 6 and other class have same perc enatge \n",
    "\n",
    "7. in the Potassium we can clearly see that type 5 have highest percenatge ratger than other and type 6 very very less almost negligible \n",
    "\n",
    "8. In the barrium we can  type 7 have the highest and other having less \n",
    "\n",
    "9. It is interseting to see that ferrous percentage is very high for type 1, 2 class glass rather than any other type of glass \n",
    "\n",
    "\n",
    "From above we can come to the conclusion that Type 1 and 2 which is having more peices on the crime spot have more percentage of ferrous and magenese which is qindow type glass "
   ]
  },
  {
   "cell_type": "code",
   "execution_count": 76,
   "id": "d6dcbaa9",
   "metadata": {},
   "outputs": [
    {
     "data": {
      "text/plain": [
       "<Figure size 432x288 with 0 Axes>"
      ]
     },
     "metadata": {},
     "output_type": "display_data"
    },
    {
     "data": {
      "image/png": "[encoded data removed]",
      "text/plain": [
       "<Figure size 432x432 with 3 Axes>"
      ]
     },
     "metadata": {
      "needs_background": "light"
     },
     "output_type": "display_data"
    },
    {
     "data": {
      "text/plain": [
       "<Figure size 432x288 with 0 Axes>"
      ]
     },
     "metadata": {},
     "output_type": "display_data"
    },
    {
     "data": {
      "image/png": "[encoded data removed]",
      "text/plain": [
       "<Figure size 432x432 with 3 Axes>"
      ]
     },
     "metadata": {
      "needs_background": "light"
     },
     "output_type": "display_data"
    },
    {
     "data": {
      "text/plain": [
       "<Figure size 432x288 with 0 Axes>"
      ]
     },
     "metadata": {},
     "output_type": "display_data"
    },
    {
     "data": {
      "image/png": "[encoded data removed]",
      "text/plain": [
       "<Figure size 432x432 with 3 Axes>"
      ]
     },
     "metadata": {
      "needs_background": "light"
     },
     "output_type": "display_data"
    },
    {
     "data": {
      "text/plain": [
       "<Figure size 432x288 with 0 Axes>"
      ]
     },
     "metadata": {},
     "output_type": "display_data"
    },
    {
     "data": {
      "image/png": "[encoded data removed]",
      "text/plain": [
       "<Figure size 432x432 with 3 Axes>"
      ]
     },
     "metadata": {
      "needs_background": "light"
     },
     "output_type": "display_data"
    },
    {
     "data": {
      "text/plain": [
       "<Figure size 432x288 with 0 Axes>"
      ]
     },
     "metadata": {},
     "output_type": "display_data"
    },
    {
     "data": {
      "image/png": "[encoded data removed]",
      "text/plain": [
       "<Figure size 432x432 with 3 Axes>"
      ]
     },
     "metadata": {
      "needs_background": "light"
     },
     "output_type": "display_data"
    },
    {
     "data": {
      "text/plain": [
       "<Figure size 432x288 with 0 Axes>"
      ]
     },
     "metadata": {},
     "output_type": "display_data"
    },
    {
     "data": {
      "image/png": "[encoded data removed]",
      "text/plain": [
       "<Figure size 432x432 with 3 Axes>"
      ]
     },
     "metadata": {
      "needs_background": "light"
     },
     "output_type": "display_data"
    },
    {
     "data": {
      "text/plain": [
       "<Figure size 432x288 with 0 Axes>"
      ]
     },
     "metadata": {},
     "output_type": "display_data"
    },
    {
     "data": {
      "image/png": "[encoded data removed]",
      "text/plain": [
       "<Figure size 432x432 with 3 Axes>"
      ]
     },
     "metadata": {
      "needs_background": "light"
     },
     "output_type": "display_data"
    },
    {
     "data": {
      "text/plain": [
       "<Figure size 432x288 with 0 Axes>"
      ]
     },
     "metadata": {},
     "output_type": "display_data"
    },
    {
     "data": {
      "image/png": "[encoded data removed]",
      "text/plain": [
       "<Figure size 432x432 with 3 Axes>"
      ]
     },
     "metadata": {
      "needs_background": "light"
     },
     "output_type": "display_data"
    },
    {
     "data": {
      "text/plain": [
       "<Figure size 432x288 with 0 Axes>"
      ]
     },
     "metadata": {},
     "output_type": "display_data"
    },
    {
     "data": {
      "image/png": "[encoded data removed]",
      "text/plain": [
       "<Figure size 432x432 with 3 Axes>"
      ]
     },
     "metadata": {
      "needs_background": "light"
     },
     "output_type": "display_data"
    },
    {
     "data": {
      "text/plain": [
       "<Figure size 432x288 with 0 Axes>"
      ]
     },
     "metadata": {},
     "output_type": "display_data"
    },
    {
     "data": {
      "image/png": "[encoded data removed]",
      "text/plain": [
       "<Figure size 432x432 with 3 Axes>"
      ]
     },
     "metadata": {
      "needs_background": "light"
     },
     "output_type": "display_data"
    }
   ],
   "source": [
    "%matplotlib inline\n",
    "plotnumber=1\n",
    "for i in column_name:\n",
    "    if plotnumber<=9:\n",
    "        plt.figure(figsize=(6,4))\n",
    "        \n",
    "        sns.jointplot(y=glass[i],x=glass[\"Type\"], data=glass,palette=\"YlOrRd\")\n",
    "        plt.show()"
   ]
  },
  {
   "cell_type": "code",
   "execution_count": 77,
   "id": "d0c64462",
   "metadata": {},
   "outputs": [
    {
     "data": {
      "image/png": "[encoded data removed]",
      "text/plain": [
       "<Figure size 576x432 with 1 Axes>"
      ]
     },
     "metadata": {
      "needs_background": "light"
     },
     "output_type": "display_data"
    }
   ],
   "source": [
    "%matplotlib inline\n",
    "plt.figure(figsize=(8,6))\n",
    "ax=sns.countplot(x=glass[\"Type\"], data=glass,palette=\"YlOrRd\")\n",
    "plt.show()"
   ]
  },
  {
   "cell_type": "markdown",
   "id": "6d0c7242",
   "metadata": {},
   "source": [
    "From this graph also we can xlealry see that \"Type 1 and 2\" type og glass which is use for window espcifically have more number of counts than any other piece type of glass at the crime spot more than 75"
   ]
  },
  {
   "cell_type": "code",
   "execution_count": 78,
   "id": "277c73cf",
   "metadata": {},
   "outputs": [
    {
     "data": {
      "image/png": "[encoded data removed]",
      "text/plain": [
       "<Figure size 576x432 with 1 Axes>"
      ]
     },
     "metadata": {
      "needs_background": "light"
     },
     "output_type": "display_data"
    },
    {
     "data": {
      "image/png": "[encoded data removed]",
      "text/plain": [
       "<Figure size 576x432 with 1 Axes>"
      ]
     },
     "metadata": {
      "needs_background": "light"
     },
     "output_type": "display_data"
    },
    {
     "data": {
      "image/png": "[encoded data removed]",
      "text/plain": [
       "<Figure size 576x432 with 1 Axes>"
      ]
     },
     "metadata": {
      "needs_background": "light"
     },
     "output_type": "display_data"
    },
    {
     "data": {
      "image/png": "[encoded data removed]",
      "text/plain": [
       "<Figure size 576x432 with 1 Axes>"
      ]
     },
     "metadata": {
      "needs_background": "light"
     },
     "output_type": "display_data"
    },
    {
     "data": {
      "image/png": "[encoded data removed]",
      "text/plain": [
       "<Figure size 576x432 with 1 Axes>"
      ]
     },
     "metadata": {
      "needs_background": "light"
     },
     "output_type": "display_data"
    },
    {
     "data": {
      "image/png": "[encoded data removed]",
      "text/plain": [
       "<Figure size 576x432 with 1 Axes>"
      ]
     },
     "metadata": {
      "needs_background": "light"
     },
     "output_type": "display_data"
    },
    {
     "data": {
      "image/png": "[encoded data removed]",
      "text/plain": [
       "<Figure size 576x432 with 1 Axes>"
      ]
     },
     "metadata": {
      "needs_background": "light"
     },
     "output_type": "display_data"
    },
    {
     "data": {
      "image/png": "[encoded data removed]",
      "text/plain": [
       "<Figure size 576x432 with 1 Axes>"
      ]
     },
     "metadata": {
      "needs_background": "light"
     },
     "output_type": "display_data"
    },
    {
     "data": {
      "image/png": "[encoded data removed]",
      "text/plain": [
       "<Figure size 576x432 with 1 Axes>"
      ]
     },
     "metadata": {
      "needs_background": "light"
     },
     "output_type": "display_data"
    },
    {
     "data": {
      "image/png": "[encoded data removed]",
      "text/plain": [
       "<Figure size 576x432 with 1 Axes>"
      ]
     },
     "metadata": {
      "needs_background": "light"
     },
     "output_type": "display_data"
    }
   ],
   "source": [
    "%matplotlib inline\n",
    "for i in column_name:\n",
    "    if plotnumber<=9:\n",
    "        plt.figure(figsize=(8,6))\n",
    "        ax=sns.stripplot(x=glass[\"Type\"],y=glass[i] ,data=glass,palette=\"YlOrRd\")\n",
    "        plt.show()\n",
    "        "
   ]
  },
  {
   "cell_type": "markdown",
   "id": "a0fd6342",
   "metadata": {},
   "source": [
    "# from the stripplot we can observe the same "
   ]
  },
  {
   "cell_type": "code",
   "execution_count": 79,
   "id": "22ea4ddd",
   "metadata": {},
   "outputs": [
    {
     "data": {
      "image/png": "[encoded data removed]",
      "text/plain": [
       "<Figure size 576x432 with 1 Axes>"
      ]
     },
     "metadata": {
      "needs_background": "light"
     },
     "output_type": "display_data"
    }
   ],
   "source": [
    "plt.figure(figsize=(8,6))\n",
    "ax=sns.swarmplot(x=glass[\"Type\"],y=glass[\"Mg\"] ,data=glass,palette=\"YlOrRd\")\n",
    "plt.show()"
   ]
  },
  {
   "cell_type": "code",
   "execution_count": 80,
   "id": "dfdbe0af",
   "metadata": {},
   "outputs": [
    {
     "data": {
      "image/png": "[encoded data removed]",
      "text/plain": [
       "<Figure size 576x432 with 1 Axes>"
      ]
     },
     "metadata": {
      "needs_background": "light"
     },
     "output_type": "display_data"
    }
   ],
   "source": [
    "plt.figure(figsize=(8,6))\n",
    "ax=sns.swarmplot(x=glass[\"Type\"],y=glass[\"Al\"] ,data=glass,palette=\"YlOrRd\")\n",
    "plt.show()"
   ]
  },
  {
   "cell_type": "markdown",
   "id": "b9f2bdb6",
   "metadata": {},
   "source": [
    "No doubt about it we can clealry see magenese is very high in these type of glass "
   ]
  },
  {
   "cell_type": "markdown",
   "id": "0f1c9c10",
   "metadata": {},
   "source": [
    "# Before doing preprocessing lets divide type into two parts window and non window class"
   ]
  },
  {
   "cell_type": "code",
   "execution_count": 81,
   "id": "6eb88f1b",
   "metadata": {},
   "outputs": [],
   "source": [
    "# lets do one thing From class type 1 to 4  we dvide thi class as window class and call 1 and class gtype 5 to 7 as non window class\n",
    "type_of_glass=[]\n",
    "for i in glass[\"Type\"]:\n",
    "    if i<=4:\n",
    "        window=1\n",
    "        type_of_glass.append(window)\n",
    "        \n",
    "    else:\n",
    "        non_window=0\n",
    "        type_of_glass.append(non_window)"
   ]
  },
  {
   "cell_type": "code",
   "execution_count": 82,
   "id": "9dff5f7a",
   "metadata": {},
   "outputs": [
    {
     "data": {
      "text/plain": [
       "[1,\n",
       " 1,\n",
       " 1,\n",
       " 1,\n",
       " 1,\n",
       " 1,\n",
       " 1,\n",
       " 1,\n",
       " 1,\n",
       " 1,\n",
       " 1,\n",
       " 1,\n",
       " 1,\n",
       " 1,\n",
       " 1,\n",
       " 1,\n",
       " 1,\n",
       " 1,\n",
       " 1,\n",
       " 1,\n",
       " 1,\n",
       " 1,\n",
       " 1,\n",
       " 1,\n",
       " 1,\n",
       " 1,\n",
       " 1,\n",
       " 1,\n",
       " 1,\n",
       " 1,\n",
       " 1,\n",
       " 1,\n",
       " 1,\n",
       " 1,\n",
       " 1,\n",
       " 1,\n",
       " 1,\n",
       " 1,\n",
       " 1,\n",
       " 1,\n",
       " 1,\n",
       " 1,\n",
       " 1,\n",
       " 1,\n",
       " 1,\n",
       " 1,\n",
       " 1,\n",
       " 1,\n",
       " 1,\n",
       " 1,\n",
       " 1,\n",
       " 1,\n",
       " 1,\n",
       " 1,\n",
       " 1,\n",
       " 1,\n",
       " 1,\n",
       " 1,\n",
       " 1,\n",
       " 1,\n",
       " 1,\n",
       " 1,\n",
       " 1,\n",
       " 1,\n",
       " 1,\n",
       " 1,\n",
       " 1,\n",
       " 1,\n",
       " 1,\n",
       " 1,\n",
       " 1,\n",
       " 1,\n",
       " 1,\n",
       " 1,\n",
       " 1,\n",
       " 1,\n",
       " 1,\n",
       " 1,\n",
       " 1,\n",
       " 1,\n",
       " 1,\n",
       " 1,\n",
       " 1,\n",
       " 1,\n",
       " 1,\n",
       " 1,\n",
       " 1,\n",
       " 1,\n",
       " 1,\n",
       " 1,\n",
       " 1,\n",
       " 1,\n",
       " 1,\n",
       " 1,\n",
       " 1,\n",
       " 1,\n",
       " 1,\n",
       " 1,\n",
       " 1,\n",
       " 1,\n",
       " 1,\n",
       " 1,\n",
       " 1,\n",
       " 1,\n",
       " 1,\n",
       " 1,\n",
       " 1,\n",
       " 1,\n",
       " 1,\n",
       " 1,\n",
       " 1,\n",
       " 1,\n",
       " 1,\n",
       " 1,\n",
       " 1,\n",
       " 1,\n",
       " 1,\n",
       " 1,\n",
       " 1,\n",
       " 1,\n",
       " 1,\n",
       " 1,\n",
       " 1,\n",
       " 1,\n",
       " 1,\n",
       " 1,\n",
       " 1,\n",
       " 1,\n",
       " 1,\n",
       " 1,\n",
       " 1,\n",
       " 1,\n",
       " 1,\n",
       " 1,\n",
       " 1,\n",
       " 1,\n",
       " 1,\n",
       " 1,\n",
       " 1,\n",
       " 1,\n",
       " 1,\n",
       " 1,\n",
       " 1,\n",
       " 1,\n",
       " 1,\n",
       " 1,\n",
       " 1,\n",
       " 1,\n",
       " 1,\n",
       " 1,\n",
       " 1,\n",
       " 1,\n",
       " 1,\n",
       " 1,\n",
       " 1,\n",
       " 1,\n",
       " 1,\n",
       " 1,\n",
       " 1,\n",
       " 1,\n",
       " 1,\n",
       " 1,\n",
       " 1,\n",
       " 0,\n",
       " 0,\n",
       " 0,\n",
       " 0,\n",
       " 0,\n",
       " 0,\n",
       " 0,\n",
       " 0,\n",
       " 0,\n",
       " 0,\n",
       " 0,\n",
       " 0,\n",
       " 0,\n",
       " 0,\n",
       " 0,\n",
       " 0,\n",
       " 0,\n",
       " 0,\n",
       " 0,\n",
       " 0,\n",
       " 0,\n",
       " 0,\n",
       " 0,\n",
       " 0,\n",
       " 0,\n",
       " 0,\n",
       " 0,\n",
       " 0,\n",
       " 0,\n",
       " 0,\n",
       " 0,\n",
       " 0,\n",
       " 0,\n",
       " 0,\n",
       " 0,\n",
       " 0,\n",
       " 0,\n",
       " 0,\n",
       " 0,\n",
       " 0,\n",
       " 0,\n",
       " 0,\n",
       " 0,\n",
       " 0,\n",
       " 0,\n",
       " 0,\n",
       " 0,\n",
       " 0,\n",
       " 0,\n",
       " 0,\n",
       " 0]"
      ]
     },
     "execution_count": 82,
     "metadata": {},
     "output_type": "execute_result"
    }
   ],
   "source": [
    "type_of_glass"
   ]
  },
  {
   "cell_type": "code",
   "execution_count": 83,
   "id": "661aede3",
   "metadata": {},
   "outputs": [],
   "source": [
    "glass[\"type_of_glass\"]=type_of_glass"
   ]
  },
  {
   "cell_type": "code",
   "execution_count": 84,
   "id": "b1c55c7d",
   "metadata": {},
   "outputs": [
    {
     "data": {
      "text/html": [
       "<div>\n",
       "<style scoped>\n",
       "    .dataframe tbody tr th:only-of-type {\n",
       "        vertical-align: middle;\n",
       "    }\n",
       "\n",
       "    .dataframe tbody tr th {\n",
       "        vertical-align: top;\n",
       "    }\n",
       "\n",
       "    .dataframe thead th {\n",
       "        text-align: right;\n",
       "    }\n",
       "</style>\n",
       "<table border=\"1\" class=\"dataframe\">\n",
       "  <thead>\n",
       "    <tr style=\"text-align: right;\">\n",
       "      <th></th>\n",
       "      <th>RI</th>\n",
       "      <th>Na</th>\n",
       "      <th>Mg</th>\n",
       "      <th>Al</th>\n",
       "      <th>Si</th>\n",
       "      <th>K</th>\n",
       "      <th>Ca</th>\n",
       "      <th>Ba</th>\n",
       "      <th>Fe</th>\n",
       "      <th>Type</th>\n",
       "      <th>type_of_glass</th>\n",
       "    </tr>\n",
       "  </thead>\n",
       "  <tbody>\n",
       "    <tr>\n",
       "      <th>0</th>\n",
       "      <td>1.52101</td>\n",
       "      <td>13.64</td>\n",
       "      <td>4.49</td>\n",
       "      <td>1.10</td>\n",
       "      <td>71.78</td>\n",
       "      <td>0.06</td>\n",
       "      <td>8.75</td>\n",
       "      <td>0.00</td>\n",
       "      <td>0.0</td>\n",
       "      <td>1</td>\n",
       "      <td>1</td>\n",
       "    </tr>\n",
       "    <tr>\n",
       "      <th>1</th>\n",
       "      <td>1.51761</td>\n",
       "      <td>13.89</td>\n",
       "      <td>3.60</td>\n",
       "      <td>1.36</td>\n",
       "      <td>72.73</td>\n",
       "      <td>0.48</td>\n",
       "      <td>7.83</td>\n",
       "      <td>0.00</td>\n",
       "      <td>0.0</td>\n",
       "      <td>1</td>\n",
       "      <td>1</td>\n",
       "    </tr>\n",
       "    <tr>\n",
       "      <th>2</th>\n",
       "      <td>1.51618</td>\n",
       "      <td>13.53</td>\n",
       "      <td>3.55</td>\n",
       "      <td>1.54</td>\n",
       "      <td>72.99</td>\n",
       "      <td>0.39</td>\n",
       "      <td>7.78</td>\n",
       "      <td>0.00</td>\n",
       "      <td>0.0</td>\n",
       "      <td>1</td>\n",
       "      <td>1</td>\n",
       "    </tr>\n",
       "    <tr>\n",
       "      <th>3</th>\n",
       "      <td>1.51766</td>\n",
       "      <td>13.21</td>\n",
       "      <td>3.69</td>\n",
       "      <td>1.29</td>\n",
       "      <td>72.61</td>\n",
       "      <td>0.57</td>\n",
       "      <td>8.22</td>\n",
       "      <td>0.00</td>\n",
       "      <td>0.0</td>\n",
       "      <td>1</td>\n",
       "      <td>1</td>\n",
       "    </tr>\n",
       "    <tr>\n",
       "      <th>4</th>\n",
       "      <td>1.51742</td>\n",
       "      <td>13.27</td>\n",
       "      <td>3.62</td>\n",
       "      <td>1.24</td>\n",
       "      <td>73.08</td>\n",
       "      <td>0.55</td>\n",
       "      <td>8.07</td>\n",
       "      <td>0.00</td>\n",
       "      <td>0.0</td>\n",
       "      <td>1</td>\n",
       "      <td>1</td>\n",
       "    </tr>\n",
       "    <tr>\n",
       "      <th>...</th>\n",
       "      <td>...</td>\n",
       "      <td>...</td>\n",
       "      <td>...</td>\n",
       "      <td>...</td>\n",
       "      <td>...</td>\n",
       "      <td>...</td>\n",
       "      <td>...</td>\n",
       "      <td>...</td>\n",
       "      <td>...</td>\n",
       "      <td>...</td>\n",
       "      <td>...</td>\n",
       "    </tr>\n",
       "    <tr>\n",
       "      <th>209</th>\n",
       "      <td>1.51623</td>\n",
       "      <td>14.14</td>\n",
       "      <td>0.00</td>\n",
       "      <td>2.88</td>\n",
       "      <td>72.61</td>\n",
       "      <td>0.08</td>\n",
       "      <td>9.18</td>\n",
       "      <td>1.06</td>\n",
       "      <td>0.0</td>\n",
       "      <td>7</td>\n",
       "      <td>0</td>\n",
       "    </tr>\n",
       "    <tr>\n",
       "      <th>210</th>\n",
       "      <td>1.51685</td>\n",
       "      <td>14.92</td>\n",
       "      <td>0.00</td>\n",
       "      <td>1.99</td>\n",
       "      <td>73.06</td>\n",
       "      <td>0.00</td>\n",
       "      <td>8.40</td>\n",
       "      <td>1.59</td>\n",
       "      <td>0.0</td>\n",
       "      <td>7</td>\n",
       "      <td>0</td>\n",
       "    </tr>\n",
       "    <tr>\n",
       "      <th>211</th>\n",
       "      <td>1.52065</td>\n",
       "      <td>14.36</td>\n",
       "      <td>0.00</td>\n",
       "      <td>2.02</td>\n",
       "      <td>73.42</td>\n",
       "      <td>0.00</td>\n",
       "      <td>8.44</td>\n",
       "      <td>1.64</td>\n",
       "      <td>0.0</td>\n",
       "      <td>7</td>\n",
       "      <td>0</td>\n",
       "    </tr>\n",
       "    <tr>\n",
       "      <th>212</th>\n",
       "      <td>1.51651</td>\n",
       "      <td>14.38</td>\n",
       "      <td>0.00</td>\n",
       "      <td>1.94</td>\n",
       "      <td>73.61</td>\n",
       "      <td>0.00</td>\n",
       "      <td>8.48</td>\n",
       "      <td>1.57</td>\n",
       "      <td>0.0</td>\n",
       "      <td>7</td>\n",
       "      <td>0</td>\n",
       "    </tr>\n",
       "    <tr>\n",
       "      <th>213</th>\n",
       "      <td>1.51711</td>\n",
       "      <td>14.23</td>\n",
       "      <td>0.00</td>\n",
       "      <td>2.08</td>\n",
       "      <td>73.36</td>\n",
       "      <td>0.00</td>\n",
       "      <td>8.62</td>\n",
       "      <td>1.67</td>\n",
       "      <td>0.0</td>\n",
       "      <td>7</td>\n",
       "      <td>0</td>\n",
       "    </tr>\n",
       "  </tbody>\n",
       "</table>\n",
       "<p>214 rows × 11 columns</p>\n",
       "</div>"
      ],
      "text/plain": [
       "          RI     Na    Mg    Al     Si     K    Ca    Ba   Fe  Type  \\\n",
       "0    1.52101  13.64  4.49  1.10  71.78  0.06  8.75  0.00  0.0     1   \n",
       "1    1.51761  13.89  3.60  1.36  72.73  0.48  7.83  0.00  0.0     1   \n",
       "2    1.51618  13.53  3.55  1.54  72.99  0.39  7.78  0.00  0.0     1   \n",
       "3    1.51766  13.21  3.69  1.29  72.61  0.57  8.22  0.00  0.0     1   \n",
       "4    1.51742  13.27  3.62  1.24  73.08  0.55  8.07  0.00  0.0     1   \n",
       "..       ...    ...   ...   ...    ...   ...   ...   ...  ...   ...   \n",
       "209  1.51623  14.14  0.00  2.88  72.61  0.08  9.18  1.06  0.0     7   \n",
       "210  1.51685  14.92  0.00  1.99  73.06  0.00  8.40  1.59  0.0     7   \n",
       "211  1.52065  14.36  0.00  2.02  73.42  0.00  8.44  1.64  0.0     7   \n",
       "212  1.51651  14.38  0.00  1.94  73.61  0.00  8.48  1.57  0.0     7   \n",
       "213  1.51711  14.23  0.00  2.08  73.36  0.00  8.62  1.67  0.0     7   \n",
       "\n",
       "     type_of_glass  \n",
       "0                1  \n",
       "1                1  \n",
       "2                1  \n",
       "3                1  \n",
       "4                1  \n",
       "..             ...  \n",
       "209              0  \n",
       "210              0  \n",
       "211              0  \n",
       "212              0  \n",
       "213              0  \n",
       "\n",
       "[214 rows x 11 columns]"
      ]
     },
     "execution_count": 84,
     "metadata": {},
     "output_type": "execute_result"
    }
   ],
   "source": [
    "glass"
   ]
  },
  {
   "cell_type": "code",
   "execution_count": 85,
   "id": "9b74f29d",
   "metadata": {},
   "outputs": [],
   "source": [
    "#let's drop the tyep column from the datset\n",
    "glass.drop(columns=\"Type\",inplace=True)"
   ]
  },
  {
   "cell_type": "code",
   "execution_count": 86,
   "id": "8506b176",
   "metadata": {},
   "outputs": [
    {
     "data": {
      "text/html": [
       "<div>\n",
       "<style scoped>\n",
       "    .dataframe tbody tr th:only-of-type {\n",
       "        vertical-align: middle;\n",
       "    }\n",
       "\n",
       "    .dataframe tbody tr th {\n",
       "        vertical-align: top;\n",
       "    }\n",
       "\n",
       "    .dataframe thead th {\n",
       "        text-align: right;\n",
       "    }\n",
       "</style>\n",
       "<table border=\"1\" class=\"dataframe\">\n",
       "  <thead>\n",
       "    <tr style=\"text-align: right;\">\n",
       "      <th></th>\n",
       "      <th>RI</th>\n",
       "      <th>Na</th>\n",
       "      <th>Mg</th>\n",
       "      <th>Al</th>\n",
       "      <th>Si</th>\n",
       "      <th>K</th>\n",
       "      <th>Ca</th>\n",
       "      <th>Ba</th>\n",
       "      <th>Fe</th>\n",
       "      <th>type_of_glass</th>\n",
       "    </tr>\n",
       "  </thead>\n",
       "  <tbody>\n",
       "    <tr>\n",
       "      <th>0</th>\n",
       "      <td>1.52101</td>\n",
       "      <td>13.64</td>\n",
       "      <td>4.49</td>\n",
       "      <td>1.10</td>\n",
       "      <td>71.78</td>\n",
       "      <td>0.06</td>\n",
       "      <td>8.75</td>\n",
       "      <td>0.00</td>\n",
       "      <td>0.0</td>\n",
       "      <td>1</td>\n",
       "    </tr>\n",
       "    <tr>\n",
       "      <th>1</th>\n",
       "      <td>1.51761</td>\n",
       "      <td>13.89</td>\n",
       "      <td>3.60</td>\n",
       "      <td>1.36</td>\n",
       "      <td>72.73</td>\n",
       "      <td>0.48</td>\n",
       "      <td>7.83</td>\n",
       "      <td>0.00</td>\n",
       "      <td>0.0</td>\n",
       "      <td>1</td>\n",
       "    </tr>\n",
       "    <tr>\n",
       "      <th>2</th>\n",
       "      <td>1.51618</td>\n",
       "      <td>13.53</td>\n",
       "      <td>3.55</td>\n",
       "      <td>1.54</td>\n",
       "      <td>72.99</td>\n",
       "      <td>0.39</td>\n",
       "      <td>7.78</td>\n",
       "      <td>0.00</td>\n",
       "      <td>0.0</td>\n",
       "      <td>1</td>\n",
       "    </tr>\n",
       "    <tr>\n",
       "      <th>3</th>\n",
       "      <td>1.51766</td>\n",
       "      <td>13.21</td>\n",
       "      <td>3.69</td>\n",
       "      <td>1.29</td>\n",
       "      <td>72.61</td>\n",
       "      <td>0.57</td>\n",
       "      <td>8.22</td>\n",
       "      <td>0.00</td>\n",
       "      <td>0.0</td>\n",
       "      <td>1</td>\n",
       "    </tr>\n",
       "    <tr>\n",
       "      <th>4</th>\n",
       "      <td>1.51742</td>\n",
       "      <td>13.27</td>\n",
       "      <td>3.62</td>\n",
       "      <td>1.24</td>\n",
       "      <td>73.08</td>\n",
       "      <td>0.55</td>\n",
       "      <td>8.07</td>\n",
       "      <td>0.00</td>\n",
       "      <td>0.0</td>\n",
       "      <td>1</td>\n",
       "    </tr>\n",
       "    <tr>\n",
       "      <th>...</th>\n",
       "      <td>...</td>\n",
       "      <td>...</td>\n",
       "      <td>...</td>\n",
       "      <td>...</td>\n",
       "      <td>...</td>\n",
       "      <td>...</td>\n",
       "      <td>...</td>\n",
       "      <td>...</td>\n",
       "      <td>...</td>\n",
       "      <td>...</td>\n",
       "    </tr>\n",
       "    <tr>\n",
       "      <th>209</th>\n",
       "      <td>1.51623</td>\n",
       "      <td>14.14</td>\n",
       "      <td>0.00</td>\n",
       "      <td>2.88</td>\n",
       "      <td>72.61</td>\n",
       "      <td>0.08</td>\n",
       "      <td>9.18</td>\n",
       "      <td>1.06</td>\n",
       "      <td>0.0</td>\n",
       "      <td>0</td>\n",
       "    </tr>\n",
       "    <tr>\n",
       "      <th>210</th>\n",
       "      <td>1.51685</td>\n",
       "      <td>14.92</td>\n",
       "      <td>0.00</td>\n",
       "      <td>1.99</td>\n",
       "      <td>73.06</td>\n",
       "      <td>0.00</td>\n",
       "      <td>8.40</td>\n",
       "      <td>1.59</td>\n",
       "      <td>0.0</td>\n",
       "      <td>0</td>\n",
       "    </tr>\n",
       "    <tr>\n",
       "      <th>211</th>\n",
       "      <td>1.52065</td>\n",
       "      <td>14.36</td>\n",
       "      <td>0.00</td>\n",
       "      <td>2.02</td>\n",
       "      <td>73.42</td>\n",
       "      <td>0.00</td>\n",
       "      <td>8.44</td>\n",
       "      <td>1.64</td>\n",
       "      <td>0.0</td>\n",
       "      <td>0</td>\n",
       "    </tr>\n",
       "    <tr>\n",
       "      <th>212</th>\n",
       "      <td>1.51651</td>\n",
       "      <td>14.38</td>\n",
       "      <td>0.00</td>\n",
       "      <td>1.94</td>\n",
       "      <td>73.61</td>\n",
       "      <td>0.00</td>\n",
       "      <td>8.48</td>\n",
       "      <td>1.57</td>\n",
       "      <td>0.0</td>\n",
       "      <td>0</td>\n",
       "    </tr>\n",
       "    <tr>\n",
       "      <th>213</th>\n",
       "      <td>1.51711</td>\n",
       "      <td>14.23</td>\n",
       "      <td>0.00</td>\n",
       "      <td>2.08</td>\n",
       "      <td>73.36</td>\n",
       "      <td>0.00</td>\n",
       "      <td>8.62</td>\n",
       "      <td>1.67</td>\n",
       "      <td>0.0</td>\n",
       "      <td>0</td>\n",
       "    </tr>\n",
       "  </tbody>\n",
       "</table>\n",
       "<p>214 rows × 10 columns</p>\n",
       "</div>"
      ],
      "text/plain": [
       "          RI     Na    Mg    Al     Si     K    Ca    Ba   Fe  type_of_glass\n",
       "0    1.52101  13.64  4.49  1.10  71.78  0.06  8.75  0.00  0.0              1\n",
       "1    1.51761  13.89  3.60  1.36  72.73  0.48  7.83  0.00  0.0              1\n",
       "2    1.51618  13.53  3.55  1.54  72.99  0.39  7.78  0.00  0.0              1\n",
       "3    1.51766  13.21  3.69  1.29  72.61  0.57  8.22  0.00  0.0              1\n",
       "4    1.51742  13.27  3.62  1.24  73.08  0.55  8.07  0.00  0.0              1\n",
       "..       ...    ...   ...   ...    ...   ...   ...   ...  ...            ...\n",
       "209  1.51623  14.14  0.00  2.88  72.61  0.08  9.18  1.06  0.0              0\n",
       "210  1.51685  14.92  0.00  1.99  73.06  0.00  8.40  1.59  0.0              0\n",
       "211  1.52065  14.36  0.00  2.02  73.42  0.00  8.44  1.64  0.0              0\n",
       "212  1.51651  14.38  0.00  1.94  73.61  0.00  8.48  1.57  0.0              0\n",
       "213  1.51711  14.23  0.00  2.08  73.36  0.00  8.62  1.67  0.0              0\n",
       "\n",
       "[214 rows x 10 columns]"
      ]
     },
     "execution_count": 86,
     "metadata": {},
     "output_type": "execute_result"
    }
   ],
   "source": [
    "glass"
   ]
  },
  {
   "cell_type": "markdown",
   "id": "044fdb81",
   "metadata": {},
   "source": [
    "# now we do preprosseing steps"
   ]
  },
  {
   "cell_type": "code",
   "execution_count": 87,
   "id": "b466d031",
   "metadata": {},
   "outputs": [
    {
     "data": {
      "text/html": [
       "<div>\n",
       "<style scoped>\n",
       "    .dataframe tbody tr th:only-of-type {\n",
       "        vertical-align: middle;\n",
       "    }\n",
       "\n",
       "    .dataframe tbody tr th {\n",
       "        vertical-align: top;\n",
       "    }\n",
       "\n",
       "    .dataframe thead th {\n",
       "        text-align: right;\n",
       "    }\n",
       "</style>\n",
       "<table border=\"1\" class=\"dataframe\">\n",
       "  <thead>\n",
       "    <tr style=\"text-align: right;\">\n",
       "      <th></th>\n",
       "      <th>RI</th>\n",
       "      <th>Na</th>\n",
       "      <th>Mg</th>\n",
       "      <th>Al</th>\n",
       "      <th>Si</th>\n",
       "      <th>K</th>\n",
       "      <th>Ca</th>\n",
       "      <th>Ba</th>\n",
       "      <th>Fe</th>\n",
       "      <th>type_of_glass</th>\n",
       "    </tr>\n",
       "  </thead>\n",
       "  <tbody>\n",
       "    <tr>\n",
       "      <th>RI</th>\n",
       "      <td>1.000000</td>\n",
       "      <td>-0.191885</td>\n",
       "      <td>-0.122274</td>\n",
       "      <td>-0.407326</td>\n",
       "      <td>-0.542052</td>\n",
       "      <td>-0.289833</td>\n",
       "      <td>0.810403</td>\n",
       "      <td>-0.000386</td>\n",
       "      <td>0.143010</td>\n",
       "      <td>0.134327</td>\n",
       "    </tr>\n",
       "    <tr>\n",
       "      <th>Na</th>\n",
       "      <td>-0.191885</td>\n",
       "      <td>1.000000</td>\n",
       "      <td>-0.273732</td>\n",
       "      <td>0.156794</td>\n",
       "      <td>-0.069809</td>\n",
       "      <td>-0.266087</td>\n",
       "      <td>-0.275442</td>\n",
       "      <td>0.326603</td>\n",
       "      <td>-0.241346</td>\n",
       "      <td>-0.452336</td>\n",
       "    </tr>\n",
       "    <tr>\n",
       "      <th>Mg</th>\n",
       "      <td>-0.122274</td>\n",
       "      <td>-0.273732</td>\n",
       "      <td>1.000000</td>\n",
       "      <td>-0.481799</td>\n",
       "      <td>-0.165927</td>\n",
       "      <td>0.005396</td>\n",
       "      <td>-0.443750</td>\n",
       "      <td>-0.492262</td>\n",
       "      <td>0.083060</td>\n",
       "      <td>0.758289</td>\n",
       "    </tr>\n",
       "    <tr>\n",
       "      <th>Al</th>\n",
       "      <td>-0.407326</td>\n",
       "      <td>0.156794</td>\n",
       "      <td>-0.481799</td>\n",
       "      <td>1.000000</td>\n",
       "      <td>-0.005524</td>\n",
       "      <td>0.325958</td>\n",
       "      <td>-0.259592</td>\n",
       "      <td>0.479404</td>\n",
       "      <td>-0.074402</td>\n",
       "      <td>-0.585928</td>\n",
       "    </tr>\n",
       "    <tr>\n",
       "      <th>Si</th>\n",
       "      <td>-0.542052</td>\n",
       "      <td>-0.069809</td>\n",
       "      <td>-0.165927</td>\n",
       "      <td>-0.005524</td>\n",
       "      <td>1.000000</td>\n",
       "      <td>-0.193331</td>\n",
       "      <td>-0.208732</td>\n",
       "      <td>-0.102151</td>\n",
       "      <td>-0.094201</td>\n",
       "      <td>-0.148072</td>\n",
       "    </tr>\n",
       "    <tr>\n",
       "      <th>K</th>\n",
       "      <td>-0.289833</td>\n",
       "      <td>-0.266087</td>\n",
       "      <td>0.005396</td>\n",
       "      <td>0.325958</td>\n",
       "      <td>-0.193331</td>\n",
       "      <td>1.000000</td>\n",
       "      <td>-0.317836</td>\n",
       "      <td>-0.042618</td>\n",
       "      <td>-0.007719</td>\n",
       "      <td>-0.053774</td>\n",
       "    </tr>\n",
       "    <tr>\n",
       "      <th>Ca</th>\n",
       "      <td>0.810403</td>\n",
       "      <td>-0.275442</td>\n",
       "      <td>-0.443750</td>\n",
       "      <td>-0.259592</td>\n",
       "      <td>-0.208732</td>\n",
       "      <td>-0.317836</td>\n",
       "      <td>1.000000</td>\n",
       "      <td>-0.112841</td>\n",
       "      <td>0.124968</td>\n",
       "      <td>-0.040670</td>\n",
       "    </tr>\n",
       "    <tr>\n",
       "      <th>Ba</th>\n",
       "      <td>-0.000386</td>\n",
       "      <td>0.326603</td>\n",
       "      <td>-0.492262</td>\n",
       "      <td>0.479404</td>\n",
       "      <td>-0.102151</td>\n",
       "      <td>-0.042618</td>\n",
       "      <td>-0.112841</td>\n",
       "      <td>1.000000</td>\n",
       "      <td>-0.058692</td>\n",
       "      <td>-0.523403</td>\n",
       "    </tr>\n",
       "    <tr>\n",
       "      <th>Fe</th>\n",
       "      <td>0.143010</td>\n",
       "      <td>-0.241346</td>\n",
       "      <td>0.083060</td>\n",
       "      <td>-0.074402</td>\n",
       "      <td>-0.094201</td>\n",
       "      <td>-0.007719</td>\n",
       "      <td>0.124968</td>\n",
       "      <td>-0.058692</td>\n",
       "      <td>1.000000</td>\n",
       "      <td>0.194903</td>\n",
       "    </tr>\n",
       "    <tr>\n",
       "      <th>type_of_glass</th>\n",
       "      <td>0.134327</td>\n",
       "      <td>-0.452336</td>\n",
       "      <td>0.758289</td>\n",
       "      <td>-0.585928</td>\n",
       "      <td>-0.148072</td>\n",
       "      <td>-0.053774</td>\n",
       "      <td>-0.040670</td>\n",
       "      <td>-0.523403</td>\n",
       "      <td>0.194903</td>\n",
       "      <td>1.000000</td>\n",
       "    </tr>\n",
       "  </tbody>\n",
       "</table>\n",
       "</div>"
      ],
      "text/plain": [
       "                     RI        Na        Mg        Al        Si         K  \\\n",
       "RI             1.000000 -0.191885 -0.122274 -0.407326 -0.542052 -0.289833   \n",
       "Na            -0.191885  1.000000 -0.273732  0.156794 -0.069809 -0.266087   \n",
       "Mg            -0.122274 -0.273732  1.000000 -0.481799 -0.165927  0.005396   \n",
       "Al            -0.407326  0.156794 -0.481799  1.000000 -0.005524  0.325958   \n",
       "Si            -0.542052 -0.069809 -0.165927 -0.005524  1.000000 -0.193331   \n",
       "K             -0.289833 -0.266087  0.005396  0.325958 -0.193331  1.000000   \n",
       "Ca             0.810403 -0.275442 -0.443750 -0.259592 -0.208732 -0.317836   \n",
       "Ba            -0.000386  0.326603 -0.492262  0.479404 -0.102151 -0.042618   \n",
       "Fe             0.143010 -0.241346  0.083060 -0.074402 -0.094201 -0.007719   \n",
       "type_of_glass  0.134327 -0.452336  0.758289 -0.585928 -0.148072 -0.053774   \n",
       "\n",
       "                     Ca        Ba        Fe  type_of_glass  \n",
       "RI             0.810403 -0.000386  0.143010       0.134327  \n",
       "Na            -0.275442  0.326603 -0.241346      -0.452336  \n",
       "Mg            -0.443750 -0.492262  0.083060       0.758289  \n",
       "Al            -0.259592  0.479404 -0.074402      -0.585928  \n",
       "Si            -0.208732 -0.102151 -0.094201      -0.148072  \n",
       "K             -0.317836 -0.042618 -0.007719      -0.053774  \n",
       "Ca             1.000000 -0.112841  0.124968      -0.040670  \n",
       "Ba            -0.112841  1.000000 -0.058692      -0.523403  \n",
       "Fe             0.124968 -0.058692  1.000000       0.194903  \n",
       "type_of_glass -0.040670 -0.523403  0.194903       1.000000  "
      ]
     },
     "execution_count": 87,
     "metadata": {},
     "output_type": "execute_result"
    }
   ],
   "source": [
    "# let's checl the multicollinearity of this dataset\n",
    "corr=glass.corr()\n",
    "corr"
   ]
  },
  {
   "cell_type": "code",
   "execution_count": 88,
   "id": "1aa03ebc",
   "metadata": {},
   "outputs": [
    {
     "data": {
      "image/png": "[encoded data removed]",
      "text/plain": [
       "<Figure size 864x576 with 2 Axes>"
      ]
     },
     "metadata": {
      "needs_background": "light"
     },
     "output_type": "display_data"
    }
   ],
   "source": [
    "plt.figure(figsize=(12,8))\n",
    "sns.heatmap(corr, annot=True, annot_kws={\"size\":10},linewidth=2, linecolor=\"black\",square=True)\n",
    "plt.show()"
   ]
  },
  {
   "cell_type": "markdown",
   "id": "5707afda",
   "metadata": {},
   "source": [
    "# from above we can see that calcium and Refractive index have very high correlation where as barrium and Ri have also very less corrrelation\n",
    "\n",
    "# we cam also that Aluminium have very high coorelation with Type"
   ]
  },
  {
   "cell_type": "code",
   "execution_count": 89,
   "id": "ef54a00d",
   "metadata": {},
   "outputs": [
    {
     "data": {
      "image/png": "[encoded data removed]",
      "text/plain": [
       "<Figure size 1440x1800 with 10 Axes>"
      ]
     },
     "metadata": {
      "needs_background": "light"
     },
     "output_type": "display_data"
    }
   ],
   "source": [
    "# let;s check skweness in the dataset \n",
    "plt.figure(figsize=(20,25))\n",
    "column=1\n",
    "for columns in glass:\n",
    "    if column <=10:\n",
    "        plt.subplot(4,4,column)\n",
    "        ax=sns.distplot(glass[columns])\n",
    "        plt.xlabel(columns,fontsize=15)\n",
    "    column+=1\n",
    "plt.show()\n"
   ]
  },
  {
   "cell_type": "markdown",
   "id": "fa5fea21",
   "metadata": {},
   "source": [
    "As we can see that there is almost no skweness in many column but few column is may have skweness let's check it "
   ]
  },
  {
   "cell_type": "code",
   "execution_count": 90,
   "id": "be6bf568",
   "metadata": {},
   "outputs": [
    {
     "data": {
      "text/plain": [
       "RI               1.625431\n",
       "Na               0.454181\n",
       "Mg              -1.152559\n",
       "Al               0.907290\n",
       "Si              -0.730447\n",
       "K                6.551648\n",
       "Ca               2.047054\n",
       "Ba               3.416425\n",
       "Fe               1.754327\n",
       "type_of_glass   -1.237086\n",
       "dtype: float64"
      ]
     },
     "execution_count": 90,
     "metadata": {},
     "output_type": "execute_result"
    }
   ],
   "source": [
    "glass.skew()"
   ]
  },
  {
   "cell_type": "markdown",
   "id": "2af492e6",
   "metadata": {},
   "source": [
    "if we consider the range(-5 to 5) we can see that pottasium have skweness as well as visually we can confirm it "
   ]
  },
  {
   "cell_type": "code",
   "execution_count": 91,
   "id": "a02dbc19",
   "metadata": {},
   "outputs": [],
   "source": [
    "glass=np.sqrt(glass)"
   ]
  },
  {
   "cell_type": "code",
   "execution_count": 92,
   "id": "528eae46",
   "metadata": {},
   "outputs": [
    {
     "data": {
      "image/png": "[encoded data removed]",
      "text/plain": [
       "<Figure size 1440x1800 with 10 Axes>"
      ]
     },
     "metadata": {
      "needs_background": "light"
     },
     "output_type": "display_data"
    }
   ],
   "source": [
    "plt.figure(figsize=(20,25))\n",
    "column=1\n",
    "for columns in glass:\n",
    "    if column <=10:\n",
    "        plt.subplot(4,4,column)\n",
    "        ax=sns.distplot(glass[columns])\n",
    "        plt.xlabel(columns,fontsize=15)\n",
    "    column+=1\n",
    "plt.show()"
   ]
  },
  {
   "cell_type": "code",
   "execution_count": 93,
   "id": "218e4120",
   "metadata": {},
   "outputs": [
    {
     "data": {
      "text/plain": [
       "RI               1.619143\n",
       "Na               0.242897\n",
       "Mg              -1.365097\n",
       "Al               0.092350\n",
       "Si              -0.765323\n",
       "K                0.871221\n",
       "Ca               1.572031\n",
       "Ba               2.377201\n",
       "Fe               1.053218\n",
       "type_of_glass   -1.237086\n",
       "dtype: float64"
      ]
     },
     "execution_count": 93,
     "metadata": {},
     "output_type": "execute_result"
    }
   ],
   "source": [
    "glass.skew()"
   ]
  },
  {
   "cell_type": "markdown",
   "id": "9193a88d",
   "metadata": {},
   "source": [
    "As we can see Skweness are removed and now we can check outliers and remove it "
   ]
  },
  {
   "cell_type": "code",
   "execution_count": 94,
   "id": "25f645fe",
   "metadata": {},
   "outputs": [
    {
     "data": {
      "image/png": "[encoded data removed]",
      "text/plain": [
       "<Figure size 576x432 with 9 Axes>"
      ]
     },
     "metadata": {
      "needs_background": "light"
     },
     "output_type": "display_data"
    }
   ],
   "source": [
    "# let's check outliers of the glass dataset\n",
    "plt.figure(figsize=(8,6))\n",
    "plotnumber=1\n",
    "for i in glass:\n",
    "    if plotnumber<=9:\n",
    "            ax=plt.subplot(3,3,plotnumber)\n",
    "            sns.boxplot(glass[i])\n",
    "            plt.xlabel(i,fontsize=15)\n",
    "            plt.yticks(rotation =0,fontsize=10)\n",
    "    plotnumber+=1\n",
    "plt.tight_layout()"
   ]
  },
  {
   "cell_type": "markdown",
   "id": "a040ceaf",
   "metadata": {},
   "source": [
    "As we can see that there are many outliers which are have lower as well as higher let's try to reduce it "
   ]
  },
  {
   "cell_type": "code",
   "execution_count": 87,
   "id": "a92cc837",
   "metadata": {},
   "outputs": [
    {
     "name": "stdout",
     "output_type": "stream",
     "text": [
      "           RI        Na        Mg        Al        Si         K        Ca  \\\n",
      "47   1.235585  3.740321  1.923538  0.842615  8.459905  0.141421  3.133688   \n",
      "50   1.234180  3.704052  1.928730  0.714143  8.470537  0.300000  3.171750   \n",
      "56   1.229695  3.604164  1.862794  1.058301  8.542833  0.787401  2.889637   \n",
      "103  1.235820  3.714835  1.774824  0.812404  8.400595  0.282843  3.411744   \n",
      "104  1.234544  3.718871  1.702939  1.081665  8.435046  0.282843  3.284814   \n",
      "105  1.234808  3.383785  0.000000  1.371131  8.496470  0.900000  3.638681   \n",
      "106  1.237437  3.275668  0.000000  1.449138  8.355238  0.761577  3.646917   \n",
      "107  1.238519  3.507136  0.000000  1.000000  8.376157  0.346410  4.023680   \n",
      "110  1.235573  3.351119  0.000000  0.877496  8.556284  0.000000  3.831449   \n",
      "111  1.235876  3.319639  0.000000  0.866025  8.548684  0.000000  3.867816   \n",
      "112  1.236030  3.555278  0.000000  0.818535  8.486460  0.244949  3.794733   \n",
      "131  1.235370  3.701351  0.000000  1.166190  8.440379  0.435890  3.666061   \n",
      "170  1.234378  3.666061  0.000000  1.256981  8.498235  0.565685  3.498571   \n",
      "184  1.229288  4.168933  0.000000  0.583095  8.683893  0.000000  2.578759   \n",
      "185  1.229353  3.700000  1.788854  1.345362  8.532878  1.326650  2.330236   \n",
      "187  1.234160  3.666061  1.827567  1.109054  8.507644  0.774597  2.971532   \n",
      "189  1.234362  3.973663  1.352775  1.144552  8.392258  0.556776  2.934280   \n",
      "\n",
      "           Ba        Fe  type_of_glass  \n",
      "47   0.000000  0.316228            1.0  \n",
      "50   0.000000  0.400000            1.0  \n",
      "56   0.000000  0.556776            1.0  \n",
      "103  0.000000  0.000000            1.0  \n",
      "104  0.000000  0.000000            1.0  \n",
      "105  0.000000  0.583095            1.0  \n",
      "106  1.774824  0.529150            1.0  \n",
      "107  0.000000  0.489898            1.0  \n",
      "110  0.000000  0.000000            1.0  \n",
      "111  0.000000  0.000000            1.0  \n",
      "112  0.000000  0.000000            1.0  \n",
      "131  0.000000  0.316228            1.0  \n",
      "170  0.000000  0.000000            0.0  \n",
      "184  0.000000  0.000000            0.0  \n",
      "185  1.090871  0.000000            0.0  \n",
      "187  0.000000  0.000000            0.0  \n",
      "189  1.296148  0.000000            0.0  \n",
      "           RI        Na        Mg        Al        Si         K        Ca  \\\n",
      "105  1.234808  3.383785  0.000000  1.371131  8.496470  0.900000  3.638681   \n",
      "106  1.237437  3.275668  0.000000  1.449138  8.355238  0.761577  3.646917   \n",
      "110  1.235573  3.351119  0.000000  0.877496  8.556284  0.000000  3.831449   \n",
      "111  1.235876  3.319639  0.000000  0.866025  8.548684  0.000000  3.867816   \n",
      "165  1.233576  3.400000  1.371131  1.249000  8.535807  0.685565  3.377869   \n",
      "166  1.233495  3.321144  1.307670  1.249000  8.569714  0.761577  3.408812   \n",
      "184  1.229288  4.168933  0.000000  0.583095  8.683893  0.000000  2.578759   \n",
      "189  1.234362  3.973663  1.352775  1.144552  8.392258  0.556776  2.934280   \n",
      "\n",
      "           Ba        Fe  type_of_glass  \n",
      "105  0.000000  0.583095            1.0  \n",
      "106  1.774824  0.529150            1.0  \n",
      "110  0.000000  0.000000            1.0  \n",
      "111  0.000000  0.000000            1.0  \n",
      "165  0.000000  0.000000            0.0  \n",
      "166  0.000000  0.000000            0.0  \n",
      "184  0.000000  0.000000            0.0  \n",
      "189  1.296148  0.000000            0.0  \n",
      "           RI        Na        Mg        Al        Si         K        Ca  \\\n",
      "105  1.234808  3.383785  0.000000  1.371131  8.496470  0.900000  3.638681   \n",
      "106  1.237437  3.275668  0.000000  1.449138  8.355238  0.761577  3.646917   \n",
      "107  1.238519  3.507136  0.000000  1.000000  8.376157  0.346410  4.023680   \n",
      "108  1.233783  3.798684  0.000000  1.000000  8.524670  0.316228  3.394113   \n",
      "109  1.232144  3.704052  0.000000  0.748331  8.628441  0.000000  3.315117   \n",
      "110  1.235573  3.351119  0.000000  0.877496  8.556284  0.000000  3.831449   \n",
      "111  1.235876  3.319639  0.000000  0.866025  8.548684  0.000000  3.867816   \n",
      "112  1.236030  3.555278  0.000000  0.818535  8.486460  0.244949  3.794733   \n",
      "131  1.235370  3.701351  0.000000  1.166190  8.440379  0.435890  3.666061   \n",
      "167  1.232757  3.555278  0.000000  1.284523  8.587782  0.616441  3.395585   \n",
      "168  1.231528  3.586084  0.000000  1.352775  8.595348  0.984886  3.189044   \n",
      "169  1.232858  3.642801  0.000000  1.326650  8.545759  0.685565  3.364521   \n",
      "170  1.234378  3.666061  0.000000  1.256981  8.498235  0.565685  3.498571   \n",
      "171  1.230106  3.608324  0.000000  1.743560  8.395237  2.491987  2.638181   \n",
      "172  1.230126  3.605551  0.000000  1.737815  8.408329  2.491987  2.632489   \n",
      "173  1.233057  3.657868  0.000000  1.183216  8.500000  0.574456  3.535534   \n",
      "175  1.233365  3.601389  0.574456  1.228821  8.566796  0.360555  3.357082   \n",
      "182  1.232542  3.761649  0.000000  1.445683  8.528775  0.000000  3.298485   \n",
      "183  1.232757  3.815757  0.000000  0.748331  8.572048  0.000000  3.349627   \n",
      "184  1.229288  4.168933  0.000000  0.583095  8.683893  0.000000  2.578759   \n",
      "191  1.231268  3.853570  0.000000  1.542725  8.560374  0.000000  2.959730   \n",
      "192  1.231353  3.768289  0.000000  1.670329  8.570881  0.200000  3.006659   \n",
      "193  1.231743  3.840573  0.000000  1.414214  8.545174  0.000000  2.920616   \n",
      "194  1.231597  3.815757  0.000000  1.407125  8.560958  0.000000  2.918904   \n",
      "195  1.231036  3.760319  0.000000  1.637071  8.566796  0.282843  3.011644   \n",
      "196  1.231081  3.724245  0.000000  1.593738  8.557453  0.374166  3.067572   \n",
      "197  1.231775  3.834058  0.000000  1.529706  8.560374  0.000000  2.991655   \n",
      "198  1.230979  3.792097  0.000000  1.630951  8.549854  0.200000  3.013304   \n",
      "199  1.231296  3.874274  0.000000  1.584298  8.546929  0.223607  2.971532   \n",
      "200  1.230886  3.892300  0.000000  1.500000  8.573214  0.000000  2.887906   \n",
      "201  1.231475  3.456877  0.000000  1.090871  8.670640  1.643168  2.988311   \n",
      "202  1.230910  3.853570  0.000000  1.555635  8.586035  0.000000  2.896550   \n",
      "203  1.231495  3.847077  0.000000  1.410674  8.550439  0.000000  2.877499   \n",
      "204  1.231329  3.866523  0.000000  1.506652  8.561542  0.000000  2.951271   \n",
      "205  1.231795  3.866523  0.000000  1.341641  8.543419  0.000000  2.934280   \n",
      "206  1.231442  3.865230  0.000000  1.367479  8.550439  0.000000  2.944486   \n",
      "207  1.232197  3.793415  0.000000  1.349074  8.535807  1.187434  2.543619   \n",
      "208  1.231422  3.790778  0.000000  1.655295  8.535221  0.000000  3.074085   \n",
      "209  1.231353  3.760319  0.000000  1.697056  8.521150  0.282843  3.029851   \n",
      "210  1.231605  3.862642  0.000000  1.410674  8.547514  0.000000  2.898275   \n",
      "211  1.233146  3.789459  0.000000  1.421267  8.568547  0.000000  2.905168   \n",
      "212  1.231467  3.792097  0.000000  1.392839  8.579627  0.000000  2.912044   \n",
      "213  1.231710  3.772267  0.000000  1.442221  8.565045  0.000000  2.935984   \n",
      "\n",
      "           Ba        Fe  type_of_glass  \n",
      "105  0.000000  0.583095            1.0  \n",
      "106  1.774824  0.529150            1.0  \n",
      "107  0.000000  0.489898            1.0  \n",
      "108  0.000000  0.282843            1.0  \n",
      "109  0.000000  0.000000            1.0  \n",
      "110  0.000000  0.000000            1.0  \n",
      "111  0.000000  0.000000            1.0  \n",
      "112  0.000000  0.000000            1.0  \n",
      "131  0.000000  0.316228            1.0  \n",
      "167  0.000000  0.000000            0.0  \n",
      "168  0.000000  0.000000            0.0  \n",
      "169  0.000000  0.000000            0.0  \n",
      "170  0.000000  0.000000            0.0  \n",
      "171  0.000000  0.000000            0.0  \n",
      "172  0.000000  0.000000            0.0  \n",
      "173  0.000000  0.000000            0.0  \n",
      "175  0.000000  0.529150            0.0  \n",
      "182  0.000000  0.000000            0.0  \n",
      "183  0.000000  0.000000            0.0  \n",
      "184  0.000000  0.000000            0.0  \n",
      "191  0.800000  0.300000            0.0  \n",
      "192  0.632456  0.300000            0.0  \n",
      "193  1.260952  0.282843            0.0  \n",
      "194  1.252996  0.264575            0.0  \n",
      "195  0.781025  0.223607            0.0  \n",
      "196  0.900000  0.100000            0.0  \n",
      "197  0.812404  0.000000            0.0  \n",
      "198  0.800000  0.000000            0.0  \n",
      "199  0.728011  0.000000            0.0  \n",
      "200  0.793725  0.000000            0.0  \n",
      "201  0.000000  0.000000            0.0  \n",
      "202  0.748331  0.000000            0.0  \n",
      "203  1.307670  0.000000            0.0  \n",
      "204  0.818535  0.000000            0.0  \n",
      "205  1.244990  0.000000            0.0  \n",
      "206  1.174734  0.000000            0.0  \n",
      "207  1.697056  0.000000            0.0  \n",
      "208  0.734847  0.000000            0.0  \n",
      "209  1.029563  0.000000            0.0  \n",
      "210  1.260952  0.000000            0.0  \n",
      "211  1.280625  0.000000            0.0  \n",
      "212  1.252996  0.000000            0.0  \n",
      "213  1.292285  0.000000            0.0  \n",
      "           RI        Na        Mg        Al        Si         K        Ca  \\\n",
      "21   1.232745  3.843176  1.936492  0.538516  8.486460  0.173205  3.000000   \n",
      "38   1.233746  3.769615  1.954482  0.685565  8.471718  0.331662  3.093542   \n",
      "39   1.233746  3.769615  1.954482  0.685565  8.471718  0.331662  3.093542   \n",
      "50   1.234180  3.704052  1.928730  0.714143  8.470537  0.300000  3.171750   \n",
      "109  1.232144  3.704052  0.000000  0.748331  8.628441  0.000000  3.315117   \n",
      "152  1.231986  3.693237  1.910497  0.806226  8.544004  0.244949  2.988311   \n",
      "157  1.233373  3.745664  1.939072  0.761577  8.472898  0.331662  3.106445   \n",
      "163  1.230910  3.742993  1.637071  1.870829  8.360024  1.296148  2.422808   \n",
      "171  1.230106  3.608324  0.000000  1.743560  8.395237  2.491987  2.638181   \n",
      "172  1.230126  3.605551  0.000000  1.737815  8.408329  2.491987  2.632489   \n",
      "183  1.232757  3.815757  0.000000  0.748331  8.572048  0.000000  3.349627   \n",
      "184  1.229288  4.168933  0.000000  0.583095  8.683893  0.000000  2.578759   \n",
      "192  1.231353  3.768289  0.000000  1.670329  8.570881  0.200000  3.006659   \n",
      "195  1.231036  3.760319  0.000000  1.637071  8.566796  0.282843  3.011644   \n",
      "196  1.231081  3.724245  0.000000  1.593738  8.557453  0.374166  3.067572   \n",
      "198  1.230979  3.792097  0.000000  1.630951  8.549854  0.200000  3.013304   \n",
      "199  1.231296  3.874274  0.000000  1.584298  8.546929  0.223607  2.971532   \n",
      "202  1.230910  3.853570  0.000000  1.555635  8.586035  0.000000  2.896550   \n",
      "208  1.231422  3.790778  0.000000  1.655295  8.535221  0.000000  3.074085   \n",
      "209  1.231353  3.760319  0.000000  1.697056  8.521150  0.282843  3.029851   \n",
      "\n",
      "           Ba        Fe  type_of_glass  \n",
      "21   0.000000  0.000000            1.0  \n",
      "38   0.000000  0.000000            1.0  \n",
      "39   0.000000  0.000000            1.0  \n",
      "50   0.000000  0.400000            1.0  \n",
      "109  0.000000  0.000000            1.0  \n",
      "152  0.000000  0.000000            1.0  \n",
      "157  0.000000  0.000000            1.0  \n",
      "163  1.483240  0.000000            0.0  \n",
      "171  0.000000  0.000000            0.0  \n",
      "172  0.000000  0.000000            0.0  \n",
      "183  0.000000  0.000000            0.0  \n",
      "184  0.000000  0.000000            0.0  \n",
      "192  0.632456  0.300000            0.0  \n",
      "195  0.781025  0.223607            0.0  \n",
      "196  0.900000  0.100000            0.0  \n",
      "198  0.800000  0.000000            0.0  \n",
      "199  0.728011  0.000000            0.0  \n",
      "202  0.748331  0.000000            0.0  \n",
      "208  0.734847  0.000000            0.0  \n",
      "209  1.029563  0.000000            0.0  \n",
      "           RI        Na        Mg        Al        Si         K        Ca  \\\n",
      "103  1.235820  3.714835  1.774824  0.812404  8.400595  0.282843  3.411744   \n",
      "106  1.237437  3.275668  0.000000  1.449138  8.355238  0.761577  3.646917   \n",
      "107  1.238519  3.507136  0.000000  1.000000  8.376157  0.346410  4.023680   \n",
      "109  1.232144  3.704052  0.000000  0.748331  8.628441  0.000000  3.315117   \n",
      "163  1.230910  3.742993  1.637071  1.870829  8.360024  1.296148  2.422808   \n",
      "171  1.230106  3.608324  0.000000  1.743560  8.395237  2.491987  2.638181   \n",
      "172  1.230126  3.605551  0.000000  1.737815  8.408329  2.491987  2.632489   \n",
      "180  1.230037  3.794733  1.319091  1.240967  8.634234  0.000000  2.754995   \n",
      "184  1.229288  4.168933  0.000000  0.583095  8.683893  0.000000  2.578759   \n",
      "188  1.233884  3.854867  1.483240  1.435270  8.382124  0.871780  3.124100   \n",
      "189  1.234362  3.973663  1.352775  1.144552  8.392258  0.556776  2.934280   \n",
      "201  1.231475  3.456877  0.000000  1.090871  8.670640  1.643168  2.988311   \n",
      "\n",
      "           Ba        Fe  type_of_glass  \n",
      "103  0.000000  0.000000            1.0  \n",
      "106  1.774824  0.529150            1.0  \n",
      "107  0.000000  0.489898            1.0  \n",
      "109  0.000000  0.000000            1.0  \n",
      "163  1.483240  0.000000            0.0  \n",
      "171  0.000000  0.000000            0.0  \n",
      "172  0.000000  0.000000            0.0  \n",
      "180  0.000000  0.000000            0.0  \n",
      "184  0.000000  0.000000            0.0  \n",
      "188  0.000000  0.000000            0.0  \n",
      "189  1.296148  0.000000            0.0  \n",
      "201  0.000000  0.000000            0.0  \n",
      "           RI        Na   Mg        Al        Si         K        Ca   Ba  \\\n",
      "171  1.230106  3.608324  0.0  1.743560  8.395237  2.491987  2.638181  0.0   \n",
      "172  1.230126  3.605551  0.0  1.737815  8.408329  2.491987  2.632489  0.0   \n",
      "201  1.231475  3.456877  0.0  1.090871  8.670640  1.643168  2.988311  0.0   \n",
      "\n",
      "      Fe  type_of_glass  \n",
      "171  0.0            0.0  \n",
      "172  0.0            0.0  \n",
      "201  0.0            0.0  \n",
      "           RI        Na        Mg        Al        Si         K        Ca  \\\n",
      "103  1.235820  3.714835  1.774824  0.812404  8.400595  0.282843  3.411744   \n",
      "104  1.234544  3.718871  1.702939  1.081665  8.435046  0.282843  3.284814   \n",
      "105  1.234808  3.383785  0.000000  1.371131  8.496470  0.900000  3.638681   \n",
      "106  1.237437  3.275668  0.000000  1.449138  8.355238  0.761577  3.646917   \n",
      "107  1.238519  3.507136  0.000000  1.000000  8.376157  0.346410  4.023680   \n",
      "108  1.233783  3.798684  0.000000  1.000000  8.524670  0.316228  3.394113   \n",
      "109  1.232144  3.704052  0.000000  0.748331  8.628441  0.000000  3.315117   \n",
      "110  1.235573  3.351119  0.000000  0.877496  8.556284  0.000000  3.831449   \n",
      "111  1.235876  3.319639  0.000000  0.866025  8.548684  0.000000  3.867816   \n",
      "112  1.236030  3.555278  0.000000  0.818535  8.486460  0.244949  3.794733   \n",
      "130  1.233600  3.708099  1.004988  1.166190  8.496470  0.574456  3.337664   \n",
      "131  1.235370  3.701351  0.000000  1.166190  8.440379  0.435890  3.666061   \n",
      "163  1.230910  3.742993  1.637071  1.870829  8.360024  1.296148  2.422808   \n",
      "165  1.233576  3.400000  1.371131  1.249000  8.535807  0.685565  3.377869   \n",
      "166  1.233495  3.321144  1.307670  1.249000  8.569714  0.761577  3.408812   \n",
      "167  1.232757  3.555278  0.000000  1.284523  8.587782  0.616441  3.395585   \n",
      "169  1.232858  3.642801  0.000000  1.326650  8.545759  0.685565  3.364521   \n",
      "170  1.234378  3.666061  0.000000  1.256981  8.498235  0.565685  3.498571   \n",
      "172  1.230126  3.605551  0.000000  1.737815  8.408329  2.491987  2.632489   \n",
      "173  1.233057  3.657868  0.000000  1.183216  8.500000  0.574456  3.535534   \n",
      "175  1.233365  3.601389  0.574456  1.228821  8.566796  0.360555  3.357082   \n",
      "182  1.232542  3.761649  0.000000  1.445683  8.528775  0.000000  3.298485   \n",
      "183  1.232757  3.815757  0.000000  0.748331  8.572048  0.000000  3.349627   \n",
      "184  1.229288  4.168933  0.000000  0.583095  8.683893  0.000000  2.578759   \n",
      "185  1.229353  3.700000  1.788854  1.345362  8.532878  1.326650  2.330236   \n",
      "186  1.232226  3.784178  1.805547  1.489966  8.440972  1.208305  2.406242   \n",
      "207  1.232197  3.793415  0.000000  1.349074  8.535807  1.187434  2.543619   \n",
      "\n",
      "           Ba        Fe  type_of_glass  \n",
      "103  0.000000  0.000000            1.0  \n",
      "104  0.000000  0.000000            1.0  \n",
      "105  0.000000  0.583095            1.0  \n",
      "106  1.774824  0.529150            1.0  \n",
      "107  0.000000  0.489898            1.0  \n",
      "108  0.000000  0.282843            1.0  \n",
      "109  0.000000  0.000000            1.0  \n",
      "110  0.000000  0.000000            1.0  \n",
      "111  0.000000  0.000000            1.0  \n",
      "112  0.000000  0.000000            1.0  \n",
      "130  0.000000  0.000000            1.0  \n",
      "131  0.000000  0.316228            1.0  \n",
      "163  1.483240  0.000000            0.0  \n",
      "165  0.000000  0.000000            0.0  \n",
      "166  0.000000  0.000000            0.0  \n",
      "167  0.000000  0.000000            0.0  \n",
      "169  0.000000  0.000000            0.0  \n",
      "170  0.000000  0.000000            0.0  \n",
      "172  0.000000  0.000000            0.0  \n",
      "173  0.000000  0.000000            0.0  \n",
      "175  0.000000  0.529150            0.0  \n",
      "182  0.000000  0.000000            0.0  \n",
      "183  0.000000  0.000000            0.0  \n",
      "184  0.000000  0.000000            0.0  \n",
      "185  1.090871  0.000000            0.0  \n",
      "186  1.276715  0.000000            0.0  \n",
      "207  1.697056  0.000000            0.0  \n",
      "           RI        Na        Mg        Al        Si         K        Ca  \\\n",
      "32   1.231970  3.584690  1.865476  1.109054  8.542248  0.781025  2.925748   \n",
      "36   1.232514  3.726929  1.878829  1.148913  8.474078  0.714143  2.963106   \n",
      "61   1.232790  3.716181  1.892089  1.148913  8.468766  0.346410  2.944486   \n",
      "99   1.232116  3.600000  1.720465  1.195826  8.539321  0.774597  2.964793   \n",
      "100  1.231483  3.570714  1.688194  1.200000  8.559790  0.754983  2.964793   \n",
      "106  1.237437  3.275668  0.000000  1.449138  8.355238  0.761577  3.646917   \n",
      "128  1.233159  3.681032  1.445683  1.292285  8.495881  0.728011  3.093542   \n",
      "141  1.232278  3.633180  1.905256  1.034408  8.534049  0.754983  2.900000   \n",
      "142  1.231511  3.584690  1.873499  1.200000  8.544589  0.824621  2.868798   \n",
      "161  1.232615  3.693237  1.881489  0.866025  8.523497  0.400000  2.981610   \n",
      "163  1.230910  3.742993  1.637071  1.870829  8.360024  1.296148  2.422808   \n",
      "174  1.233118  3.584690  1.268858  1.473092  8.495881  0.871780  3.114482   \n",
      "185  1.229353  3.700000  1.788854  1.345362  8.532878  1.326650  2.330236   \n",
      "186  1.232226  3.784178  1.805547  1.489966  8.440972  1.208305  2.406242   \n",
      "189  1.234362  3.973663  1.352775  1.144552  8.392258  0.556776  2.934280   \n",
      "190  1.231312  3.725587  1.334166  1.337909  8.549854  0.000000  2.944486   \n",
      "191  1.231268  3.853570  0.000000  1.542725  8.560374  0.000000  2.959730   \n",
      "192  1.231353  3.768289  0.000000  1.670329  8.570881  0.200000  3.006659   \n",
      "193  1.231743  3.840573  0.000000  1.414214  8.545174  0.000000  2.920616   \n",
      "194  1.231597  3.815757  0.000000  1.407125  8.560958  0.000000  2.918904   \n",
      "195  1.231036  3.760319  0.000000  1.637071  8.566796  0.282843  3.011644   \n",
      "196  1.231081  3.724245  0.000000  1.593738  8.557453  0.374166  3.067572   \n",
      "197  1.231775  3.834058  0.000000  1.529706  8.560374  0.000000  2.991655   \n",
      "198  1.230979  3.792097  0.000000  1.630951  8.549854  0.200000  3.013304   \n",
      "199  1.231296  3.874274  0.000000  1.584298  8.546929  0.223607  2.971532   \n",
      "200  1.230886  3.892300  0.000000  1.500000  8.573214  0.000000  2.887906   \n",
      "202  1.230910  3.853570  0.000000  1.555635  8.586035  0.000000  2.896550   \n",
      "203  1.231495  3.847077  0.000000  1.410674  8.550439  0.000000  2.877499   \n",
      "204  1.231329  3.866523  0.000000  1.506652  8.561542  0.000000  2.951271   \n",
      "205  1.231795  3.866523  0.000000  1.341641  8.543419  0.000000  2.934280   \n",
      "206  1.231442  3.865230  0.000000  1.367479  8.550439  0.000000  2.944486   \n",
      "207  1.232197  3.793415  0.000000  1.349074  8.535807  1.187434  2.543619   \n",
      "208  1.231422  3.790778  0.000000  1.655295  8.535221  0.000000  3.074085   \n",
      "209  1.231353  3.760319  0.000000  1.697056  8.521150  0.282843  3.029851   \n",
      "210  1.231605  3.862642  0.000000  1.410674  8.547514  0.000000  2.898275   \n",
      "211  1.233146  3.789459  0.000000  1.421267  8.568547  0.000000  2.905168   \n",
      "212  1.231467  3.792097  0.000000  1.392839  8.579627  0.000000  2.912044   \n",
      "213  1.231710  3.772267  0.000000  1.442221  8.565045  0.000000  2.935984   \n",
      "\n",
      "           Ba        Fe  type_of_glass  \n",
      "32   0.300000  0.469042            1.0  \n",
      "36   0.331662  0.000000            1.0  \n",
      "61   0.830662  0.000000            1.0  \n",
      "99   0.374166  0.000000            1.0  \n",
      "100  0.331662  0.469042            1.0  \n",
      "106  1.774824  0.529150            1.0  \n",
      "128  0.519615  0.412311            1.0  \n",
      "141  0.300000  0.412311            1.0  \n",
      "142  0.244949  0.500000            1.0  \n",
      "161  0.387298  0.489898            1.0  \n",
      "163  1.483240  0.000000            0.0  \n",
      "174  0.489898  0.714143            0.0  \n",
      "185  1.090871  0.000000            0.0  \n",
      "186  1.276715  0.000000            0.0  \n",
      "189  1.296148  0.000000            0.0  \n",
      "190  0.871780  0.000000            0.0  \n",
      "191  0.800000  0.300000            0.0  \n",
      "192  0.632456  0.300000            0.0  \n",
      "193  1.260952  0.282843            0.0  \n",
      "194  1.252996  0.264575            0.0  \n",
      "195  0.781025  0.223607            0.0  \n",
      "196  0.900000  0.100000            0.0  \n",
      "197  0.812404  0.000000            0.0  \n",
      "198  0.800000  0.000000            0.0  \n",
      "199  0.728011  0.000000            0.0  \n",
      "200  0.793725  0.000000            0.0  \n",
      "202  0.748331  0.000000            0.0  \n",
      "203  1.307670  0.000000            0.0  \n",
      "204  0.818535  0.000000            0.0  \n",
      "205  1.244990  0.000000            0.0  \n",
      "206  1.174734  0.000000            0.0  \n",
      "207  1.697056  0.000000            0.0  \n",
      "208  0.734847  0.000000            0.0  \n",
      "209  1.029563  0.000000            0.0  \n",
      "210  1.260952  0.000000            0.0  \n",
      "211  1.280625  0.000000            0.0  \n",
      "212  1.252996  0.000000            0.0  \n",
      "213  1.292285  0.000000            0.0  \n",
      "Empty DataFrame\n",
      "Columns: [RI, Na, Mg, Al, Si, K, Ca, Ba, Fe, type_of_glass]\n",
      "Index: []\n"
     ]
    },
    {
     "ename": "KeyError",
     "evalue": "'Type'",
     "output_type": "error",
     "traceback": [
      "\u001b[1;31m---------------------------------------------------------------------------\u001b[0m",
      "\u001b[1;31mKeyError\u001b[0m                                  Traceback (most recent call last)",
      "File \u001b[1;32mC:\\ProgramData\\Anaconda3\\lib\\site-packages\\pandas\\core\\indexes\\base.py:3621\u001b[0m, in \u001b[0;36mIndex.get_loc\u001b[1;34m(self, key, method, tolerance)\u001b[0m\n\u001b[0;32m   3620\u001b[0m \u001b[38;5;28;01mtry\u001b[39;00m:\n\u001b[1;32m-> 3621\u001b[0m     \u001b[38;5;28;01mreturn\u001b[39;00m \u001b[38;5;28;43mself\u001b[39;49m\u001b[38;5;241;43m.\u001b[39;49m\u001b[43m_engine\u001b[49m\u001b[38;5;241;43m.\u001b[39;49m\u001b[43mget_loc\u001b[49m\u001b[43m(\u001b[49m\u001b[43mcasted_key\u001b[49m\u001b[43m)\u001b[49m\n\u001b[0;32m   3622\u001b[0m \u001b[38;5;28;01mexcept\u001b[39;00m \u001b[38;5;167;01mKeyError\u001b[39;00m \u001b[38;5;28;01mas\u001b[39;00m err:\n",
      "File \u001b[1;32mC:\\ProgramData\\Anaconda3\\lib\\site-packages\\pandas\\_libs\\index.pyx:136\u001b[0m, in \u001b[0;36mpandas._libs.index.IndexEngine.get_loc\u001b[1;34m()\u001b[0m\n",
      "File \u001b[1;32mC:\\ProgramData\\Anaconda3\\lib\\site-packages\\pandas\\_libs\\index.pyx:163\u001b[0m, in \u001b[0;36mpandas._libs.index.IndexEngine.get_loc\u001b[1;34m()\u001b[0m\n",
      "File \u001b[1;32mpandas\\_libs\\hashtable_class_helper.pxi:5198\u001b[0m, in \u001b[0;36mpandas._libs.hashtable.PyObjectHashTable.get_item\u001b[1;34m()\u001b[0m\n",
      "File \u001b[1;32mpandas\\_libs\\hashtable_class_helper.pxi:5206\u001b[0m, in \u001b[0;36mpandas._libs.hashtable.PyObjectHashTable.get_item\u001b[1;34m()\u001b[0m\n",
      "\u001b[1;31mKeyError\u001b[0m: 'Type'",
      "\nThe above exception was the direct cause of the following exception:\n",
      "\u001b[1;31mKeyError\u001b[0m                                  Traceback (most recent call last)",
      "Input \u001b[1;32mIn [87]\u001b[0m, in \u001b[0;36m<cell line: 1>\u001b[1;34m()\u001b[0m\n\u001b[0;32m      1\u001b[0m \u001b[38;5;28;01mfor\u001b[39;00m i \u001b[38;5;129;01min\u001b[39;00m column_name:\n\u001b[1;32m----> 2\u001b[0m     Q1 \u001b[38;5;241m=\u001b[39m \u001b[43mglass\u001b[49m\u001b[43m[\u001b[49m\u001b[43mi\u001b[49m\u001b[43m]\u001b[49m\u001b[38;5;241m.\u001b[39mquantile(\u001b[38;5;241m0.25\u001b[39m)\n\u001b[0;32m      3\u001b[0m     Q3\u001b[38;5;241m=\u001b[39m glass[i]\u001b[38;5;241m.\u001b[39mquantile(\u001b[38;5;241m0.75\u001b[39m)\n\u001b[0;32m      4\u001b[0m     IQR \u001b[38;5;241m=\u001b[39m Q3 \u001b[38;5;241m-\u001b[39m Q1\n",
      "File \u001b[1;32mC:\\ProgramData\\Anaconda3\\lib\\site-packages\\pandas\\core\\frame.py:3505\u001b[0m, in \u001b[0;36mDataFrame.__getitem__\u001b[1;34m(self, key)\u001b[0m\n\u001b[0;32m   3503\u001b[0m \u001b[38;5;28;01mif\u001b[39;00m \u001b[38;5;28mself\u001b[39m\u001b[38;5;241m.\u001b[39mcolumns\u001b[38;5;241m.\u001b[39mnlevels \u001b[38;5;241m>\u001b[39m \u001b[38;5;241m1\u001b[39m:\n\u001b[0;32m   3504\u001b[0m     \u001b[38;5;28;01mreturn\u001b[39;00m \u001b[38;5;28mself\u001b[39m\u001b[38;5;241m.\u001b[39m_getitem_multilevel(key)\n\u001b[1;32m-> 3505\u001b[0m indexer \u001b[38;5;241m=\u001b[39m \u001b[38;5;28;43mself\u001b[39;49m\u001b[38;5;241;43m.\u001b[39;49m\u001b[43mcolumns\u001b[49m\u001b[38;5;241;43m.\u001b[39;49m\u001b[43mget_loc\u001b[49m\u001b[43m(\u001b[49m\u001b[43mkey\u001b[49m\u001b[43m)\u001b[49m\n\u001b[0;32m   3506\u001b[0m \u001b[38;5;28;01mif\u001b[39;00m is_integer(indexer):\n\u001b[0;32m   3507\u001b[0m     indexer \u001b[38;5;241m=\u001b[39m [indexer]\n",
      "File \u001b[1;32mC:\\ProgramData\\Anaconda3\\lib\\site-packages\\pandas\\core\\indexes\\base.py:3623\u001b[0m, in \u001b[0;36mIndex.get_loc\u001b[1;34m(self, key, method, tolerance)\u001b[0m\n\u001b[0;32m   3621\u001b[0m     \u001b[38;5;28;01mreturn\u001b[39;00m \u001b[38;5;28mself\u001b[39m\u001b[38;5;241m.\u001b[39m_engine\u001b[38;5;241m.\u001b[39mget_loc(casted_key)\n\u001b[0;32m   3622\u001b[0m \u001b[38;5;28;01mexcept\u001b[39;00m \u001b[38;5;167;01mKeyError\u001b[39;00m \u001b[38;5;28;01mas\u001b[39;00m err:\n\u001b[1;32m-> 3623\u001b[0m     \u001b[38;5;28;01mraise\u001b[39;00m \u001b[38;5;167;01mKeyError\u001b[39;00m(key) \u001b[38;5;28;01mfrom\u001b[39;00m \u001b[38;5;21;01merr\u001b[39;00m\n\u001b[0;32m   3624\u001b[0m \u001b[38;5;28;01mexcept\u001b[39;00m \u001b[38;5;167;01mTypeError\u001b[39;00m:\n\u001b[0;32m   3625\u001b[0m     \u001b[38;5;66;03m# If we have a listlike key, _check_indexing_error will raise\u001b[39;00m\n\u001b[0;32m   3626\u001b[0m     \u001b[38;5;66;03m#  InvalidIndexError. Otherwise we fall through and re-raise\u001b[39;00m\n\u001b[0;32m   3627\u001b[0m     \u001b[38;5;66;03m#  the TypeError.\u001b[39;00m\n\u001b[0;32m   3628\u001b[0m     \u001b[38;5;28mself\u001b[39m\u001b[38;5;241m.\u001b[39m_check_indexing_error(key)\n",
      "\u001b[1;31mKeyError\u001b[0m: 'Type'"
     ]
    }
   ],
   "source": [
    "for i in column_name:\n",
    "    Q1 = glass[i].quantile(0.25)\n",
    "    Q3= glass[i].quantile(0.75)\n",
    "    IQR = Q3 - Q1\n",
    "    threshold=1.5\n",
    "    outliers = glass[(glass[i] < Q1 - threshold * IQR) | (glass[i] > Q3 + threshold * IQR)]\n",
    "    print(outliers)"
   ]
  },
  {
   "cell_type": "code",
   "execution_count": null,
   "id": "c1284cf2",
   "metadata": {},
   "outputs": [],
   "source": [
    "glass=glass.drop(outliers.index)"
   ]
  },
  {
   "cell_type": "markdown",
   "id": "d0285ccf",
   "metadata": {},
   "source": [
    "As you can see that we removed the outlier "
   ]
  },
  {
   "cell_type": "code",
   "execution_count": 95,
   "id": "1ee8dea1",
   "metadata": {},
   "outputs": [
    {
     "data": {
      "text/plain": [
       "1.0    163\n",
       "0.0     51\n",
       "Name: type_of_glass, dtype: int64"
      ]
     },
     "execution_count": 95,
     "metadata": {},
     "output_type": "execute_result"
    }
   ],
   "source": [
    "glass[\"type_of_glass\"].value_counts()"
   ]
  },
  {
   "cell_type": "markdown",
   "id": "d5ce60b6",
   "metadata": {},
   "source": [
    "As you can see that our label data is imbalanced we have to balance it let's do oversampling (SmMOTE methods to remove unbalanced dataset)"
   ]
  },
  {
   "cell_type": "code",
   "execution_count": 99,
   "id": "268da56c",
   "metadata": {},
   "outputs": [],
   "source": [
    "# lets do oversampling data using SMOTE\n",
    "from imblearn.over_sampling import SMOTE\n",
    "SM=SMOTE()\n",
    "x1,y1=SM.fit_resample(x_scaled,y)"
   ]
  },
  {
   "cell_type": "code",
   "execution_count": 100,
   "id": "335def59",
   "metadata": {},
   "outputs": [
    {
     "data": {
      "text/plain": [
       "1.0    163\n",
       "0.0    163\n",
       "Name: type_of_glass, dtype: int64"
      ]
     },
     "execution_count": 100,
     "metadata": {},
     "output_type": "execute_result"
    }
   ],
   "source": [
    "y1.value_counts()"
   ]
  },
  {
   "cell_type": "markdown",
   "id": "a73301e5",
   "metadata": {},
   "source": [
    "# as you can see that we have balanced our dataset"
   ]
  },
  {
   "cell_type": "code",
   "execution_count": 96,
   "id": "164eae7a",
   "metadata": {},
   "outputs": [],
   "source": [
    "# now let's seprate label and feature from the dataset\n",
    "x=glass.drop(\"type_of_glass\",axis=1)\n",
    "y=glass[\"type_of_glass\"]"
   ]
  },
  {
   "cell_type": "markdown",
   "id": "5f0df67f",
   "metadata": {},
   "source": [
    "#  Now we build our ML model "
   ]
  },
  {
   "cell_type": "code",
   "execution_count": 97,
   "id": "2a0c79ae",
   "metadata": {},
   "outputs": [],
   "source": [
    "# let's Normalize oiur data so it will give equal weightage using MinMaxScaler\n",
    "from sklearn.preprocessing import MinMaxScaler\n",
    "scaler=MinMaxScaler()\n",
    "x_scaled=scaler.fit_transform(x)"
   ]
  },
  {
   "cell_type": "code",
   "execution_count": 98,
   "id": "a42ee2e9",
   "metadata": {},
   "outputs": [
    {
     "data": {
      "text/plain": [
       "array([[0.43375453, 0.46746404, 1.        , ..., 0.37072611, 0.        ,\n",
       "        0.        ],\n",
       "       [0.28434325, 0.50518182, 0.89542266, ..., 0.27634673, 0.        ,\n",
       "        0.        ],\n",
       "       [0.22145263, 0.45075877, 0.8891827 , ..., 0.27106248, 0.        ,\n",
       "        0.        ],\n",
       "       ...,\n",
       "       [0.41794243, 0.57518349, 0.        , ..., 0.33950447, 0.72155036,\n",
       "        0.        ],\n",
       "       [0.23596848, 0.57813668, 0.        , ..., 0.34356493, 0.7059835 ,\n",
       "        0.        ],\n",
       "       [0.2623569 , 0.55593742, 0.        , ..., 0.35770162, 0.72812   ,\n",
       "        0.        ]])"
      ]
     },
     "execution_count": 98,
     "metadata": {},
     "output_type": "execute_result"
    }
   ],
   "source": [
    "x_scaled"
   ]
  },
  {
   "cell_type": "code",
   "execution_count": 118,
   "id": "733be01e",
   "metadata": {},
   "outputs": [],
   "source": [
    "from sklearn.linear_model import LogisticRegression\n",
    "from sklearn.ensemble import RandomForestClassifier\n",
    "from sklearn.svm import SVC\n",
    "from sklearn.neighbors import KNeighborsClassifier\n",
    "from sklearn.ensemble import AdaBoostClassifier,GradientBoostingClassifier\n",
    "from sklearn.tree import DecisionTreeClassifier\n",
    "from sklearn.metrics import classification_report,accuracy_score,confusion_matrix,roc_curve\n",
    "from sklearn.model_selection import cross_val_score"
   ]
  },
  {
   "cell_type": "markdown",
   "id": "6184f468",
   "metadata": {},
   "source": [
    "# Random Forest classifier"
   ]
  },
  {
   "cell_type": "code",
   "execution_count": 102,
   "id": "6106c083",
   "metadata": {},
   "outputs": [
    {
     "name": "stdout",
     "output_type": "stream",
     "text": [
      "Best Random State  : 27\n",
      " best_accuracy_score:-  100.0\n"
     ]
    }
   ],
   "source": [
    "def select_best_random_state(x1, y1):\n",
    "    best_random_state =0\n",
    "    best_accuracy_score =0\n",
    "\n",
    "    for random_state in range(1,300):\n",
    "        X_train, X_test, y_train, y_test = train_test_split(x1, y1, test_size=0.2, random_state=random_state)\n",
    "        RFR = RandomForestClassifier()\n",
    "        \n",
    "        RFR.fit(X_train, y_train)\n",
    "        y_pred = RFR.predict(X_test)\n",
    "        acc = accuracy_score(y_test, y_pred)\n",
    "        if acc > best_accuracy_score:\n",
    "            best_accuracy_score = acc\n",
    "            best_random_state = random_state\n",
    "\n",
    "    return best_random_state, best_accuracy_score \n",
    "\n",
    "\n",
    "best_random_state, best_accuracy_score= select_best_random_state(x1, y1)\n",
    "print(\"Best Random State  :\", best_random_state)\n",
    "print(\" best_accuracy_score:- \", best_accuracy_score*100)"
   ]
  },
  {
   "cell_type": "code",
   "execution_count": 103,
   "id": "e1d79c99",
   "metadata": {},
   "outputs": [
    {
     "name": "stdout",
     "output_type": "stream",
     "text": [
      "confusion matrix of random forest classifier is \n",
      "[[32  0]\n",
      " [ 0 34]]\n",
      "classification_report of random forest classifier at random state is:- \n",
      "              precision    recall  f1-score   support\n",
      "\n",
      "         0.0       1.00      1.00      1.00        32\n",
      "         1.0       1.00      1.00      1.00        34\n",
      "\n",
      "    accuracy                           1.00        66\n",
      "   macro avg       1.00      1.00      1.00        66\n",
      "weighted avg       1.00      1.00      1.00        66\n",
      "\n"
     ]
    }
   ],
   "source": [
    "X_train, X_test, y_train, y_test = train_test_split(x1, y1, test_size=0.2, random_state=27)\n",
    "RFR=RandomForestClassifier()\n",
    "RFR.fit(X_train, y_train)\n",
    "y_pred = RFR.predict(X_test)\n",
    "conf=confusion_matrix(y_test,y_pred)\n",
    "clas=classification_report(y_test,y_pred)\n",
    "print(\"confusion matrix of random forest classifier is \")\n",
    "print(conf)\n",
    "print(\"classification_report of random forest classifier at random state is:- \")\n",
    "print(clas)"
   ]
  },
  {
   "cell_type": "code",
   "execution_count": null,
   "id": "7d952bd8",
   "metadata": {},
   "outputs": [],
   "source": []
  },
  {
   "cell_type": "code",
   "execution_count": 106,
   "id": "781806f3",
   "metadata": {},
   "outputs": [
    {
     "name": "stdout",
     "output_type": "stream",
     "text": [
      "Best Random State  : 52\n",
      " best_accuracy_score:-  96.96969696969697\n"
     ]
    }
   ],
   "source": [
    "def select_best_random_state(x1, y1):\n",
    "    best_random_state =0\n",
    "    best_accuracy_score =0\n",
    "\n",
    "    for random_state in range(1,200):\n",
    "        X_train, X_test, y_train, y_test = train_test_split(x1, y1, test_size=0.2, random_state=random_state)\n",
    "        logistic_r= LogisticRegression()\n",
    "        \n",
    "        logistic_r.fit(X_train, y_train)\n",
    "        y_pred = logistic_r.predict(X_test)\n",
    "        acc = accuracy_score(y_test, y_pred)\n",
    "        if acc > best_accuracy_score:\n",
    "            best_accuracy_score = acc\n",
    "            best_random_state = random_state\n",
    "\n",
    "    return best_random_state, best_accuracy_score \n",
    "\n",
    "\n",
    "best_random_state, best_accuracy_score= select_best_random_state(x1, y1)\n",
    "print(\"Best Random State  :\", best_random_state)\n",
    "print(\" best_accuracy_score:- \", best_accuracy_score*100)"
   ]
  },
  {
   "cell_type": "code",
   "execution_count": 107,
   "id": "5bcb1635",
   "metadata": {},
   "outputs": [
    {
     "name": "stdout",
     "output_type": "stream",
     "text": [
      "confusion matrix of logistic regression is \n",
      "[[33  2]\n",
      " [ 0 31]]\n",
      "classification_report of logistic regression is:- \n",
      "              precision    recall  f1-score   support\n",
      "\n",
      "         0.0       1.00      0.94      0.97        35\n",
      "         1.0       0.94      1.00      0.97        31\n",
      "\n",
      "    accuracy                           0.97        66\n",
      "   macro avg       0.97      0.97      0.97        66\n",
      "weighted avg       0.97      0.97      0.97        66\n",
      "\n"
     ]
    }
   ],
   "source": [
    "X_train, X_test, y_train, y_test = train_test_split(x1, y1, test_size=0.2, random_state=52)\n",
    "logistic_r= LogisticRegression()\n",
    "logistic_r.fit(X_train, y_train)\n",
    "y_pred = logistic_r.predict(X_test)\n",
    "conf=confusion_matrix(y_test,y_pred)\n",
    "clas=classification_report(y_test,y_pred)\n",
    "print(\"confusion matrix of logistic regression is \")\n",
    "print(conf)\n",
    "print(\"classification_report of logistic regression is:- \")\n",
    "print(clas)"
   ]
  },
  {
   "cell_type": "code",
   "execution_count": null,
   "id": "ea93405c",
   "metadata": {},
   "outputs": [],
   "source": []
  },
  {
   "cell_type": "code",
   "execution_count": 108,
   "id": "09fd1bf0",
   "metadata": {},
   "outputs": [
    {
     "name": "stdout",
     "output_type": "stream",
     "text": [
      "Best Random State  : 28\n",
      " best_accuracy_score:-  100.0\n"
     ]
    }
   ],
   "source": [
    "def select_best_random_state(x1, y1):\n",
    "    best_random_state =0\n",
    "    best_accuracy_score =0\n",
    "\n",
    "    for random_state in range(1,300):\n",
    "        X_train, X_test, y_train, y_test = train_test_split(x1, y1, test_size=0.2, random_state=random_state)\n",
    "        svc= SVC()\n",
    "        \n",
    "        svc.fit(X_train, y_train)\n",
    "        y_pred = svc.predict(X_test)\n",
    "        acc = accuracy_score(y_test, y_pred)\n",
    "        if acc > best_accuracy_score:\n",
    "            best_accuracy_score = acc\n",
    "            best_random_state = random_state\n",
    "\n",
    "    return best_random_state, best_accuracy_score \n",
    "\n",
    "\n",
    "best_random_state, best_accuracy_score= select_best_random_state(x1, y1)\n",
    "print(\"Best Random State  :\", best_random_state)\n",
    "print(\" best_accuracy_score:- \", best_accuracy_score*100)"
   ]
  },
  {
   "cell_type": "code",
   "execution_count": 109,
   "id": "398dfccd",
   "metadata": {},
   "outputs": [
    {
     "name": "stdout",
     "output_type": "stream",
     "text": [
      "confusion matrix of logistic regression is \n",
      "[[34  0]\n",
      " [ 0 32]]\n",
      "classification_report of logistic regression is:- \n",
      "              precision    recall  f1-score   support\n",
      "\n",
      "         0.0       1.00      1.00      1.00        34\n",
      "         1.0       1.00      1.00      1.00        32\n",
      "\n",
      "    accuracy                           1.00        66\n",
      "   macro avg       1.00      1.00      1.00        66\n",
      "weighted avg       1.00      1.00      1.00        66\n",
      "\n"
     ]
    }
   ],
   "source": [
    "X_train, X_test, y_train, y_test = train_test_split(x1, y1, test_size=0.2, random_state=28)\n",
    "svc= SVC()\n",
    "svc.fit(X_train, y_train)\n",
    "y_pred = svc.predict(X_test)\n",
    "conf=confusion_matrix(y_test,y_pred)\n",
    "clas=classification_report(y_test,y_pred)\n",
    "print(\"confusion matrix of logistic regression is \")\n",
    "print(conf)\n",
    "print(\"classification_report of logistic regression is:- \")\n",
    "print(clas)"
   ]
  },
  {
   "cell_type": "code",
   "execution_count": null,
   "id": "1ae1ad0c",
   "metadata": {},
   "outputs": [],
   "source": []
  },
  {
   "cell_type": "code",
   "execution_count": 110,
   "id": "7712e050",
   "metadata": {},
   "outputs": [
    {
     "name": "stdout",
     "output_type": "stream",
     "text": [
      "Best Random State  : 19\n",
      " best_accuracy_score:-  100.0\n"
     ]
    }
   ],
   "source": [
    "def select_best_random_state(x1, y1):\n",
    "    best_random_state =0\n",
    "    best_accuracy_score =0\n",
    "\n",
    "    for random_state in range(1,300):\n",
    "        X_train, X_test, y_train, y_test = train_test_split(x1, y1, test_size=0.2, random_state=random_state)\n",
    "        knc=KNeighborsClassifier()\n",
    "        \n",
    "        knc.fit(X_train, y_train)\n",
    "        y_pred = knc.predict(X_test)\n",
    "        acc = accuracy_score(y_test, y_pred)\n",
    "        if acc > best_accuracy_score:\n",
    "            best_accuracy_score = acc\n",
    "            best_random_state = random_state\n",
    "\n",
    "    return best_random_state, best_accuracy_score \n",
    "\n",
    "\n",
    "best_random_state, best_accuracy_score= select_best_random_state(x1, y1)\n",
    "print(\"Best Random State  :\", best_random_state)\n",
    "print(\" best_accuracy_score:- \", best_accuracy_score*100)"
   ]
  },
  {
   "cell_type": "code",
   "execution_count": 111,
   "id": "6f16de73",
   "metadata": {},
   "outputs": [
    {
     "name": "stdout",
     "output_type": "stream",
     "text": [
      "confusion matrix of  is KNeighborsClassifier\n",
      "[[25  0]\n",
      " [ 0 41]]\n",
      "classification_report of KNeighborsClassifier is:- \n",
      "              precision    recall  f1-score   support\n",
      "\n",
      "         0.0       1.00      1.00      1.00        25\n",
      "         1.0       1.00      1.00      1.00        41\n",
      "\n",
      "    accuracy                           1.00        66\n",
      "   macro avg       1.00      1.00      1.00        66\n",
      "weighted avg       1.00      1.00      1.00        66\n",
      "\n"
     ]
    }
   ],
   "source": [
    "X_train, X_test, y_train, y_test = train_test_split(x1, y1, test_size=0.2, random_state=19)\n",
    "knc=KNeighborsClassifier()\n",
    "knc.fit(X_train, y_train)\n",
    "y_pred = knc.predict(X_test)\n",
    "conf=confusion_matrix(y_test,y_pred)\n",
    "clas=classification_report(y_test,y_pred)\n",
    "print(\"confusion matrix of  is KNeighborsClassifier\")\n",
    "print(conf)\n",
    "print(\"classification_report of KNeighborsClassifier is:- \")\n",
    "print(clas)"
   ]
  },
  {
   "cell_type": "markdown",
   "id": "83990a0e",
   "metadata": {},
   "source": [
    "# AdaBoostClassifier"
   ]
  },
  {
   "cell_type": "code",
   "execution_count": 112,
   "id": "4ea32b51",
   "metadata": {},
   "outputs": [
    {
     "name": "stdout",
     "output_type": "stream",
     "text": [
      "Best Random State  : 9\n",
      " best_accuracy_score:-  100.0\n"
     ]
    }
   ],
   "source": [
    "def select_best_random_state(x1, y1):\n",
    "    best_random_state =0\n",
    "    best_accuracy_score =0\n",
    "\n",
    "    for random_state in range(1,300):\n",
    "        X_train, X_test, y_train, y_test = train_test_split(x1, y1, test_size=0.2, random_state=random_state)\n",
    "        adb=AdaBoostClassifier()\n",
    "        \n",
    "        adb.fit(X_train, y_train)\n",
    "        y_pred = adb.predict(X_test)\n",
    "        acc = accuracy_score(y_test, y_pred)\n",
    "        if acc > best_accuracy_score:\n",
    "            best_accuracy_score = acc\n",
    "            best_random_state = random_state\n",
    "\n",
    "    return best_random_state, best_accuracy_score \n",
    "\n",
    "\n",
    "best_random_state, best_accuracy_score= select_best_random_state(x1, y1)\n",
    "print(\"Best Random State  :\", best_random_state)\n",
    "print(\" best_accuracy_score:- \", best_accuracy_score*100)"
   ]
  },
  {
   "cell_type": "code",
   "execution_count": 113,
   "id": "14f8a270",
   "metadata": {},
   "outputs": [
    {
     "name": "stdout",
     "output_type": "stream",
     "text": [
      "confusion matrix of  is AdaBoostClassifier\n",
      "[[23  0]\n",
      " [ 0 43]]\n",
      "classification_report of AdaBoostClassifier is:- \n",
      "              precision    recall  f1-score   support\n",
      "\n",
      "         0.0       1.00      1.00      1.00        23\n",
      "         1.0       1.00      1.00      1.00        43\n",
      "\n",
      "    accuracy                           1.00        66\n",
      "   macro avg       1.00      1.00      1.00        66\n",
      "weighted avg       1.00      1.00      1.00        66\n",
      "\n"
     ]
    }
   ],
   "source": [
    "X_train, X_test, y_train, y_test = train_test_split(x1, y1, test_size=0.2, random_state=9)\n",
    "adb=AdaBoostClassifier()\n",
    "adb.fit(X_train, y_train)\n",
    "y_pred = adb.predict(X_test)\n",
    "conf=confusion_matrix(y_test,y_pred)\n",
    "clas=classification_report(y_test,y_pred)\n",
    "print(\"confusion matrix of  is AdaBoostClassifier\")\n",
    "print(conf)\n",
    "print(\"classification_report of AdaBoostClassifier is:- \")\n",
    "print(clas)"
   ]
  },
  {
   "cell_type": "code",
   "execution_count": null,
   "id": "d6c16c5a",
   "metadata": {},
   "outputs": [],
   "source": []
  },
  {
   "cell_type": "code",
   "execution_count": 114,
   "id": "5feffe5a",
   "metadata": {},
   "outputs": [
    {
     "name": "stdout",
     "output_type": "stream",
     "text": [
      "Best Random State  : 12\n",
      " best_accuracy_score:-  100.0\n"
     ]
    }
   ],
   "source": [
    "def select_best_random_state(x1, y1):\n",
    "    best_random_state =0\n",
    "    best_accuracy_score =0\n",
    "\n",
    "    for random_state in range(1,300):\n",
    "        X_train, X_test, y_train, y_test = train_test_split(x1, y1, test_size=0.2, random_state=random_state)\n",
    "        dtc=DecisionTreeClassifier()\n",
    "        \n",
    "        dtc.fit(X_train, y_train)\n",
    "        y_pred = dtc.predict(X_test)\n",
    "        acc = accuracy_score(y_test, y_pred)\n",
    "        if acc > best_accuracy_score:\n",
    "            best_accuracy_score = acc\n",
    "            best_random_state = random_state\n",
    "\n",
    "    return best_random_state, best_accuracy_score \n",
    "\n",
    "\n",
    "best_random_state, best_accuracy_score= select_best_random_state(x1, y1)\n",
    "print(\"Best Random State  :\", best_random_state)\n",
    "print(\" best_accuracy_score:- \", best_accuracy_score*100)"
   ]
  },
  {
   "cell_type": "code",
   "execution_count": 115,
   "id": "5b91eae2",
   "metadata": {},
   "outputs": [
    {
     "name": "stdout",
     "output_type": "stream",
     "text": [
      "confusion matrix of  is DecisionTreeClassifier\n",
      "[[35  0]\n",
      " [ 0 31]]\n",
      "classification_report of DecisionTreeClassifier is:- \n",
      "              precision    recall  f1-score   support\n",
      "\n",
      "         0.0       1.00      1.00      1.00        35\n",
      "         1.0       1.00      1.00      1.00        31\n",
      "\n",
      "    accuracy                           1.00        66\n",
      "   macro avg       1.00      1.00      1.00        66\n",
      "weighted avg       1.00      1.00      1.00        66\n",
      "\n"
     ]
    }
   ],
   "source": [
    "X_train, X_test, y_train, y_test = train_test_split(x1, y1, test_size=0.2, random_state=12)\n",
    "dtc=DecisionTreeClassifier()\n",
    "dtc.fit(X_train, y_train)\n",
    "y_pred = dtc.predict(X_test)\n",
    "conf=confusion_matrix(y_test,y_pred)\n",
    "clas=classification_report(y_test,y_pred)\n",
    "print(\"confusion matrix of  is DecisionTreeClassifier\")\n",
    "print(conf)\n",
    "print(\"classification_report of DecisionTreeClassifier is:- \")\n",
    "print(clas)"
   ]
  },
  {
   "cell_type": "code",
   "execution_count": null,
   "id": "ee766c85",
   "metadata": {},
   "outputs": [],
   "source": []
  },
  {
   "cell_type": "code",
   "execution_count": 119,
   "id": "3b63464d",
   "metadata": {},
   "outputs": [
    {
     "name": "stdout",
     "output_type": "stream",
     "text": [
      "Best Random State  : 12\n",
      " best_accuracy_score:-  100.0\n"
     ]
    }
   ],
   "source": [
    "def select_best_random_state(x1, y1):\n",
    "    best_random_state =0\n",
    "    best_accuracy_score =0\n",
    "\n",
    "    for random_state in range(1,300):\n",
    "        X_train, X_test, y_train, y_test = train_test_split(x1, y1, test_size=0.3, random_state=random_state)\n",
    "        GBC=GradientBoostingClassifier()\n",
    "        \n",
    "        GBC.fit(X_train, y_train)\n",
    "        y_pred = GBC.predict(X_test)\n",
    "        acc = accuracy_score(y_test, y_pred)\n",
    "        if acc > best_accuracy_score:\n",
    "            best_accuracy_score = acc\n",
    "            best_random_state = random_state\n",
    "\n",
    "    return best_random_state, best_accuracy_score \n",
    "\n",
    "\n",
    "best_random_state, best_accuracy_score= select_best_random_state(x1, y1)\n",
    "print(\"Best Random State  :\", best_random_state)\n",
    "print(\" best_accuracy_score:- \", best_accuracy_score*100)"
   ]
  },
  {
   "cell_type": "code",
   "execution_count": 121,
   "id": "889ea311",
   "metadata": {},
   "outputs": [
    {
     "name": "stdout",
     "output_type": "stream",
     "text": [
      "confusion matrix of  is DecisionTreeClassifier\n",
      "[[35  0]\n",
      " [ 0 31]]\n",
      "classification_report of DecisionTreeClassifier is:- \n",
      "              precision    recall  f1-score   support\n",
      "\n",
      "         0.0       1.00      1.00      1.00        35\n",
      "         1.0       1.00      1.00      1.00        31\n",
      "\n",
      "    accuracy                           1.00        66\n",
      "   macro avg       1.00      1.00      1.00        66\n",
      "weighted avg       1.00      1.00      1.00        66\n",
      "\n"
     ]
    }
   ],
   "source": [
    "X_train, X_test, y_train, y_test = train_test_split(x1, y1, test_size=0.2, random_state=12)\n",
    "GBC=GradientBoostingClassifier()\n",
    "GBC.fit(X_train, y_train)\n",
    "y_pred = GBC.predict(X_test)\n",
    "conf=confusion_matrix(y_test,y_pred)\n",
    "clas=classification_report(y_test,y_pred)\n",
    "print(\"confusion matrix of  is DecisionTreeClassifier\")\n",
    "print(conf)\n",
    "print(\"classification_report of DecisionTreeClassifier is:- \")\n",
    "print(clas)"
   ]
  },
  {
   "cell_type": "markdown",
   "id": "2732aad6",
   "metadata": {},
   "source": [
    "# As we can see after aplying different model we find \"AdaBoost Classifier\" have best accuracy but still here we not finished we still don\"t know that wether our data is overrfitting our score maybe thats why it giving that accuracy so to check we do croos validation"
   ]
  },
  {
   "cell_type": "code",
   "execution_count": 122,
   "id": "51364296",
   "metadata": {},
   "outputs": [
    {
     "name": "stdout",
     "output_type": "stream",
     "text": [
      "96.00466200466201\n",
      "[0.98484848 1.         0.98461538 0.83076923 1.        ]\n",
      "0.039953379953379886\n"
     ]
    }
   ],
   "source": [
    "from sklearn.model_selection import StratifiedKFold\n",
    "skf=StratifiedKFold()\n",
    "\n",
    "\n",
    "skf_score=cross_val_score(RFR,x1,y1,cv=skf)\n",
    "print((skf_score.mean())*100)\n",
    "print(skf_score)\n",
    "print((best_accuracy_score)-skf_score.mean())"
   ]
  },
  {
   "cell_type": "code",
   "execution_count": 123,
   "id": "97870736",
   "metadata": {},
   "outputs": [
    {
     "name": "stdout",
     "output_type": "stream",
     "text": [
      "88.35897435897436\n",
      "[0.83333333 0.93846154 0.93846154 0.84615385 0.86153846]\n",
      "0.11641025641025637\n"
     ]
    }
   ],
   "source": [
    "# now we do it from logistic regression\n",
    "skf_score=cross_val_score(logistic_r,x1,y1,cv=skf)\n",
    "print((skf_score.mean())*100)\n",
    "print(skf_score)\n",
    "print((best_accuracy_score)-skf_score.mean())"
   ]
  },
  {
   "cell_type": "code",
   "execution_count": 126,
   "id": "55a965bd",
   "metadata": {},
   "outputs": [
    {
     "name": "stdout",
     "output_type": "stream",
     "text": [
      "95.08158508158509\n",
      "[0.98484848 0.96923077 1.         0.81538462 0.98461538]\n",
      "0.04918414918414915\n"
     ]
    }
   ],
   "source": [
    "# now we do for svc\n",
    "skf_score=cross_val_score(svc,x1,y1,cv=skf)\n",
    "print((skf_score.mean())*100)\n",
    "print(skf_score)\n",
    "print((best_accuracy_score)-skf_score.mean())"
   ]
  },
  {
   "cell_type": "code",
   "execution_count": 127,
   "id": "639cd731",
   "metadata": {},
   "outputs": [
    {
     "name": "stdout",
     "output_type": "stream",
     "text": [
      "94.47552447552448\n",
      "[0.95454545 0.96923077 1.         0.83076923 0.96923077]\n",
      "0.05524475524475514\n"
     ]
    }
   ],
   "source": [
    "# now we do for Kneighboursclassifier\n",
    "skf_score=cross_val_score(knc,x1,y1,cv=skf)\n",
    "print((skf_score.mean())*100)\n",
    "print(skf_score)\n",
    "print((best_accuracy_score)-skf_score.mean())"
   ]
  },
  {
   "cell_type": "code",
   "execution_count": 128,
   "id": "3f509459",
   "metadata": {},
   "outputs": [
    {
     "name": "stdout",
     "output_type": "stream",
     "text": [
      "96.62004662004662\n",
      "[0.98484848 1.         0.98461538 0.86153846 1.        ]\n",
      "0.03379953379953382\n"
     ]
    }
   ],
   "source": [
    "# now we do fordesciontreeclassifer\n",
    "skf_score=cross_val_score(dtc,x1,y1,cv=skf)\n",
    "print((skf_score.mean())*100)\n",
    "print(skf_score)\n",
    "print((best_accuracy_score)-skf_score.mean())"
   ]
  },
  {
   "cell_type": "code",
   "execution_count": 129,
   "id": "373a8f1a",
   "metadata": {},
   "outputs": [
    {
     "name": "stdout",
     "output_type": "stream",
     "text": [
      "95.3986013986014\n",
      "[0.95454545 1.         0.95384615 0.86153846 1.        ]\n",
      "0.046013986013985986\n"
     ]
    }
   ],
   "source": [
    "#now we do it for adaboostclassifier\n",
    "skf_score=cross_val_score(adb,x1,y1,cv=skf)\n",
    "print((skf_score.mean())*100)\n",
    "print(skf_score)\n",
    "print((best_accuracy_score)-skf_score.mean())"
   ]
  },
  {
   "cell_type": "code",
   "execution_count": 130,
   "id": "b56a5993",
   "metadata": {},
   "outputs": [
    {
     "name": "stdout",
     "output_type": "stream",
     "text": [
      "96.62937062937063\n",
      "[0.95454545 1.         0.98461538 0.89230769 1.        ]\n",
      "0.033706293706293744\n"
     ]
    }
   ],
   "source": [
    "#now we do it for GradientBoostClassifier\n",
    "skf_score=cross_val_score(GBC,x1,y1,cv=skf)\n",
    "print((skf_score.mean())*100)\n",
    "print(skf_score)\n",
    "print((best_accuracy_score)-skf_score.mean())"
   ]
  },
  {
   "cell_type": "markdown",
   "id": "8f655463",
   "metadata": {},
   "source": [
    "# From the above we can clealry see that least difference between for GradientBoosting Classifier"
   ]
  },
  {
   "cell_type": "markdown",
   "id": "2bd9ba48",
   "metadata": {},
   "source": [
    "# Hyperparameter Tuninng"
   ]
  },
  {
   "cell_type": "code",
   "execution_count": 131,
   "id": "5d59035c",
   "metadata": {},
   "outputs": [],
   "source": [
    "# now we do hyperparametertunning\n",
    "from sklearn.model_selection import GridSearchCV\n",
    "params = {\n",
    "    'n_estimators': [100,150,200],\n",
    "    'learning_rate': [0.1,0.2,0.3],\n",
    "    'max_depth': [3,4,5],\n",
    "    'subsample': [0.8,0.9,1],\n",
    "    'min_samples_split': [2,3,4],\n",
    "    'min_samples_leaf': [1,2,3],\n",
    "    'max_features': ['sqrt'],\n",
    "    'loss': ['deviance','exponential']\n",
    "}"
   ]
  },
  {
   "cell_type": "code",
   "execution_count": 132,
   "id": "00bc16de",
   "metadata": {},
   "outputs": [],
   "source": [
    "grid_searchs = GridSearchCV(estimator=GBC, param_grid=params, cv=skf)"
   ]
  },
  {
   "cell_type": "code",
   "execution_count": 133,
   "id": "c70b21ac",
   "metadata": {},
   "outputs": [
    {
     "data": {
      "text/plain": [
       "GridSearchCV(cv=StratifiedKFold(n_splits=5, random_state=None, shuffle=False),\n",
       "             estimator=GradientBoostingClassifier(),\n",
       "             param_grid={'learning_rate': [0.1, 0.2, 0.3],\n",
       "                         'loss': ['deviance', 'exponential'],\n",
       "                         'max_depth': [3, 4, 5], 'max_features': ['sqrt'],\n",
       "                         'min_samples_leaf': [1, 2, 3],\n",
       "                         'min_samples_split': [2, 3, 4],\n",
       "                         'n_estimators': [100, 150, 200],\n",
       "                         'subsample': [0.8, 0.9, 1]})"
      ]
     },
     "execution_count": 133,
     "metadata": {},
     "output_type": "execute_result"
    }
   ],
   "source": [
    "grid_searchs.fit(X_train,y_train)"
   ]
  },
  {
   "cell_type": "code",
   "execution_count": 134,
   "id": "30c17072",
   "metadata": {},
   "outputs": [
    {
     "data": {
      "text/plain": [
       "{'learning_rate': 0.1,\n",
       " 'loss': 'deviance',\n",
       " 'max_depth': 5,\n",
       " 'max_features': 'sqrt',\n",
       " 'min_samples_leaf': 2,\n",
       " 'min_samples_split': 3,\n",
       " 'n_estimators': 200,\n",
       " 'subsample': 0.8}"
      ]
     },
     "execution_count": 134,
     "metadata": {},
     "output_type": "execute_result"
    }
   ],
   "source": [
    "grid_searchs.best_params_\n"
   ]
  },
  {
   "cell_type": "markdown",
   "id": "a1611c4e",
   "metadata": {},
   "source": [
    "# now we get our final best_parameters now we use to build our final model"
   ]
  },
  {
   "cell_type": "code",
   "execution_count": 136,
   "id": "9db58b44",
   "metadata": {},
   "outputs": [
    {
     "name": "stdout",
     "output_type": "stream",
     "text": [
      "accuracy of our final model is :- \n",
      "100.0\n"
     ]
    }
   ],
   "source": [
    "best_model_glass=GradientBoostingClassifier(learning_rate= 0.1,loss='deviance',max_depth= 3,max_features='sqrt',min_samples_leaf= 2,min_samples_split= 3,n_estimators= 100,subsample= 0.8)\n",
    "best_model_glass.fit(X_train,y_train)\n",
    "pred=best_model_glass.predict(X_test)\n",
    "ac=accuracy_score(y_test,pred)\n",
    "accurate=(ac*100)\n",
    "print(\"accuracy of our final model is :- \")\n",
    "print(accurate)"
   ]
  },
  {
   "cell_type": "code",
   "execution_count": 137,
   "id": "04b0bcbd",
   "metadata": {},
   "outputs": [
    {
     "name": "stdout",
     "output_type": "stream",
     "text": [
      "confusion matrix of our final model glass is\n",
      "[[35  0]\n",
      " [ 0 31]]\n",
      "Classsification report of our final model glass is \n",
      "              precision    recall  f1-score   support\n",
      "\n",
      "         0.0       1.00      1.00      1.00        35\n",
      "         1.0       1.00      1.00      1.00        31\n",
      "\n",
      "    accuracy                           1.00        66\n",
      "   macro avg       1.00      1.00      1.00        66\n",
      "weighted avg       1.00      1.00      1.00        66\n",
      "\n"
     ]
    }
   ],
   "source": [
    "conf_final_model_glass=confusion_matrix(y_test,pred)\n",
    "print(\"confusion matrix of our final model glass is\")\n",
    "print(conf_final_model_glass)\n",
    "clas_final_model_glass=classification_report(y_test,pred)\n",
    "print(\"Classsification report of our final model glass is \")\n",
    "print(clas_final_model_glass)"
   ]
  },
  {
   "cell_type": "code",
   "execution_count": 138,
   "id": "e1145897",
   "metadata": {},
   "outputs": [],
   "source": [
    "import pickle\n",
    "project_name=\"glass_prediction.pkl\"\n",
    "pickle.dump(best_model_glass,open(project_name,'wb'))"
   ]
  },
  {
   "cell_type": "code",
   "execution_count": 140,
   "id": "624c319a",
   "metadata": {},
   "outputs": [
    {
     "name": "stdout",
     "output_type": "stream",
     "text": [
      "100.0\n"
     ]
    }
   ],
   "source": [
    "import pickle\n",
    "load_final_model=pickle.load(open('glass_prediction.pkl','rb'))\n",
    "final_result=load_final_model.score(X_test,y_test)\n",
    "print(final_result*100)"
   ]
  },
  {
   "cell_type": "code",
   "execution_count": 141,
   "id": "ad32ca3d",
   "metadata": {},
   "outputs": [
    {
     "data": {
      "text/html": [
       "<div>\n",
       "<style scoped>\n",
       "    .dataframe tbody tr th:only-of-type {\n",
       "        vertical-align: middle;\n",
       "    }\n",
       "\n",
       "    .dataframe tbody tr th {\n",
       "        vertical-align: top;\n",
       "    }\n",
       "\n",
       "    .dataframe thead th {\n",
       "        text-align: right;\n",
       "    }\n",
       "</style>\n",
       "<table border=\"1\" class=\"dataframe\">\n",
       "  <thead>\n",
       "    <tr style=\"text-align: right;\">\n",
       "      <th></th>\n",
       "      <th>0</th>\n",
       "      <th>1</th>\n",
       "      <th>2</th>\n",
       "      <th>3</th>\n",
       "      <th>4</th>\n",
       "      <th>5</th>\n",
       "      <th>6</th>\n",
       "      <th>7</th>\n",
       "      <th>8</th>\n",
       "      <th>9</th>\n",
       "      <th>...</th>\n",
       "      <th>56</th>\n",
       "      <th>57</th>\n",
       "      <th>58</th>\n",
       "      <th>59</th>\n",
       "      <th>60</th>\n",
       "      <th>61</th>\n",
       "      <th>62</th>\n",
       "      <th>63</th>\n",
       "      <th>64</th>\n",
       "      <th>65</th>\n",
       "    </tr>\n",
       "  </thead>\n",
       "  <tbody>\n",
       "    <tr>\n",
       "      <th>predicted</th>\n",
       "      <td>0.0</td>\n",
       "      <td>0.0</td>\n",
       "      <td>1.0</td>\n",
       "      <td>1.0</td>\n",
       "      <td>0.0</td>\n",
       "      <td>1.0</td>\n",
       "      <td>1.0</td>\n",
       "      <td>1.0</td>\n",
       "      <td>0.0</td>\n",
       "      <td>1.0</td>\n",
       "      <td>...</td>\n",
       "      <td>1.0</td>\n",
       "      <td>0.0</td>\n",
       "      <td>0.0</td>\n",
       "      <td>0.0</td>\n",
       "      <td>1.0</td>\n",
       "      <td>1.0</td>\n",
       "      <td>0.0</td>\n",
       "      <td>0.0</td>\n",
       "      <td>1.0</td>\n",
       "      <td>1.0</td>\n",
       "    </tr>\n",
       "    <tr>\n",
       "      <th>original</th>\n",
       "      <td>0.0</td>\n",
       "      <td>0.0</td>\n",
       "      <td>1.0</td>\n",
       "      <td>1.0</td>\n",
       "      <td>0.0</td>\n",
       "      <td>1.0</td>\n",
       "      <td>1.0</td>\n",
       "      <td>1.0</td>\n",
       "      <td>0.0</td>\n",
       "      <td>1.0</td>\n",
       "      <td>...</td>\n",
       "      <td>1.0</td>\n",
       "      <td>0.0</td>\n",
       "      <td>0.0</td>\n",
       "      <td>0.0</td>\n",
       "      <td>1.0</td>\n",
       "      <td>1.0</td>\n",
       "      <td>0.0</td>\n",
       "      <td>0.0</td>\n",
       "      <td>1.0</td>\n",
       "      <td>1.0</td>\n",
       "    </tr>\n",
       "  </tbody>\n",
       "</table>\n",
       "<p>2 rows × 66 columns</p>\n",
       "</div>"
      ],
      "text/plain": [
       "            0    1    2    3    4    5    6    7    8    9   ...   56   57  \\\n",
       "predicted  0.0  0.0  1.0  1.0  0.0  1.0  1.0  1.0  0.0  1.0  ...  1.0  0.0   \n",
       "original   0.0  0.0  1.0  1.0  0.0  1.0  1.0  1.0  0.0  1.0  ...  1.0  0.0   \n",
       "\n",
       "            58   59   60   61   62   63   64   65  \n",
       "predicted  0.0  0.0  1.0  1.0  0.0  0.0  1.0  1.0  \n",
       "original   0.0  0.0  1.0  1.0  0.0  0.0  1.0  1.0  \n",
       "\n",
       "[2 rows x 66 columns]"
      ]
     },
     "execution_count": 141,
     "metadata": {},
     "output_type": "execute_result"
    }
   ],
   "source": [
    "target_variable_prediction=pd.DataFrame([load_final_model.predict(X_test)[:],y_test[:]],index=[\"predicted\",\"original\"])\n",
    "target_variable_prediction"
   ]
  },
  {
   "cell_type": "markdown",
   "id": "9e2abfab",
   "metadata": {},
   "source": [
    "As you can clealry see that from target_variable_prediction chart that whatever we predicted and the originally data was matching correctly almost 100% correctly so this model is very good"
   ]
  },
  {
   "cell_type": "markdown",
   "id": "cd6ed34d",
   "metadata": {},
   "source": [
    "# Our final model is build and score is 100% correct and almost it predict close to original datset"
   ]
  },
  {
   "cell_type": "code",
   "execution_count": null,
   "id": "f65b283e",
   "metadata": {},
   "outputs": [],
   "source": []
  }
 ],
 "metadata": {
  "kernelspec": {
   "display_name": "Python 3 (ipykernel)",
   "language": "python",
   "name": "python3"
  },
  "language_info": {
   "codemirror_mode": {
    "name": "ipython",
    "version": 3
   },
   "file_extension": ".py",
   "mimetype": "text/x-python",
   "name": "python",
   "nbconvert_exporter": "python",
   "pygments_lexer": "ipython3",
   "version": "3.9.12"
  }
 },
 "nbformat": 4,
 "nbformat_minor": 5
}
